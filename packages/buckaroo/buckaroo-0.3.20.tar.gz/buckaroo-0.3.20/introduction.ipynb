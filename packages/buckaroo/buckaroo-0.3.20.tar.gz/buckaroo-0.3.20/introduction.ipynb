{
 "cells": [
  {
   "cell_type": "code",
   "execution_count": 1,
   "metadata": {},
   "outputs": [
    {
     "name": "stdout",
     "output_type": "stream",
     "text": [
      "Intel MKL WARNING: Support of Intel(R) Streaming SIMD Extensions 4.2 (Intel(R) SSE4.2) enabled only processors has been deprecated. Intel oneAPI Math Kernel Library 2025.0 will require Intel(R) Advanced Vector Extensions (Intel(R) AVX) instructions.\n",
      "Intel MKL WARNING: Support of Intel(R) Streaming SIMD Extensions 4.2 (Intel(R) SSE4.2) enabled only processors has been deprecated. Intel oneAPI Math Kernel Library 2025.0 will require Intel(R) Advanced Vector Extensions (Intel(R) AVX) instructions.\n"
     ]
    }
   ],
   "source": [
    "import pandas as pd\n",
    "import numpy as np\n",
    "from buckaroo.buckaroo_widget import BuckarooWidget"
   ]
  },
  {
   "cell_type": "code",
   "execution_count": null,
   "metadata": {},
   "outputs": [],
   "source": [
    "df = pd.read_csv('/Users/paddy/code/citibike-play/2014-01 - Citi Bike trip data.csv')\n",
    "BuckarooWidget(df[:10_000])"
   ]
  },
  {
   "cell_type": "code",
   "execution_count": null,
   "metadata": {},
   "outputs": [],
   "source": [
    "def sample(df, sample_size=500, include_outliers=True):\n",
    "    \n",
    "    sample_size = np.min([sample_size, len(df)])\n",
    "    sdf = df.sample(sample_size)\n",
    "    \n",
    "    \n",
    "    if include_outliers:\n",
    "        outlier_idxs = []\n",
    "        for col in df.columns:\n",
    "            idxs = df[col].sort_values().index\n",
    "            outlier_idxs.extend(idxs[:5])\n",
    "            outlier_idxs.extend(idxs[-5:])\n",
    "        outlier_idxs.extend(sdf.index)\n",
    "        uniq_idx = np.unique(outlier_idxs)\n",
    "        #print(uniq_idx)\n",
    "        return df.iloc[uniq_idx]\n",
    "    return sdf\n"
   ]
  },
  {
   "cell_type": "code",
   "execution_count": null,
   "metadata": {},
   "outputs": [],
   "source": [
    "%timeit sample(df, 500)"
   ]
  },
  {
   "cell_type": "code",
   "execution_count": null,
   "metadata": {},
   "outputs": [],
   "source": [
    "%timeit sample(df, 10)"
   ]
  },
  {
   "cell_type": "code",
   "execution_count": null,
   "metadata": {},
   "outputs": [],
   "source": [
    "%timeit sample(df, 5000)"
   ]
  },
  {
   "cell_type": "code",
   "execution_count": null,
   "metadata": {},
   "outputs": [],
   "source": [
    "len(sample(df))"
   ]
  },
  {
   "cell_type": "code",
   "execution_count": null,
   "metadata": {},
   "outputs": [],
   "source": [
    "df.iloc[[23,58, 1023]]"
   ]
  },
  {
   "cell_type": "code",
   "execution_count": null,
   "metadata": {},
   "outputs": [],
   "source": [
    "import numpy as np"
   ]
  },
  {
   "cell_type": "code",
   "execution_count": null,
   "metadata": {},
   "outputs": [],
   "source": [
    "df = pd.read_csv('./examples/data/2014-01-citibike-tripdata.csv')\n",
    "w = BuckarooWidget(df)\n",
    "w"
   ]
  },
  {
   "cell_type": "code",
   "execution_count": null,
   "metadata": {},
   "outputs": [],
   "source": [
    "ab = df['tripduration']\n",
    "ab.sort_values()"
   ]
  },
  {
   "cell_type": "code",
   "execution_count": null,
   "metadata": {},
   "outputs": [],
   "source": [
    "sorted_ab = ab.sort_values()\n",
    "sorted_ab.index[:5]"
   ]
  },
  {
   "cell_type": "code",
   "execution_count": null,
   "metadata": {},
   "outputs": [],
   "source": [
    "import numpy as np"
   ]
  },
  {
   "cell_type": "code",
   "execution_count": null,
   "metadata": {},
   "outputs": [],
   "source": [
    "np.unique([2,2,3])"
   ]
  },
  {
   "cell_type": "code",
   "execution_count": null,
   "metadata": {},
   "outputs": [],
   "source": [
    "df['start station name'].sort_values()"
   ]
  },
  {
   "cell_type": "code",
   "execution_count": null,
   "metadata": {},
   "outputs": [],
   "source": [
    "np.array([2,2,3]).unique()"
   ]
  },
  {
   "cell_type": "code",
   "execution_count": null,
   "metadata": {},
   "outputs": [],
   "source": [
    "a = []\n",
    "a.extend([23,45], [32,5])\n",
    "a"
   ]
  },
  {
   "cell_type": "code",
   "execution_count": null,
   "metadata": {},
   "outputs": [],
   "source": [
    "df.columns"
   ]
  },
  {
   "cell_type": "code",
   "execution_count": null,
   "metadata": {},
   "outputs": [],
   "source": [
    "bc = df.sample(300)"
   ]
  },
  {
   "cell_type": "code",
   "execution_count": null,
   "metadata": {},
   "outputs": [],
   "source": [
    "bc.index"
   ]
  },
  {
   "cell_type": "code",
   "execution_count": null,
   "metadata": {},
   "outputs": [],
   "source": [
    "arr = [2,3]\n",
    "arr.extend(df.index)"
   ]
  },
  {
   "cell_type": "code",
   "execution_count": null,
   "metadata": {},
   "outputs": [],
   "source": [
    "df.iloc[[137, 137, 138]]"
   ]
  },
  {
   "cell_type": "code",
   "execution_count": null,
   "metadata": {},
   "outputs": [],
   "source": [
    "pd.concat([df.iloc[sorted_ab.index[:5]], df[20:50]])"
   ]
  },
  {
   "cell_type": "code",
   "execution_count": null,
   "metadata": {},
   "outputs": [],
   "source": [
    "from buckaroo.all_transforms import Command\n",
    "from buckaroo.lispy import s\n",
    "#Here we start adding commands to the Buckaroo Widget.  Every call to add_command replaces a command with the same name\n",
    "@w.add_command\n",
    "class GroupBy2(Command):\n",
    "    command_default = [s(\"groupby2\"), s('df'), 'col', {}]\n",
    "    command_pattern = [[3, 'colMap', 'colEnum', ['null', 'sum', 'mean', 'median', 'count']]]\n",
    "    @staticmethod \n",
    "    def transform(df, col, col_spec):\n",
    "        grps = df.groupby(col)\n",
    "        df_contents = {}\n",
    "        for k, v in col_spec.items():\n",
    "            if v == \"sum\":\n",
    "                df_contents[k] = grps[k].apply(lambda x: x.sum())\n",
    "            elif v == \"mean\":\n",
    "                df_contents[k] = grps[k].apply(lambda x: x.mean())\n",
    "            elif v == \"median\":\n",
    "                df_contents[k] = grps[k].apply(lambda x: x.median())\n",
    "            elif v == \"count\":\n",
    "                df_contents[k] = grps[k].apply(lambda x: x.count())\n",
    "        return pd.DataFrame(df_contents)\n",
    "\n",
    "    @staticmethod \n",
    "    def transform_to_py(df, col, col_spec):\n",
    "        commands = [\n",
    "            \"    grps = df.groupby('%s')\" % col,\n",
    "            \"    df_contents = {}\"\n",
    "        ]\n",
    "        for k, v in col_spec.items():\n",
    "            if v == \"sum\":\n",
    "                commands.append(\"    paddydf_contents['%s'] = grps['%s'].apply(lambda x: x.sum())\" % (k, k))\n",
    "            elif v == \"mean\":\n",
    "                commands.append(\"    df_contents['%s'] = grps['%s'].apply(lambda x: x.mean())\" % (k, k))\n",
    "            elif v == \"median\":\n",
    "                commands.append(\"    df_contents['%s'] = grps['%s'].apply(lambda x: x.median())\" % (k, k))\n",
    "            elif v == \"count\":\n",
    "                commands.append(\"    df_contents['%s'] = grps['%s'].apply(lambda x: x.count())\" % (k, k))\n",
    "        commands.append(\"    df = pd.DataFrame(df_contents)\")\n",
    "        return \"\\n\".join(commands)\n"
   ]
  },
  {
   "cell_type": "code",
   "execution_count": null,
   "metadata": {},
   "outputs": [],
   "source": []
  },
  {
   "cell_type": "code",
   "execution_count": 2,
   "metadata": {},
   "outputs": [
    {
     "data": {
      "text/plain": [
       "array([0.98543491, 0.88189975, 0.8519125 , 0.34405232, 0.64923551,\n",
       "       0.76498397, 0.08317026, 0.33898759, 0.8959272 , 0.84532194,\n",
       "       0.61846565, 0.97065402, 0.33760845, 0.14928914, 0.46931127,\n",
       "       0.44402314, 0.3851214 , 0.30878261, 0.15215036, 0.30283917,\n",
       "       0.34619956, 0.94479008, 0.52277332, 0.46966805, 0.01990334,\n",
       "       0.0090225 , 0.18186927, 0.67424679, 0.38775559, 0.48266829,\n",
       "       0.83345845, 0.7639416 , 0.71366249, 0.40440437, 0.0687034 ,\n",
       "       0.99350699, 0.02384897, 0.61694475, 0.16986129, 0.76552384,\n",
       "       0.49479425, 0.50517121, 0.80248113, 0.38342123, 0.25053957,\n",
       "       0.09369322, 0.53027412, 0.80884121, 0.96754405, 0.10643695,\n",
       "       0.30732228, 0.09244387, 0.75280274, 0.66100238, 0.21485027,\n",
       "       0.74945128, 0.45370822, 0.88729706, 0.18465771, 0.01511092,\n",
       "       0.13943961, 0.68186614, 0.68525074, 0.90057088, 0.58703984,\n",
       "       0.47070748, 0.85631468, 0.48696279, 0.94382412, 0.91341682,\n",
       "       0.85296105, 0.05317179, 0.68182398, 0.13682457, 0.43423833,\n",
       "       0.98276478, 0.26740801, 0.73420044, 0.80780702, 0.476105  ,\n",
       "       0.587292  , 0.00186236, 0.81152695, 0.42044342, 0.13466556,\n",
       "       0.76170374, 0.52000642, 0.93240774, 0.97551015, 0.65619746,\n",
       "       0.81113788, 0.90734312, 0.76348578, 0.15419325, 0.56967834,\n",
       "       0.89901476, 0.87296504, 0.6050323 , 0.87922915, 0.58874466])"
      ]
     },
     "execution_count": 2,
     "metadata": {},
     "output_type": "execute_result"
    }
   ],
   "source": [
    "np.random.rand(1,100)[0]"
   ]
  },
  {
   "cell_type": "code",
   "execution_count": 5,
   "metadata": {
    "tags": []
   },
   "outputs": [
    {
     "data": {
      "text/plain": [
       "array([0.12371643, 0.27411337, 0.44275076, 0.21505491, 0.57833314])"
      ]
     },
     "execution_count": 5,
     "metadata": {},
     "output_type": "execute_result"
    }
   ],
   "source": [
    "np.random.random_sample(5)"
   ]
  },
  {
   "cell_type": "code",
   "execution_count": 28,
   "metadata": {},
   "outputs": [
    {
     "data": {
      "text/plain": [
       "<Axes: >"
      ]
     },
     "execution_count": 28,
     "metadata": {},
     "output_type": "execute_result"
    },
    {
     "data": {
      "image/png": "[encoded data removed]",
      "text/plain": [
       "<Figure size 640x480 with 1 Axes>"
      ]
     },
     "metadata": {},
     "output_type": "display_data"
    }
   ],
   "source": [
    "arr = np.random.standard_normal(5000) * 100\n",
    "arr = arr.astype(int)\n",
    "ser = pd.Series(arr)\n",
    "ser.hist()"
   ]
  },
  {
   "cell_type": "code",
   "execution_count": 29,
   "metadata": {
    "tags": []
   },
   "outputs": [
    {
     "data": {
      "text/plain": [
       "array([   3,   17,  124,  501, 1079, 1483, 1123,  497,  156,   17])"
      ]
     },
     "execution_count": 29,
     "metadata": {},
     "output_type": "execute_result"
    }
   ],
   "source": [
    "populations, endpoints = np.histogram(arr, 10)\n",
    "populations"
   ]
  },
  {
   "cell_type": "code",
   "execution_count": 32,
   "metadata": {
    "tags": []
   },
   "outputs": [
    {
     "data": {
      "text/plain": [
       "array([-406. , -332.3, -258.6, -184.9, -111.2,  -37.5,   36.2,  109.9,\n",
       "        183.6,  257.3,  331. ])"
      ]
     },
     "execution_count": 32,
     "metadata": {},
     "output_type": "execute_result"
    }
   ],
   "source": [
    "endpoints"
   ]
  },
  {
   "cell_type": "code",
   "execution_count": 38,
   "metadata": {
    "tags": []
   },
   "outputs": [
    {
     "data": {
      "text/plain": [
       "['-406   -332',\n",
       " '-332   -258',\n",
       " '-258   -184',\n",
       " '-184   -111',\n",
       " '-111   -37',\n",
       " '-37   36',\n",
       " '36   109',\n",
       " '109   183',\n",
       " '183   257',\n",
       " '257   331']"
      ]
     },
     "execution_count": 38,
     "metadata": {},
     "output_type": "execute_result"
    }
   ],
   "source": [
    "def histogram_labels(endpoints):\n",
    "    left = endpoints[0]\n",
    "    labels = []\n",
    "    for edge in endpoints[1:]:\n",
    "        labels.append(\"%d   %d\" % (left, edge))\n",
    "        left = edge\n",
    "    return labels\n",
    "histogram_labels(endpoints)"
   ]
  },
  {
   "cell_type": "code",
   "execution_count": 42,
   "metadata": {
    "tags": []
   },
   "outputs": [
    {
     "data": {
      "text/plain": [
       "array([0.0006, 0.0034, 0.0248, 0.1002, 0.2158, 0.2966, 0.2246, 0.0994,\n",
       "       0.0312, 0.0034])"
      ]
     },
     "execution_count": 42,
     "metadata": {},
     "output_type": "execute_result"
    }
   ],
   "source": [
    "normalized_pop = populations / populations.sum()\n",
    "normalized_pop"
   ]
  },
  {
   "cell_type": "code",
   "execution_count": 44,
   "metadata": {
    "tags": []
   },
   "outputs": [
    {
     "data": {
      "text/plain": [
       "{'-406   -332': 0.0006,\n",
       " '-332   -258': 0.0034,\n",
       " '-258   -184': 0.0248,\n",
       " '-184   -111': 0.1002,\n",
       " '-111   -37': 0.2158,\n",
       " '-37   36': 0.2966,\n",
       " '36   109': 0.2246,\n",
       " '109   183': 0.0994,\n",
       " '183   257': 0.0312,\n",
       " '257   331': 0.0034}"
      ]
     },
     "execution_count": 44,
     "metadata": {},
     "output_type": "execute_result"
    }
   ],
   "source": [
    "dict(zip( histogram_labels(endpoints), normalized_pop))"
   ]
  },
  {
   "cell_type": "code",
   "execution_count": 45,
   "metadata": {
    "tags": []
   },
   "outputs": [
    {
     "data": {
      "text/plain": [
       "[{'name': '-406   -332', 'population': 0.0006},\n",
       " {'name': '-332   -258', 'population': 0.0034},\n",
       " {'name': '-258   -184', 'population': 0.0248},\n",
       " {'name': '-184   -111', 'population': 0.1002},\n",
       " {'name': '-111   -37', 'population': 0.2158},\n",
       " {'name': '-37   36', 'population': 0.2966},\n",
       " {'name': '36   109', 'population': 0.2246},\n",
       " {'name': '109   183', 'population': 0.0994},\n",
       " {'name': '183   257', 'population': 0.0312},\n",
       " {'name': '257   331', 'population': 0.0034}]"
      ]
     },
     "execution_count": 45,
     "metadata": {},
     "output_type": "execute_result"
    }
   ],
   "source": [
    "def histogram_formatted_dict(arr):\n",
    "    populations, endpoints = np.histogram(arr, 10)\n",
    "    labels = histogram_labels(endpoints)\n",
    "    normalized_pop = populations / populations.sum()\n",
    "    ret_histo = []\n",
    "    for label, pop in zip(labels, normalized_pop):\n",
    "        ret_histo.append({'name': label, 'population':pop})\n",
    "    return ret_histo\n",
    "histogram_formatted_dict(arr)"
   ]
  },
  {
   "cell_type": "code",
   "execution_count": null,
   "metadata": {},
   "outputs": [],
   "source": []
  }
 ],
 "metadata": {
  "kernelspec": {
   "display_name": "Python 3 (ipykernel)",
   "language": "python",
   "name": "python3"
  },
  "language_info": {
   "codemirror_mode": {
    "name": "ipython",
    "version": 3
   },
   "file_extension": ".py",
   "mimetype": "text/x-python",
   "name": "python",
   "nbconvert_exporter": "python",
   "pygments_lexer": "ipython3",
   "version": "3.11.4"
  }
 },
 "nbformat": 4,
 "nbformat_minor": 4
}
