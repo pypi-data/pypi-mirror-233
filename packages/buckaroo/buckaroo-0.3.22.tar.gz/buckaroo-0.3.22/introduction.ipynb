{
 "cells": [
  {
   "cell_type": "code",
   "execution_count": null,
   "metadata": {},
   "outputs": [],
   "source": [
    "import pandas as pd\n",
    "import numpy as np\n",
    "from buckaroo.buckaroo_widget import BuckarooWidget"
   ]
  },
  {
   "cell_type": "code",
   "execution_count": null,
   "metadata": {},
   "outputs": [],
   "source": [
    "df = pd.read_csv('/Users/paddy/code/citibike-play/2014-01 - Citi Bike trip data.csv')\n",
    "df"
   ]
  },
  {
   "cell_type": "code",
   "execution_count": null,
   "metadata": {},
   "outputs": [],
   "source": [
    "w = BuckarooWidget(df, showCommands=False)\n",
    "w"
   ]
  },
  {
   "cell_type": "markdown",
   "metadata": {},
   "source": [
    "# Adding a summary stat"
   ]
  },
  {
   "cell_type": "code",
   "execution_count": null,
   "metadata": {
    "tags": []
   },
   "outputs": [],
   "source": [
    "from buckaroo.pluggable_analysis_framework import (ColAnalysis)\n",
    "from scipy.stats import skew\n",
    "class Skew(ColAnalysis):\n",
    "    provided_summary = [\"skew\"]\n",
    "    requires_summary = []\n",
    "    \n",
    "    @staticmethod\n",
    "    def summary(sampled_ser, summary_ser, ser):\n",
    "        if pd.api.types.is_integer_dtype(sampled_ser):\n",
    "            return dict(skew=skew(sampled_ser.astype('int64')))\n",
    "        elif pd.api.types.is_float_dtype(sampled_ser):\n",
    "            return dict(skew=skew(sampled_ser.astype('float64')))\n",
    "        else:\n",
    "            return dict(skew=\"NA\")\n",
    "    summary_stats_display = [\n",
    "        'dtype',\n",
    "        'length',\n",
    "        'nan_count',\n",
    "        'distinct_count',\n",
    "        'empty_count',\n",
    "        'empty_per',\n",
    "        'unique_per',\n",
    "        'nan_per',\n",
    "        'is_numeric',\n",
    "        'is_integer',\n",
    "        'is_datetime',\n",
    "        'mode',\n",
    "        'min',\n",
    "        'max',\n",
    "        'mean',\n",
    "        # we must add skew to the list of summary_stats_display, otherwise our new stat won't be displayed\n",
    "        'skew']\n",
    "w.add_analysis(Skew)"
   ]
  },
  {
   "cell_type": "code",
   "execution_count": null,
   "metadata": {
    "tags": []
   },
   "outputs": [],
   "source": [
    "w.stats.presentation_sdf"
   ]
  },
  {
   "cell_type": "markdown",
   "metadata": {},
   "source": [
    "# Making a new default dataframe display function"
   ]
  },
  {
   "cell_type": "code",
   "execution_count": null,
   "metadata": {},
   "outputs": [],
   "source": []
  },
  {
   "cell_type": "code",
   "execution_count": null,
   "metadata": {
    "tags": []
   },
   "outputs": [],
   "source": [
    "from buckaroo.widget_utils import disable\n",
    "from IPython.core.getipython import get_ipython\n",
    "from IPython.display import display\n",
    "import warnings\n",
    "\n",
    "disable()\n",
    "def my_display_as_buckaroo(df):\n",
    "    w  = BuckarooWidget(df, showCommands=False)\n",
    "    #the analysis we added throws warnings, let's muffle that when used as the default display\n",
    "    warnings.filterwarnings('ignore')\n",
    "    w.add_analysis(Skew)\n",
    "    warnings.filterwarnings('default')\n",
    "    return display(w)\n",
    "\n",
    "def my_enable():\n",
    "    \"\"\"\n",
    "    Automatically use buckaroo to display all DataFrames\n",
    "    instances in the notebook.\n",
    "\n",
    "    \"\"\"\n",
    "    ip = get_ipython()\n",
    "    if ip is None:\n",
    "        print(\"must be running inside ipython to enable default display via enable()\")\n",
    "        return\n",
    "    ip_formatter = ip.display_formatter.ipython_display_formatter\n",
    "    ip_formatter.for_type(pd.DataFrame, my_display_as_buckaroo)\n",
    "my_enable()"
   ]
  },
  {
   "cell_type": "code",
   "execution_count": null,
   "metadata": {
    "tags": []
   },
   "outputs": [],
   "source": [
    "df"
   ]
  },
  {
   "cell_type": "markdown",
   "metadata": {},
   "source": [
    "# Adding a Command to the Low Code UI"
   ]
  },
  {
   "cell_type": "code",
   "execution_count": null,
   "metadata": {},
   "outputs": [],
   "source": [
    "from buckaroo.all_transforms import Command\n",
    "from buckaroo.lispy import s\n",
    "#Here we start adding commands to the Buckaroo Widget.  Every call to add_command replaces a command with the same name\n",
    "@w.add_command\n",
    "class GroupBy2(Command):\n",
    "    command_default = [s(\"groupby2\"), s('df'), 'col', {}]\n",
    "    command_pattern = [[3, 'colMap', 'colEnum', ['null', 'sum', 'mean', 'median', 'count']]]\n",
    "    @staticmethod \n",
    "    def transform(df, col, col_spec):\n",
    "        grps = df.groupby(col)\n",
    "        df_contents = {}\n",
    "        for k, v in col_spec.items():\n",
    "            if v == \"sum\":\n",
    "                df_contents[k] = grps[k].apply(lambda x: x.sum())\n",
    "            elif v == \"mean\":\n",
    "                df_contents[k] = grps[k].apply(lambda x: x.mean())\n",
    "            elif v == \"median\":\n",
    "                df_contents[k] = grps[k].apply(lambda x: x.median())\n",
    "            elif v == \"count\":\n",
    "                df_contents[k] = grps[k].apply(lambda x: x.count())\n",
    "        return pd.DataFrame(df_contents)\n",
    "\n",
    "    @staticmethod \n",
    "    def transform_to_py(df, col, col_spec):\n",
    "        commands = [\n",
    "            \"    grps = df.groupby('%s')\" % col,\n",
    "            \"    df_contents = {}\"\n",
    "        ]\n",
    "        for k, v in col_spec.items():\n",
    "            if v == \"sum\":\n",
    "                commands.append(\"    paddydf_contents['%s'] = grps['%s'].apply(lambda x: x.sum())\" % (k, k))\n",
    "            elif v == \"mean\":\n",
    "                commands.append(\"    df_contents['%s'] = grps['%s'].apply(lambda x: x.mean())\" % (k, k))\n",
    "            elif v == \"median\":\n",
    "                commands.append(\"    df_contents['%s'] = grps['%s'].apply(lambda x: x.median())\" % (k, k))\n",
    "            elif v == \"count\":\n",
    "                commands.append(\"    df_contents['%s'] = grps['%s'].apply(lambda x: x.count())\" % (k, k))\n",
    "        commands.append(\"    df = pd.DataFrame(df_contents)\")\n",
    "        return \"\\n\".join(commands)\n"
   ]
  },
  {
   "cell_type": "markdown",
   "metadata": {},
   "source": [
    "Note that `groupby2` has been added to the commands"
   ]
  },
  {
   "cell_type": "code",
   "execution_count": null,
   "metadata": {},
   "outputs": [],
   "source": []
  }
 ],
 "metadata": {
  "kernelspec": {
   "display_name": "Python 3 (ipykernel)",
   "language": "python",
   "name": "python3"
  },
  "language_info": {
   "codemirror_mode": {
    "name": "ipython",
    "version": 3
   },
   "file_extension": ".py",
   "mimetype": "text/x-python",
   "name": "python",
   "nbconvert_exporter": "python",
   "pygments_lexer": "ipython3",
   "version": "3.11.4"
  }
 },
 "nbformat": 4,
 "nbformat_minor": 4
}
