{
 "cells": [
  {
   "cell_type": "markdown",
   "id": "b462968a-945a-40aa-95a2-982ba6cb0f26",
   "metadata": {},
   "source": [
    "# binda Example Usage\n",
    "This notebook provides a walkthrough example of analysing and editing a binary file using binda.\n",
    "\n",
    "The example will load a jpeg file, analyse its Exif metadata and change the make and model of the camera used to take the photo.\n",
    "\n",
    "The specificaton of the jpeg Exif metadata is provided here: https://www.media.mit.edu/pia/Research/deepview/exif.html\n",
    "\n"
   ]
  },
  {
   "cell_type": "markdown",
   "id": "97e3bd3d-7dc8-4e4b-a804-8560dabeb4f4",
   "metadata": {},
   "source": [
    "## Import binda"
   ]
  },
  {
   "cell_type": "code",
   "execution_count": 1,
   "id": "d6cc1463-7e03-4810-b877-e3e647b4720b",
   "metadata": {},
   "outputs": [],
   "source": [
    "import binda as bd"
   ]
  },
  {
   "cell_type": "markdown",
   "id": "9d65275a-b021-473c-9761-5c4ecc0c1b01",
   "metadata": {},
   "source": [
    "## Load photo\n",
    "Load as binary data"
   ]
  },
  {
   "cell_type": "code",
   "execution_count": 3,
   "id": "6141a4bd-0c33-4199-8e8e-b93000d77e9b",
   "metadata": {},
   "outputs": [],
   "source": [
    "data = None\n",
    "with open('PHOTO.JPG', 'rb') as file:\n",
    "  data = file.read()"
   ]
  },
  {
   "cell_type": "markdown",
   "id": "db34982e-9ba4-42cc-be74-a8f48b65d650",
   "metadata": {},
   "source": [
    "# Read JPEG Header\n",
    "\n",
    "We need to determine the byteorder for the Exif data. This differs between camera manafacturers. To get this, create a structure defining the first 14 bytes of the jpeg file. The 2 last of these contain the byte order as a 2 byte string.\n",
    "\n",
    "## Define the Structure of the header\n",
    "All tags will be defined as a big endian int, and converted to a hex string by applying hex to the dataframe column. This will make it easier to reconcile the tags against the spec document.\n",
    "* 2 bytes for the jpeg marker containing 0xff, 0xdb\n",
    "* 2 bytes for the exif marker containing 0xff, 0xe1\n",
    "* 2 byte int for the size of the exif section\n",
    "* 4 byte string containing 'Exif'\n",
    "* 2 bytes containing 0x00, 0x00\n",
    "* 2 bytes to indicate ByteOrder. 'II' for little endian and 'MM' for big endian\n",
    "\n",
    "## Create a data handler and read it\n",
    "* Create the data handler\n",
    "* Read and display the header"
   ]
  },
  {
   "cell_type": "code",
   "execution_count": 4,
   "id": "56f81f55-8780-4236-803e-ae63eedeb188",
   "metadata": {},
   "outputs": [
    {
     "name": "stdout",
     "output_type": "stream",
     "text": [
      "EXIF tags use a big endian byte order.\n"
     ]
    },
    {
     "data": {
      "text/html": [
       "<div>\n",
       "<style scoped>\n",
       "    .dataframe tbody tr th:only-of-type {\n",
       "        vertical-align: middle;\n",
       "    }\n",
       "\n",
       "    .dataframe tbody tr th {\n",
       "        vertical-align: top;\n",
       "    }\n",
       "\n",
       "    .dataframe thead th {\n",
       "        text-align: right;\n",
       "    }\n",
       "</style>\n",
       "<table border=\"1\" class=\"dataframe\">\n",
       "  <thead>\n",
       "    <tr style=\"text-align: right;\">\n",
       "      <th></th>\n",
       "      <th>jpeg_tag</th>\n",
       "      <th>exif_tag</th>\n",
       "      <th>exif_size</th>\n",
       "      <th>exif_label</th>\n",
       "      <th>zeros</th>\n",
       "      <th>byteorder</th>\n",
       "    </tr>\n",
       "  </thead>\n",
       "  <tbody>\n",
       "    <tr>\n",
       "      <th>0</th>\n",
       "      <td>0xffd8</td>\n",
       "      <td>0xffe1</td>\n",
       "      <td>65071</td>\n",
       "      <td>Exif</td>\n",
       "      <td>0</td>\n",
       "      <td>MM</td>\n",
       "    </tr>\n",
       "  </tbody>\n",
       "</table>\n",
       "</div>"
      ],
      "text/plain": [
       "  jpeg_tag exif_tag  exif_size exif_label  zeros byteorder\n",
       "0   0xffd8   0xffe1      65071       Exif      0        MM"
      ]
     },
     "execution_count": 4,
     "metadata": {},
     "output_type": "execute_result"
    }
   ],
   "source": [
    "# Define the header structure\n",
    "jpeg_header_sructure = bd.Structure(0, [\n",
    "      bd.Variable(name='jpeg_tag', size=2, datatype=int, byteorder=bd.ByteOrder.BIG),\n",
    "      bd.Variable(name='exif_tag', size=2, datatype=int, byteorder=bd.ByteOrder.BIG),\n",
    "      bd.Variable(name='exif_size', size=2, datatype=int),\n",
    "      bd.Variable(name='exif_label', size=4, datatype=str),\n",
    "      bd.Variable(name='zeros', size=2, datatype=int),\n",
    "      bd.Variable(name='byteorder', size=2, datatype=str)\n",
    "    ])\n",
    "\n",
    "# Create a data handler and read the Exif header. Exif strings are in ascii format\n",
    "handler = bd.DataHandler(data, structures={'jpeg_header': jpeg_header_sructure}, str_encode='ascii')\n",
    "jpeg_header = handler.read_structure('jpeg_header')\n",
    "\n",
    "# Convert the tags to a hex string.\n",
    "jpeg_header['jpeg_tag'] = jpeg_header['jpeg_tag'].apply(hex)\n",
    "jpeg_header['exif_tag'] = jpeg_header['exif_tag'].apply(hex)\n",
    "\n",
    "# Get the byte order\n",
    "byteorder = bd.ByteOrder.LITTLE if jpeg_header.loc[0, 'byteorder'] == 'II' else bd.ByteOrder.BIG\n",
    "print(f\"EXIF tags use a {byteorder.value} endian byte order.\")\n",
    "jpeg_header"
   ]
  },
  {
   "cell_type": "markdown",
   "id": "c25f0826-e6ec-4cbf-8c23-ce0824130eca",
   "metadata": {},
   "source": [
    "## Read the Exif Image File Directory (IFD) Header\n",
    "Now that we know the byte order, we can read the first IFD header (IFD0). This contains the tags for the main image contained in the jpeg file. Reading the header will give us the number of IFD tags contained in the jpeg file.\n",
    "* Define the structure and add it to the data handler\n",
    "* Read and display the directory header\n",
    "* Get the number of tags available in the IFD"
   ]
  },
  {
   "cell_type": "code",
   "execution_count": 5,
   "id": "35d4e644-9bb5-42d0-b028-d846b3393988",
   "metadata": {},
   "outputs": [
    {
     "name": "stdout",
     "output_type": "stream",
     "text": [
      "There are 11 EXIF tags.\n"
     ]
    },
    {
     "data": {
      "text/html": [
       "<div>\n",
       "<style scoped>\n",
       "    .dataframe tbody tr th:only-of-type {\n",
       "        vertical-align: middle;\n",
       "    }\n",
       "\n",
       "    .dataframe tbody tr th {\n",
       "        vertical-align: top;\n",
       "    }\n",
       "\n",
       "    .dataframe thead th {\n",
       "        text-align: right;\n",
       "    }\n",
       "</style>\n",
       "<table border=\"1\" class=\"dataframe\">\n",
       "  <thead>\n",
       "    <tr style=\"text-align: right;\">\n",
       "      <th></th>\n",
       "      <th>ifd_tag</th>\n",
       "      <th>ifd_start</th>\n",
       "      <th>num_ifd0_tags</th>\n",
       "    </tr>\n",
       "  </thead>\n",
       "  <tbody>\n",
       "    <tr>\n",
       "      <th>0</th>\n",
       "      <td>0x2a00</td>\n",
       "      <td>8</td>\n",
       "      <td>11</td>\n",
       "    </tr>\n",
       "  </tbody>\n",
       "</table>\n",
       "</div>"
      ],
      "text/plain": [
       "  ifd_tag  ifd_start  num_ifd0_tags\n",
       "0  0x2a00          8             11"
      ]
     },
     "execution_count": 5,
     "metadata": {},
     "output_type": "execute_result"
    }
   ],
   "source": [
    "# Define the structure for the IFD header.\n",
    "# 2 bytes for the IFD marker (2A00)\n",
    "# 4 bytes pointing to where the IFD directory starts. Should be 8 \n",
    "# 2 byte int for the number of entries / tags\n",
    "ifd_header_structure = bd.Structure(len(jpeg_header_sructure), [\n",
    "      bd.Variable(name='ifd_tag', size=2, datatype=int),  # 2A00\n",
    "      bd.Variable(name='ifd_start', size=4, datatype=int, byteorder=byteorder),\n",
    "      bd.Variable(name='num_ifd0_tags', size=2, datatype=int, byteorder=byteorder),\n",
    "    ])\n",
    "\n",
    "handler.add_structure('ifd_header', ifd_header_structure)\n",
    "\n",
    "# Read the diretory header, convert the ifd0 tag and get the number of tags and display\n",
    "ifd_header = handler.read_structure('ifd_header')\n",
    "ifd_header['ifd_tag'] = ifd_header['ifd_tag'].apply(hex)\n",
    "num_tags = ifd_header.loc[0, 'num_ifd0_tags']\n",
    "print(f\"There are {num_tags} EXIF tags.\")\n",
    "ifd_header"
   ]
  },
  {
   "cell_type": "markdown",
   "id": "481dd05e-6a3e-4315-93ac-7279ef01deed",
   "metadata": {},
   "source": [
    "## Read the Directory Tags\n",
    "We now know that the Exif data is stored with a big endian byte structure and that there are 11 tags. We still need to find out which tags are available and the data type. To do this we can perform an initial read of the Exif tags, which will give us the Tag ID and the data type. Each Exif tag consists of a:\n",
    "* 2 byte tag;\n",
    "* 2 byte format; and\n",
    "* 4 byte component count.\n",
    "\n",
    "The 2 byte format is one of the following:\n",
    "|Format Code|Format Desc|Size|\n",
    "|---|---|---|\n",
    "|1|Unsigned Byte|1|\n",
    "|2|ASCII String|1|\n",
    "|3|Unsigned Short|2|\n",
    "|4|Unsigned Long|4|\n",
    "|5|Unsigned Rational|8|\n",
    "|6|Signed Byte|1|\n",
    "|7|Undefined|1|\n",
    "|8|Signed Short|2|\n",
    "|8|Signed Long|4|\n",
    "|9|Signed Rational|8|\n",
    "|10|Single|4|\n",
    "|11|Double|8|"
   ]
  },
  {
   "cell_type": "code",
   "execution_count": 6,
   "id": "395cbde3-aa47-4b50-a67d-2842e569f79b",
   "metadata": {},
   "outputs": [
    {
     "data": {
      "text/html": [
       "<div>\n",
       "<style scoped>\n",
       "    .dataframe tbody tr th:only-of-type {\n",
       "        vertical-align: middle;\n",
       "    }\n",
       "\n",
       "    .dataframe tbody tr th {\n",
       "        vertical-align: top;\n",
       "    }\n",
       "\n",
       "    .dataframe thead th {\n",
       "        text-align: right;\n",
       "    }\n",
       "</style>\n",
       "<table border=\"1\" class=\"dataframe\">\n",
       "  <thead>\n",
       "    <tr style=\"text-align: right;\">\n",
       "      <th></th>\n",
       "      <th>id</th>\n",
       "      <th>format</th>\n",
       "      <th>count</th>\n",
       "      <th>value</th>\n",
       "    </tr>\n",
       "  </thead>\n",
       "  <tbody>\n",
       "    <tr>\n",
       "      <th>0</th>\n",
       "      <td>0x10f</td>\n",
       "      <td>2</td>\n",
       "      <td>6</td>\n",
       "      <td>b'\\x00\\x00\\x00\\x92'</td>\n",
       "    </tr>\n",
       "    <tr>\n",
       "      <th>1</th>\n",
       "      <td>0x110</td>\n",
       "      <td>2</td>\n",
       "      <td>10</td>\n",
       "      <td>b'\\x00\\x00\\x00\\x98'</td>\n",
       "    </tr>\n",
       "    <tr>\n",
       "      <th>2</th>\n",
       "      <td>0x112</td>\n",
       "      <td>3</td>\n",
       "      <td>1</td>\n",
       "      <td>b'\\x00\\x01\\x00\\x00'</td>\n",
       "    </tr>\n",
       "    <tr>\n",
       "      <th>3</th>\n",
       "      <td>0x11a</td>\n",
       "      <td>5</td>\n",
       "      <td>1</td>\n",
       "      <td>b'\\x00\\x00\\x00\\xa2'</td>\n",
       "    </tr>\n",
       "    <tr>\n",
       "      <th>4</th>\n",
       "      <td>0x11b</td>\n",
       "      <td>5</td>\n",
       "      <td>1</td>\n",
       "      <td>b'\\x00\\x00\\x00\\xaa'</td>\n",
       "    </tr>\n",
       "    <tr>\n",
       "      <th>5</th>\n",
       "      <td>0x128</td>\n",
       "      <td>3</td>\n",
       "      <td>1</td>\n",
       "      <td>b'\\x00\\x02\\x00\\x00'</td>\n",
       "    </tr>\n",
       "    <tr>\n",
       "      <th>6</th>\n",
       "      <td>0x131</td>\n",
       "      <td>2</td>\n",
       "      <td>6</td>\n",
       "      <td>b'\\x00\\x00\\x00\\xb2'</td>\n",
       "    </tr>\n",
       "    <tr>\n",
       "      <th>7</th>\n",
       "      <td>0x132</td>\n",
       "      <td>2</td>\n",
       "      <td>20</td>\n",
       "      <td>b'\\x00\\x00\\x00\\xb8'</td>\n",
       "    </tr>\n",
       "    <tr>\n",
       "      <th>8</th>\n",
       "      <td>0x213</td>\n",
       "      <td>3</td>\n",
       "      <td>1</td>\n",
       "      <td>b'\\x00\\x01\\x00\\x00'</td>\n",
       "    </tr>\n",
       "    <tr>\n",
       "      <th>9</th>\n",
       "      <td>0x8769</td>\n",
       "      <td>4</td>\n",
       "      <td>1</td>\n",
       "      <td>b'\\x00\\x00\\x00\\xcc'</td>\n",
       "    </tr>\n",
       "    <tr>\n",
       "      <th>10</th>\n",
       "      <td>0x8825</td>\n",
       "      <td>4</td>\n",
       "      <td>1</td>\n",
       "      <td>b'\\x00\\x00\\x06&gt;'</td>\n",
       "    </tr>\n",
       "  </tbody>\n",
       "</table>\n",
       "</div>"
      ],
      "text/plain": [
       "        id  format  count                value\n",
       "0    0x10f       2      6  b'\\x00\\x00\\x00\\x92'\n",
       "1    0x110       2     10  b'\\x00\\x00\\x00\\x98'\n",
       "2    0x112       3      1  b'\\x00\\x01\\x00\\x00'\n",
       "3    0x11a       5      1  b'\\x00\\x00\\x00\\xa2'\n",
       "4    0x11b       5      1  b'\\x00\\x00\\x00\\xaa'\n",
       "5    0x128       3      1  b'\\x00\\x02\\x00\\x00'\n",
       "6    0x131       2      6  b'\\x00\\x00\\x00\\xb2'\n",
       "7    0x132       2     20  b'\\x00\\x00\\x00\\xb8'\n",
       "8    0x213       3      1  b'\\x00\\x01\\x00\\x00'\n",
       "9   0x8769       4      1  b'\\x00\\x00\\x00\\xcc'\n",
       "10  0x8825       4      1     b'\\x00\\x00\\x06>'"
      ]
     },
     "execution_count": 6,
     "metadata": {},
     "output_type": "execute_result"
    }
   ],
   "source": [
    "# Define the structure for the directory tags. This is a repeating structure of [num_tags] rows\n",
    "tags_structure = bd.Structure(ifd_header_structure.start + len(ifd_header_structure), \n",
    "                              rows=num_tags, \n",
    "                              variables=[\n",
    "                                  bd.Variable(name='id', size=2, datatype=int, byteorder=byteorder),\n",
    "                                  bd.Variable(name='format', size=2, datatype=int, byteorder=byteorder),\n",
    "                                  bd.Variable(name='count', size=4, datatype=int, byteorder=byteorder),\n",
    "                                  bd.Variable(name='value', size=4, datatype=bytes, byteorder=byteorder),\n",
    "    ])\n",
    "\n",
    "handler.add_structure('tags', tags_structure)\n",
    "\n",
    "# Read and display the structure\n",
    "tags_data = handler.read_structure('tags')\n",
    "tags_data['id'] = tags_data['id'].apply(hex)\n",
    "tags_data"
   ]
  },
  {
   "cell_type": "markdown",
   "id": "5d6a928d-c6d5-4bbd-a4e9-b1a7262c65f8",
   "metadata": {},
   "source": [
    "## Get Make an Model\n",
    "Get the make and model of the camera used to take the photo.\n",
    "\n",
    "Make is stored in tag 0x011f and model is stored in tag 0x0110. We can tell from the above output that both of these have a format of 2, which corresponds to a string. \n",
    "\n",
    "Both of these contain a count > 4, which means the value is the offset to where the data is stored, not the value itself. We will need these as an int.\n",
    "\n",
    "Create and read a new structure for these 2 tags, defining the value as an int. Luckly they are the first 2 tags so we already know the start position. If we were editing other tags, we would need to calculate the start position by adding (row num * num bytes in row) to the start location."
   ]
  },
  {
   "cell_type": "code",
   "execution_count": 7,
   "id": "e7c8ffb2-bacb-48e1-8018-12baf6607cc0",
   "metadata": {
    "scrolled": true
   },
   "outputs": [
    {
     "data": {
      "text/html": [
       "<div>\n",
       "<style scoped>\n",
       "    .dataframe tbody tr th:only-of-type {\n",
       "        vertical-align: middle;\n",
       "    }\n",
       "\n",
       "    .dataframe tbody tr th {\n",
       "        vertical-align: top;\n",
       "    }\n",
       "\n",
       "    .dataframe thead th {\n",
       "        text-align: right;\n",
       "    }\n",
       "</style>\n",
       "<table border=\"1\" class=\"dataframe\">\n",
       "  <thead>\n",
       "    <tr style=\"text-align: right;\">\n",
       "      <th></th>\n",
       "      <th>id</th>\n",
       "      <th>format</th>\n",
       "      <th>count</th>\n",
       "      <th>value</th>\n",
       "    </tr>\n",
       "  </thead>\n",
       "  <tbody>\n",
       "    <tr>\n",
       "      <th>0</th>\n",
       "      <td>0x10f</td>\n",
       "      <td>2</td>\n",
       "      <td>6</td>\n",
       "      <td>146</td>\n",
       "    </tr>\n",
       "    <tr>\n",
       "      <th>1</th>\n",
       "      <td>0x110</td>\n",
       "      <td>2</td>\n",
       "      <td>10</td>\n",
       "      <td>152</td>\n",
       "    </tr>\n",
       "  </tbody>\n",
       "</table>\n",
       "</div>"
      ],
      "text/plain": [
       "      id  format  count  value\n",
       "0  0x10f       2      6    146\n",
       "1  0x110       2     10    152"
      ]
     },
     "execution_count": 7,
     "metadata": {},
     "output_type": "execute_result"
    }
   ],
   "source": [
    "# Define the structure for the directory tags. This is a repeating structure of [num_tags] rows\n",
    "make_and_model_tags_location = bd.Structure(ifd_header_structure.start + len(ifd_header_structure), \n",
    "                              rows=2, \n",
    "                              variables=[\n",
    "                                  bd.Variable(name='id', size=2, datatype=int, byteorder=byteorder),\n",
    "                                  bd.Variable(name='format', size=2, datatype=int, byteorder=byteorder),\n",
    "                                  bd.Variable(name='count', size=4, datatype=int, byteorder=byteorder),\n",
    "                                  bd.Variable(name='value', size=4, datatype=int, byteorder=byteorder),\n",
    "    ])\n",
    "\n",
    "handler.add_structure('mm_tags', make_and_model_tags_location)\n",
    "\n",
    "# Read and display the structure\n",
    "tags_data = handler.read_structure('mm_tags')\n",
    "tags_data['id'] = tags_data['id'].apply(hex)\n",
    "tags_data"
   ]
  },
  {
   "cell_type": "markdown",
   "id": "c2d1bb29-72d0-4a1d-b068-ab698f7dfde9",
   "metadata": {},
   "source": [
    "### Read the make and model\n",
    "THe values are the location of the corresponding data within the tags section, which starts at byte 12.\n",
    "* Create a variable for make with an offset 12 + 146, a type of str and a size of 6.\n",
    "* Create a variable for model with an offset of 12 + 152, a type of str and a size of 10.\n",
    "* Read them."
   ]
  },
  {
   "cell_type": "code",
   "execution_count": 8,
   "id": "54cc5378-8e8b-4f11-84d7-756f9627a793",
   "metadata": {},
   "outputs": [
    {
     "name": "stdout",
     "output_type": "stream",
     "text": [
      "The photo was taken with a Apple\u0000 iPhone 6s\u0000\n"
     ]
    }
   ],
   "source": [
    "make_var = bd.Variable(name='make', offset=146+12, size=6, datatype=str)\n",
    "model_var = bd.Variable(name='model', offset=152+12, size=10, datatype=str)\n",
    "make = handler.read_variable(make_var)\n",
    "model = handler.read_variable(model_var)\n",
    "print(f\"The photo was taken with a {make} {model}\")"
   ]
  },
  {
   "cell_type": "markdown",
   "id": "e4841760-ef6c-471e-8ed3-f9a9f06b1d23",
   "metadata": {},
   "source": [
    "## Change the Make and Model tags\n",
    "We can edit the tags using write_variable, passing in the new data. This will edit the data in the datahandler, which can then be saved to a new file."
   ]
  },
  {
   "cell_type": "code",
   "execution_count": 9,
   "id": "a484dc29-145c-4ac2-b048-42b6000d3504",
   "metadata": {},
   "outputs": [],
   "source": [
    "handler.write_variable('Giroux', make_var)\n",
    "handler.write_variable('Daguerreo', model_var)\n",
    "\n",
    "with open('PHOTO_EDITED.JPG', 'wb') as file:\n",
    "  data = file.write(handler.data)"
   ]
  },
  {
   "cell_type": "markdown",
   "id": "6df4ad80-eb33-4b18-b44d-3e45cd0cf1a5",
   "metadata": {},
   "source": [
    "## Confirm that it has worked\n",
    "We can confirm that our tags have been written by checking the properties of the new photo PHOTO_EDITED.jpg"
   ]
  },
  {
   "cell_type": "markdown",
   "id": "4d6bfe12-58c3-4883-a0d2-cd1544593487",
   "metadata": {},
   "source": [
    "Changes can also be made by editing a dataframe saving the changes using save_structure."
   ]
  }
 ],
 "metadata": {
  "kernelspec": {
   "display_name": "Python 3 (Spyder)",
   "language": "python3",
   "name": "python3"
  },
  "language_info": {
   "codemirror_mode": {
    "name": "ipython",
    "version": 3
   },
   "file_extension": ".py",
   "mimetype": "text/x-python",
   "name": "python",
   "nbconvert_exporter": "python",
   "pygments_lexer": "ipython3",
   "version": "3.11.5"
  }
 },
 "nbformat": 4,
 "nbformat_minor": 5
}
