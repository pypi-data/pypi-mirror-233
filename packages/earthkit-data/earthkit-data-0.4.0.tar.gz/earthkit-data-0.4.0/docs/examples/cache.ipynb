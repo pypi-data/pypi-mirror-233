{
 "cells": [
  {
   "cell_type": "markdown",
   "id": "65c27cc6-55b9-4d36-af83-c35cbd00caf3",
   "metadata": {},
   "source": [
    "## Cache policies"
   ]
  },
  {
   "cell_type": "code",
   "execution_count": 1,
   "id": "64c27d94-7d5b-4a0f-9e72-708be1609527",
   "metadata": {},
   "outputs": [],
   "source": [
    "import earthkit.data\n",
    "from earthkit.data import settings, cache"
   ]
  },
  {
   "attachments": {},
   "cell_type": "markdown",
   "id": "17b90c39-c493-4d9a-95ec-fa13740a04ad",
   "metadata": {},
   "source": [
    "earthkit-data caches most of the remote data access and some GRIB/BUFR indexing information in a local cache. Running again *from_source()* will use the cached data instead of downloading it again."
   ]
  },
  {
   "cell_type": "markdown",
   "id": "3d93c85a-3c9b-4496-990d-8612fcb82fcf",
   "metadata": {},
   "source": [
    "In the examples below we will change the settings multiple times. First we ensure all the changes are temporary and no settings are saved into the configuration file. We also reset the settings to the defaults: "
   ]
  },
  {
   "cell_type": "code",
   "execution_count": 2,
   "id": "71214b97-2b64-442d-bd23-98f831b064d0",
   "metadata": {},
   "outputs": [],
   "source": [
    "settings.auto_save_settings = False\n",
    "settings.reset()"
   ]
  },
  {
   "cell_type": "markdown",
   "id": "df5b047f-a34e-4a70-82d7-b7bb1fcc2fc2",
   "metadata": {},
   "source": [
    "#### User defined cache directory"
   ]
  },
  {
   "attachments": {},
   "cell_type": "markdown",
   "id": "adc31ffe-78a7-4f67-b82a-aa3df81a7e1e",
   "metadata": {},
   "source": [
    "The primary key to control the cache in the settings is **\"cache-policy\"**. The default value is **\"user\"**, which means that the cache is created in the directory defined by the **\"user-cache-directory\"** settings.\n",
    "\n",
    "The user cache directory is not cleaned up on exit. So next time you start earthkit.data it will be (probably) there again. Also, when you run multiple sessions of earthkit-data under the same user they will share the same cache. "
   ]
  },
  {
   "attachments": {},
   "cell_type": "markdown",
   "id": "da6e1e1c-c248-4301-ab89-fea50b73bf57",
   "metadata": {},
   "source": [
    "The settings tells us all the details about the cache policy and location:"
   ]
  },
  {
   "cell_type": "code",
   "execution_count": 3,
   "id": "4c2afb82-c630-451f-88e5-f80c8aa404ac",
   "metadata": {},
   "outputs": [
    {
     "name": "stdout",
     "output_type": "stream",
     "text": [
      "user\n",
      "/var/folders/ng/g0zkhc2s42xbslpsywwp_26m0000gn/T/earthkit-data-cgr\n"
     ]
    }
   ],
   "source": [
    "print(settings.get(\"cache-policy\"))\n",
    "print(settings.get(\"user-cache-directory\"))"
   ]
  },
  {
   "cell_type": "markdown",
   "id": "68e82597-7ef4-40d4-abcb-c3d260a0425e",
   "metadata": {},
   "source": [
    "The path to the current cache directory can also be queried through the **cache** object:"
   ]
  },
  {
   "cell_type": "code",
   "execution_count": 4,
   "id": "44583d41-f1d3-4c28-8af5-90d659cdae31",
   "metadata": {},
   "outputs": [
    {
     "data": {
      "text/plain": [
       "'/var/folders/ng/g0zkhc2s42xbslpsywwp_26m0000gn/T/earthkit-data-cgr'"
      ]
     },
     "execution_count": 4,
     "metadata": {},
     "output_type": "execute_result"
    }
   ],
   "source": [
    "cache.cache_directory()"
   ]
  },
  {
   "cell_type": "markdown",
   "id": "f6665b3b-5176-4161-9671-b20eb3bcc483",
   "metadata": {},
   "source": [
    "We are free to change the user cache directory to another path:"
   ]
  },
  {
   "cell_type": "code",
   "execution_count": 5,
   "id": "ea59e447-084e-4bf4-8635-744c769a92e2",
   "metadata": {},
   "outputs": [
    {
     "data": {
      "text/plain": [
       "'~/earthkit-data-demo-cache'"
      ]
     },
     "execution_count": 5,
     "metadata": {},
     "output_type": "execute_result"
    }
   ],
   "source": [
    "settings.set(\"user-cache-directory\", \"~/earthkit-data-demo-cache\")\n",
    "cache.cache_directory()"
   ]
  },
  {
   "cell_type": "markdown",
   "id": "f79ee6a2-3fa1-4149-a5e2-d1b0937be633",
   "metadata": {},
   "source": [
    "#### Temporary cache directory"
   ]
  },
  {
   "attachments": {},
   "cell_type": "markdown",
   "id": "49e4e9a1-6f11-497e-9cd8-ac2a46b42374",
   "metadata": {},
   "source": [
    "When the **\"cache-policy\"** is set to **\"temporary\"** the cache will be located in a temporary directory created by *tempfile.TemporaryDirectory*. This directory will be **unique** for each earthkit.data session. When the directory object goes out of scope (at the latest on exit) the cache is cleaned up. "
   ]
  },
  {
   "cell_type": "code",
   "execution_count": 6,
   "id": "36aa1fad-2594-4a43-b115-60ac0e602a9a",
   "metadata": {},
   "outputs": [
    {
     "data": {
      "text/plain": [
       "'/var/folders/ng/g0zkhc2s42xbslpsywwp_26m0000gn/T/tmp_5bf5kq8'"
      ]
     },
     "execution_count": 6,
     "metadata": {},
     "output_type": "execute_result"
    }
   ],
   "source": [
    "settings.set(\"cache-policy\", \"temporary\")\n",
    "cache.cache_directory()"
   ]
  },
  {
   "attachments": {},
   "cell_type": "markdown",
   "id": "1c0adeae-ab1f-4c6b-a4ca-ee513410fc62",
   "metadata": {},
   "source": [
    "We can specify the parent directory for the the temporary cache by using the **\"temporary-cache-directory-root\"** settings. By default it is set to None (no parent directory specified)."
   ]
  },
  {
   "cell_type": "code",
   "execution_count": 7,
   "id": "7b057350-7fed-4204-b825-e782f93883b6",
   "metadata": {},
   "outputs": [
    {
     "data": {
      "text/plain": [
       "'~/my_demo_cache/tmp0iiuvsz5'"
      ]
     },
     "execution_count": 7,
     "metadata": {},
     "output_type": "execute_result"
    }
   ],
   "source": [
    "s = {\"cache-policy\": \"temporary\", \n",
    "     \"temporary-cache-directory-root\": \"~/my_demo_cache\"}\n",
    "settings.set(s)\n",
    "cache.cache_directory()"
   ]
  },
  {
   "cell_type": "markdown",
   "id": "013203c6-b841-4365-9e4f-976d4270b786",
   "metadata": {},
   "source": [
    "#### Turning off caching"
   ]
  },
  {
   "cell_type": "markdown",
   "id": "506d7fec-30ca-4137-918e-afb26b436732",
   "metadata": {},
   "source": [
    "It is also possible to turn caching off completely by setting the **\"cache-policy\"** to **\"off\"**."
   ]
  },
  {
   "cell_type": "code",
   "execution_count": 8,
   "id": "0052928c-b8fb-4ec5-82b2-5bc16533af06",
   "metadata": {},
   "outputs": [
    {
     "data": {
      "text/plain": [
       "True"
      ]
     },
     "execution_count": 8,
     "metadata": {},
     "output_type": "execute_result"
    }
   ],
   "source": [
    "settings.set(\"cache-policy\", \"off\")\n",
    "cache.cache_directory() is None"
   ]
  },
  {
   "cell_type": "code",
   "execution_count": null,
   "id": "de64b61b-ba84-4c6d-8801-b6fbd8d782ff",
   "metadata": {},
   "outputs": [],
   "source": []
  }
 ],
 "metadata": {
  "kernelspec": {
   "display_name": "dev",
   "language": "python",
   "name": "dev"
  },
  "language_info": {
   "codemirror_mode": {
    "name": "ipython",
    "version": 3
   },
   "file_extension": ".py",
   "mimetype": "text/x-python",
   "name": "python",
   "nbconvert_exporter": "python",
   "pygments_lexer": "ipython3",
   "version": "3.10.11"
  }
 },
 "nbformat": 4,
 "nbformat_minor": 5
}
