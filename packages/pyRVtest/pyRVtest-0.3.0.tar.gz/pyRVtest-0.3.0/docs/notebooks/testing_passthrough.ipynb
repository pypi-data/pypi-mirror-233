{
 "cells": [
  {
   "cell_type": "code",
   "execution_count": null,
   "outputs": [],
   "source": [
    "import numpy as np"
   ],
   "metadata": {
    "collapsed": false
   }
  },
  {
   "cell_type": "code",
   "execution_count": null,
   "outputs": [],
   "source": [
    "np.load('')"
   ],
   "metadata": {
    "collapsed": false
   }
  },
  {
   "cell_type": "code",
   "execution_count": null,
   "outputs": [],
   "source": [
    "id_data = pyblp.build_id_data(T=10, J=20, F=10)"
   ],
   "metadata": {
    "collapsed": false
   }
  },
  {
   "cell_type": "code",
   "execution_count": null,
   "outputs": [],
   "source": [
    "integration = pyblp.Integration('product', 9)"
   ],
   "metadata": {
    "collapsed": false
   }
  },
  {
   "cell_type": "code",
   "execution_count": null,
   "outputs": [],
   "source": [
    "simulation = pyblp.Simulation(\n",
    "   product_formulations=(\n",
    "       pyblp.Formulation('1 + prices + x'),\n",
    "       pyblp.Formulation('0 + x'),\n",
    "       pyblp.Formulation('0 + x + z')\n",
    "   ),\n",
    "   beta=[1, -2, 2],\n",
    "   sigma=1,\n",
    "   gamma=[1, 4],\n",
    "   product_data=id_data,\n",
    "   integration=integration,\n",
    "   seed=0\n",
    ")"
   ],
   "metadata": {
    "collapsed": false
   }
  },
  {
   "cell_type": "code",
   "execution_count": null,
   "outputs": [],
   "source": [
    "simulation_results = simulation.replace_endogenous()"
   ],
   "metadata": {
    "collapsed": false
   }
  },
  {
   "cell_type": "code",
   "execution_count": null,
   "outputs": [],
   "source": [
    "problem = simulation_results.to_problem()"
   ],
   "metadata": {
    "collapsed": false
   }
  },
  {
   "cell_type": "code",
   "execution_count": null,
   "outputs": [],
   "source": [
    "results = problem.solve(\n",
    "    sigma=0.5 * simulation.sigma,\n",
    "    pi=0.5 * simulation.pi,\n",
    "    beta=[None, 0.5 * simulation.beta[1], None],\n",
    "    method='1s',\n",
    "    optimization=pyblp.Optimization('return')\n",
    ")"
   ],
   "metadata": {
    "collapsed": false
   }
  },
  {
   "cell_type": "code",
   "execution_count": null,
   "outputs": [],
   "source": [
    "pyblp_passthrough = results.compute_passthrough()\n",
    "pyblp_passthrough"
   ],
   "metadata": {
    "collapsed": false
   }
  },
  {
   "cell_type": "markdown",
   "source": [],
   "metadata": {
    "collapsed": false
   }
  },
  {
   "cell_type": "code",
   "execution_count": null,
   "outputs": [],
   "source": [
    "marginal_costs = pd.Series(np.squeeze(simulation_results.costs))\n",
    "marginal_costs_tilde = marginal_costs.copy()\n",
    "marginal_costs_tilde[0] = marginal_costs[0] + .001\n",
    "simulation_results_1 = simulation.replace_endogenous(costs=marginal_costs_tilde)"
   ],
   "metadata": {
    "collapsed": false
   }
  },
  {
   "cell_type": "code",
   "execution_count": null,
   "outputs": [],
   "source": [
    "prices_high = simulation_results_1.product_data['prices']\n",
    "prices_high"
   ],
   "metadata": {
    "collapsed": false
   }
  },
  {
   "cell_type": "code",
   "execution_count": null,
   "outputs": [],
   "source": [
    "marginal_costs = pd.Series(np.squeeze(simulation_results.costs))\n",
    "marginal_costs_tilde = marginal_costs.copy()\n",
    "marginal_costs_tilde[0] = marginal_costs[0] - .001\n",
    "simulation_results_1 = simulation.replace_endogenous(costs=marginal_costs_tilde)"
   ],
   "metadata": {
    "collapsed": false
   }
  },
  {
   "cell_type": "code",
   "execution_count": null,
   "outputs": [],
   "source": [
    "prices_low = simulation_results_1.product_data['prices']\n",
    "prices_low"
   ],
   "metadata": {
    "collapsed": false
   }
  },
  {
   "cell_type": "code",
   "execution_count": null,
   "outputs": [],
   "source": [
    "numerical_passthrough = (prices_high - prices_low) / .002\n",
    "numerical_passthrough"
   ],
   "metadata": {
    "collapsed": false
   }
  },
  {
   "cell_type": "code",
   "execution_count": null,
   "outputs": [],
   "source": [
    "results.compute_passthrough()"
   ],
   "metadata": {
    "collapsed": false
   }
  },
  {
   "cell_type": "markdown",
   "source": [
    "First, get all the common elements for market t:"
   ],
   "metadata": {
    "collapsed": false
   }
  },
  {
   "cell_type": "code",
   "execution_count": null,
   "outputs": [],
   "source": [
    "from pyblp.utilities.basics import extract_matrix, get_indices\n",
    "import scipy.linalg\n",
    "\n",
    "# pull out all relevant information for market t\n",
    "t = 0\n",
    "index_t = np.where(results.problem.products['market_ids'] == t)[0]\n",
    "shares = extract_matrix(results.problem.products, \"shares\").astype(float)\n",
    "shares_t = shares[index_t]\n",
    "print(len(shares_t))\n",
    "# get jacobian and hessian matrices from pyblp results\n",
    "ds_dp = results.compute_demand_jacobians()\n",
    "d2s_dp2_t = results.compute_demand_hessians(market_id=t)\n",
    "\n",
    "# get retailer response and ownership matrices\n",
    "retailer_response_matrix = ds_dp[index_t]\n",
    "retailer_response_matrix = retailer_response_matrix[:, ~np.isnan(retailer_response_matrix).all(axis=0)]\n",
    "retailer_ownership_matrix = pyblp.build_ownership(product_data=simulation_results.product_data)\n",
    "retailer_ownership_matrix_t = retailer_ownership_matrix[index_t]"
   ],
   "metadata": {
    "collapsed": false
   }
  },
  {
   "cell_type": "markdown",
   "source": [
    "Try to construct passthrough using our code (Vilas Boas formula)"
   ],
   "metadata": {
    "collapsed": false
   }
  },
  {
   "cell_type": "code",
   "execution_count": null,
   "outputs": [],
   "source": [
    "J = len(shares_t)\n",
    "g = np.zeros((J, J))\n",
    "markups_t = -scipy.linalg.inv(retailer_ownership_matrix_t * retailer_response_matrix) @ shares_t\n",
    "for j in range(J):\n",
    "    g[j] = np.transpose(markups_t) @ (retailer_ownership_matrix_t * d2s_dp2_t[:, :, j])\n",
    "print(g[0][0])\n",
    "\n",
    "# solve for derivatives of all prices with respect to the wholesale prices\n",
    "H = np.transpose(retailer_ownership_matrix_t * retailer_response_matrix)\n",
    "G = retailer_response_matrix + H + g\n",
    "passthrough = scipy.linalg.inv(G) @ H\n",
    "passthrough"
   ],
   "metadata": {
    "collapsed": false
   }
  },
  {
   "cell_type": "markdown",
   "source": [
    "Now, using the procedure from pyblp. Their ownership_matrix is our retailer_ownership_matrix_t, their ds_dp is retailer_response_matrix"
   ],
   "metadata": {
    "collapsed": false
   }
  },
  {
   "cell_type": "code",
   "execution_count": null,
   "outputs": [],
   "source": [
    "# compute passthrough matrix using pyblp notation\n",
    "capital_delta = -retailer_ownership_matrix_t * retailer_response_matrix\n",
    "capital_delta_derivatives = -retailer_ownership_matrix_t[..., None] * d2s_dp2_t  # the None adds extra axis to multiply with hessian\n",
    "capital_delta_inverse = scipy.linalg.inv(capital_delta)\n",
    "\n",
    "# compute the passthrough inverse\n",
    "passthrough_inverse = np.zeros((J, J), np.float64)\n",
    "for j in range(J):\n",
    "    passthrough_inverse[:, [j]] = (\n",
    "        capital_delta_inverse @ capital_delta_derivatives[..., j] @ capital_delta_inverse @ shares_t\n",
    "    )\n",
    "passthrough_inverse += np.eye(J) - capital_delta_inverse @ retailer_response_matrix\n",
    "\n",
    "# invert to get passthrough matrix\n",
    "passthrough = scipy.linalg.inv(passthrough_inverse)\n",
    "passthrough"
   ],
   "metadata": {
    "collapsed": false
   }
  },
  {
   "cell_type": "markdown",
   "source": [
    "Our (retailer_ownership_matrix_t * d2s_dp2_t[:, :, j]) is equal to their capital_delta_derivatives[..., j] but times -1."
   ],
   "metadata": {
    "collapsed": false
   }
  },
  {
   "cell_type": "code",
   "execution_count": null,
   "outputs": [],
   "source": [
    "print(capital_delta_derivatives[..., j][0])\n",
    "print((retailer_ownership_matrix_t * d2s_dp2_t[:, :, j])[0])"
   ],
   "metadata": {
    "collapsed": false
   }
  },
  {
   "cell_type": "markdown",
   "source": [
    "Trying to manipulate our code to get the result from pyblp passthrough"
   ],
   "metadata": {
    "collapsed": false
   }
  },
  {
   "cell_type": "code",
   "execution_count": null,
   "outputs": [],
   "source": [
    "J = len(shares_t)\n",
    "g = np.zeros((J, J), np.float64)\n",
    "markups_t = results.compute_markups(market_id=t)\n",
    "for j in range(J):\n",
    "    g[:, [j]] = (retailer_ownership_matrix_t * d2s_dp2_t[j, :, :]) @ capital_delta_inverse @ shares_t\n",
    "\n",
    "# solve for derivatives of all prices with respect to the wholesale prices\n",
    "H = np.transpose(retailer_ownership_matrix_t * retailer_response_matrix)\n",
    "G = retailer_response_matrix + H + g\n",
    "passthrough_matrix = scipy.linalg.inv(G) @ H\n",
    "print(passthrough_matrix)\n",
    "\n",
    "# compute passthrough matrix using pyblp notation\n",
    "capital_delta = -retailer_ownership_matrix_t * retailer_response_matrix\n",
    "capital_delta_derivatives = -retailer_ownership_matrix_t[..., None] * d2s_dp2_t  # the None adds extra axis to multiply with hessian\n",
    "capital_delta_inverse = scipy.linalg.inv(capital_delta)\n",
    "\n",
    "# compute the passthrough inverse\n",
    "passthrough_inverse = np.zeros((J, J), np.float64)\n",
    "for j in range(J):\n",
    "    passthrough_inverse[:, [j]] = (\n",
    "        capital_delta_inverse @ capital_delta_derivatives[..., j] @ capital_delta_inverse @ shares_t\n",
    "    )\n",
    "# print(passthrough_inverse[0])\n",
    "passthrough_inverse += np.eye(J) - capital_delta_inverse @ retailer_response_matrix\n",
    "# print(passthrough_inverse[0])\n",
    "\n",
    "# invert to get passthrough matrix\n",
    "passthrough = scipy.linalg.inv(passthrough_inverse)\n",
    "\n",
    "print(passthrough)"
   ],
   "metadata": {
    "collapsed": false
   }
  },
  {
   "cell_type": "code",
   "execution_count": null,
   "outputs": [],
   "source": [
    "print((capital_delta_inverse @ shares_t)[0])\n",
    "prices = extract_matrix(results.problem.products, \"prices\").astype(float)\n",
    "prices_t = prices[index_t]\n",
    "print(markups_t[0] * prices_t[0])\n",
    "print((-scipy.linalg.inv(retailer_ownership_matrix_t * retailer_response_matrix) @ shares_t)[0])"
   ],
   "metadata": {
    "collapsed": false
   }
  },
  {
   "cell_type": "code",
   "execution_count": null,
   "outputs": [],
   "source": [
    "# for j in range(J):\n",
    "#     outer_sum = 0\n",
    "#     for k in range(J):\n",
    "#         inner_sum = 0\n",
    "#         for i in range(J):\n",
    "#             inner_sum += retailer_ownership_matrix_t[i, j] * d2s_dp2_t[i, j, k] * markups_t[i]\n",
    "#         outer_sum += ds_dp[j, k] + inner_sum + retailer_ownership_matrix_t[k, j] * ds_dp[k, j]\n",
    "#     g[j, k] = outer_sum\n",
    "# g\n",
    "\n",
    "J = len(shares_t)\n",
    "inner_sum = 0\n",
    "for i in range(J):\n",
    "    inner_sum += retailer_ownership_matrix_t[i, 0] * d2s_dp2_t[0, 0, i] * markups_t[i]\n",
    "print(inner_sum[0])\n",
    "outer_sum = ds_dp[0, 0] + inner_sum + retailer_ownership_matrix_t[0, 0] * np.transpose(ds_dp)[0, 0]\n",
    "print(outer_sum[0])"
   ],
   "metadata": {
    "collapsed": false
   }
  },
  {
   "cell_type": "code",
   "execution_count": null,
   "outputs": [],
   "source": [
    "delta_p_inv = 2 + (1 / retailer_response_matrix[0, 0]) * (d2s_dp2_t[0, 0, 0]) * (markups_t[0])\n",
    "delta_p_inv"
   ],
   "metadata": {
    "collapsed": false
   }
  },
  {
   "cell_type": "code",
   "execution_count": null,
   "outputs": [],
   "source": [
    "2 + scipy.linalg.inv(retailer_response_matrix) @ (d2s_dp2_t[:, :, 0]) * (markups_t[0])"
   ],
   "metadata": {
    "collapsed": false
   }
  },
  {
   "cell_type": "code",
   "execution_count": null,
   "outputs": [],
   "source": [
    "delta_p_inv = (1 / retailer_response_matrix[0, 0]) * (d2s_dp2_t[0, 0, 0]) * (markups_t[0])\n",
    "delta_p_inv"
   ],
   "metadata": {
    "collapsed": false
   }
  },
  {
   "cell_type": "code",
   "execution_count": null,
   "outputs": [],
   "source": [
    "s1 = shares_t[0]\n",
    "s2 = shares_t[1]\n",
    "\n",
    "outer = ((1 - s1)**2 * (1 - s2)**2) / (1 - s1 - s2)\n",
    "first = 1 / (1 - s2)\n",
    "second = (s1 * s2) / (1 - s1)**2\n",
    "third = (s1 * s2) / (1 - s2)**2\n",
    "fourth = 1 / (1 - s1)\n",
    "print(outer * first, outer * second, outer * third, outer * fourth)"
   ],
   "metadata": {
    "collapsed": false
   }
  },
  {
   "cell_type": "code",
   "execution_count": null,
   "outputs": [],
   "source": [
    "2 - (1 / retailer_response_matrix[0, 0])**2 * (d2s_dp2_t[0, 0, 0]) * s1"
   ],
   "metadata": {
    "collapsed": false
   }
  },
  {
   "cell_type": "code",
   "execution_count": null,
   "outputs": [],
   "source": [
    "2 * (retailer_response_matrix[0, 0]) - (1 / (retailer_response_matrix[0, 0])) * (d2s_dp2_t[0, 0, 0]) * s1"
   ],
   "metadata": {
    "collapsed": false
   }
  },
  {
   "cell_type": "code",
   "execution_count": null,
   "outputs": [],
   "source": [
    "%timeit\n",
    "import numpy as np\n",
    "\n",
    "J = 20\n",
    "myarray = np.ones((J, J), dtype=object)\n",
    "myvector = np.array((1, 2, 3, 4, 5, 6, 7, 8, 9, 10, 11, 12, 13, 14, 16, 17, 18, 19, 20))\n",
    "def function1():\n",
    "    mylist = [None] * J\n",
    "    for j in range(J):\n",
    "        mylist[j] = myvector @ myarray\n",
    "\n",
    "def function2():\n",
    "    mybigarray = np.zeros((J, J))\n",
    "    for j in range(J):\n",
    "        mybigarray[j, :] = myvector @ myarray\n"
   ],
   "metadata": {
    "collapsed": false
   }
  },
  {
   "cell_type": "code",
   "execution_count": null,
   "outputs": [],
   "source": [
    "import numpy as np\n",
    "import pandas as pd\n",
    "import pyblp\n",
    "import pyRVtest\n",
    "\n",
    "pyblp.options.digits = 2\n",
    "pyblp.options.verbose = False\n",
    "pyRVtest.options.digits = 2\n",
    "pyRVtest.__version__\n",
    "\n",
    "# load data\n",
    "product_data = pd.read_csv(pyblp.data.NEVO_PRODUCTS_LOCATION)\n",
    "agent_data = pd.read_csv(pyblp.data.NEVO_AGENTS_LOCATION)\n",
    "\n",
    "# estimate demand\n",
    "pyblp_problem = pyblp.Problem(\n",
    "    product_formulations=(\n",
    "        pyblp.Formulation('0 + prices ', absorb='C(product_ids)'),\n",
    "        pyblp.Formulation('1 + prices + sugar + mushy'),\n",
    "    ),\n",
    "    agent_formulation=pyblp.Formulation('0 + income + income_squared + age + child'),\n",
    "    product_data=product_data,\n",
    "    agent_data=agent_data\n",
    ")\n",
    "pyblp_results = pyblp_problem.solve(\n",
    "  sigma=np.diag([0.3302, 2.4526, 0.0163, 0.2441]),\n",
    "  pi=[\n",
    "      [5.4819,   0.0000,  0.2037, 0.0000],\n",
    "      [15.8935, -1.2000,  0.0000, 2.6342],\n",
    "      [-0.2506,  0.0000,  0.0511, 0.0000],\n",
    "      [1.2650,   0.0000, -0.8091, 0.0000]\n",
    "  ],\n",
    "  method='1s',\n",
    "  optimization=pyblp.Optimization('bfgs', {'gtol': 1e-5})\n",
    ")"
   ],
   "metadata": {
    "collapsed": false
   }
  },
  {
   "cell_type": "code",
   "execution_count": null,
   "outputs": [],
   "source": [
    "testing_problem = pyRVtest.Problem(\n",
    "    cost_formulation = (\n",
    "        pyRVtest.Formulation('0 + sugar', absorb = 'C(firm_ids)' )\n",
    "    ),\n",
    "    instrument_formulation = (\n",
    "        pyRVtest.Formulation('0 + demand_instruments0 + demand_instruments1')\n",
    "    ),\n",
    "    model_formulations = (\n",
    "        pyRVtest.ModelFormulation(model_downstream='bertrand', ownership_downstream='firm_ids'),\n",
    "        pyRVtest.ModelFormulation(model_downstream='monopoly', ownership_downstream='firm_ids')\n",
    "    ),\n",
    "    product_data = product_data,\n",
    "    demand_results = pyblp_results\n",
    ")"
   ],
   "metadata": {
    "collapsed": false
   }
  },
  {
   "cell_type": "code",
   "execution_count": null,
   "outputs": [],
   "source": [
    "def kappa_specification(f, g):\n",
    "    kappa = np.array([\n",
    "        [1, .2, .3, 0, 0, 0, 0],\n",
    "        [0, 1, .3, 0, 0, 0, 0],\n",
    "        [0, .2, 1, 0, 0, 0, 0],\n",
    "        [0, .2, .3, 1, 0, 0, 0],\n",
    "        [0, .2, .3, 0, 1, 0, 0],\n",
    "        [0, .2, .3, 0, 0, 1, 0],\n",
    "        [0, .2, .3, 0, 0, 0, 1]\n",
    "    ])\n",
    "    if f == g:\n",
    "       return 1\n",
    "    return kappa[f, g]\n",
    "\n",
    "# build_ownership(product_data, kappa_specification=kappa_specification)\n",
    "testing_problem = pyRVtest.Problem(\n",
    "    cost_formulation = (\n",
    "        pyRVtest.Formulation('0 + sugar', absorb = 'C(firm_ids)' )\n",
    "    ),\n",
    "    instrument_formulation = (\n",
    "        pyRVtest.Formulation('0 + demand_instruments0 + demand_instruments1')\n",
    "    ),\n",
    "    model_formulations = (\n",
    "        pyRVtest.ModelFormulation(\n",
    "            model_downstream='bertrand',\n",
    "            ownership_downstream='firm_ids',\n",
    "            kappa_specification_downstream=kappa_specification\n",
    "        ),\n",
    "        pyRVtest.ModelFormulation(model_downstream='monopoly', ownership_downstream='firm_ids')\n",
    "    ),\n",
    "    product_data = product_data,\n",
    "    demand_results = pyblp_results\n",
    ")"
   ],
   "metadata": {
    "collapsed": false
   }
  },
  {
   "cell_type": "code",
   "execution_count": null,
   "outputs": [],
   "source": [
    "testing_results = testing_problem.solve(\n",
    "    demand_adjustment=False,\n",
    "    clustering_adjustment=False\n",
    ")\n",
    "testing_results"
   ],
   "metadata": {
    "collapsed": false
   }
  },
  {
   "cell_type": "markdown",
   "source": [
    "Testing quasilier specification"
   ],
   "metadata": {
    "collapsed": false
   }
  },
  {
   "cell_type": "code",
   "execution_count": null,
   "outputs": [],
   "source": [
    "import pyblp\n",
    "import numpy as np\n",
    "import pandas as pd\n",
    "\n",
    "pyblp.options.digits = 2\n",
    "pyblp.options.verbose = False\n",
    "pyblp.__version__"
   ],
   "metadata": {
    "collapsed": false
   }
  },
  {
   "cell_type": "code",
   "execution_count": null,
   "outputs": [],
   "source": [
    "product_data = pd.read_csv(pyblp.data.BLP_PRODUCTS_LOCATION)\n",
    "product_data.head()\n",
    "agent_data = pd.read_csv(pyblp.data.BLP_AGENTS_LOCATION)\n",
    "agent_data.head()"
   ],
   "metadata": {
    "collapsed": false
   }
  },
  {
   "cell_type": "code",
   "execution_count": null,
   "outputs": [],
   "source": [
    "product_formulations = (\n",
    "   pyblp.Formulation('1 + hpwt + air + mpd + space'),\n",
    "   pyblp.Formulation('1 + prices + hpwt + air + mpd + space'),\n",
    "   pyblp.Formulation('1 + log(hpwt) + air + log(mpg) + log(space) + trend')\n",
    ")\n",
    "product_formulations"
   ],
   "metadata": {
    "collapsed": false
   }
  },
  {
   "cell_type": "code",
   "execution_count": null,
   "outputs": [],
   "source": [
    "agent_formulation = pyblp.Formulation('0 + I(1 / income)')\n",
    "agent_formulation"
   ],
   "metadata": {
    "collapsed": false
   }
  },
  {
   "cell_type": "code",
   "execution_count": null,
   "outputs": [],
   "source": [
    "problem = pyblp.Problem(product_formulations, product_data, agent_formulation, agent_data, costs_type='log')\n",
    "problem"
   ],
   "metadata": {
    "collapsed": false
   }
  },
  {
   "cell_type": "code",
   "execution_count": null,
   "outputs": [],
   "source": [
    "initial_sigma = np.diag([3.612, 0, 4.628, 1.818, 1.050, 2.056])\n",
    "initial_pi = np.c_[[0, -43.501, 0, 0, 0, 0]]"
   ],
   "metadata": {
    "collapsed": false
   }
  },
  {
   "cell_type": "code",
   "execution_count": null,
   "outputs": [],
   "source": [
    "results = problem.solve(\n",
    "    initial_sigma,\n",
    "    initial_pi,\n",
    "    costs_bounds=(0.001, None),\n",
    "    W_type='clustered',\n",
    "    se_type='clustered',\n",
    "    initial_update=True,\n",
    ")\n",
    "results"
   ],
   "metadata": {
    "collapsed": false
   }
  },
  {
   "cell_type": "code",
   "execution_count": null,
   "outputs": [],
   "source": [
    "ZD = results.problem.products.ZD\n",
    "WD = results.updated_W\n",
    "h = results.moments\n",
    "h_i = ZD * results.xi\n",
    "K2 = results.problem.K2\n",
    "D = results.problem.D\n",
    "\n",
    "XD = results.problem.products.X1  # NOTE: marco's code\n",
    "XD_column_names = results.problem.products.dtype.fields['X1'][2]\n",
    "price_in_linear_parameters = 'prices' in XD_column_names\n",
    "if price_in_linear_parameters:\n",
    "    XD = np.delete(XD, XD_column_names.index('prices'), 1)\n",
    "\n",
    "if price_in_linear_parameters:    # NOTE: marco's code\n",
    "    partial_y_theta = np.append(\n",
    "        results.xi_by_theta_jacobian, -results.problem.products.prices, axis=1\n",
    "    )\n",
    "else:\n",
    "    partial_y_theta = results.xi_by_theta_jacobian\n",
    "\n",
    "# add price to the gradient\n",
    "partial_y_theta = (np.append(\n",
    "        results.xi_by_theta_jacobian, -results.problem.products.prices, axis=1\n",
    "    ) if price_in_linear_parameters else results.xi_by_theta_jacobian)\n",
    "\n",
    "# absorb fixed effects if they are specified\n",
    "if results.problem.ED > 0:\n",
    "    print(\"True\")\n",
    "    partial_y_theta = results.problem._absorb_demand_ids(partial_y_theta)\n",
    "    partial_y_theta = np.reshape(\n",
    "        partial_y_theta[0], [2256, len(results.theta) + int(price_in_linear_parameters)]\n",
    "    )\n",
    "\n",
    "# TODO: add note\n",
    "from scipy.linalg import inv\n",
    "if not XD.shape[1]:\n",
    "    print(\"True\")\n",
    "    partial_xi_theta = partial_y_theta\n",
    "else:\n",
    "    print(XD.shape)\n",
    "    print(WD.shape)\n",
    "    print(ZD.shape)\n",
    "    product = XD @ inv(XD.T @ ZD @ WD @ ZD.T @ XD) @ (XD.T @ ZD @ WD @ ZD.T @ partial_y_theta)\n",
    "    partial_xi_theta = partial_y_theta - product\n",
    "\n",
    "# partial_y_theta = np.reshape(partial_y_theta[0], [2256, len(results.theta) + int(price_in_linear_parameters)])\n",
    "\n",
    "print(np.shape(XD)[1])\n",
    "print(XD.shape[1] == 0)\n",
    "# partial_y_theta = (\n",
    "#     np.append(results.xi_by_theta_jacobian, -results.problem.products.prices, axis=1)\n",
    "# )\n",
    "# results.problem._absorb_demand_ids(partial_y_theta)"
   ],
   "metadata": {
    "collapsed": false
   }
  },
  {
   "cell_type": "code",
   "execution_count": null,
   "outputs": [],
   "source": [
    "import pyRVtest"
   ],
   "metadata": {
    "collapsed": false
   }
  },
  {
   "cell_type": "code",
   "execution_count": null,
   "outputs": [],
   "source": [
    "testing_problem = pyRVtest.Problem(\n",
    "    cost_formulation = (\n",
    "        pyRVtest.Formulation('1 + log(hpwt) + air + log(mpg) + log(space) + trend')\n",
    "    ),\n",
    "    instrument_formulation = (\n",
    "        pyRVtest.Formulation('0 + demand_instruments0 + demand_instruments1')\n",
    "    ),\n",
    "    model_formulations = (\n",
    "        pyRVtest.ModelFormulation(model_downstream='bertrand', ownership_downstream='firm_ids'),\n",
    "        pyRVtest.ModelFormulation(model_downstream='monopoly', ownership_downstream='firm_ids')\n",
    "    ),\n",
    "    product_data = product_data,\n",
    "    demand_results = results\n",
    ")\n",
    "testing_problem"
   ],
   "metadata": {
    "collapsed": false
   }
  },
  {
   "cell_type": "code",
   "execution_count": null,
   "outputs": [],
   "source": [
    "testing_results = testing_problem.solve(\n",
    "    demand_adjustment=True,\n",
    "    clustering_adjustment=True\n",
    ")\n",
    "testing_results"
   ],
   "metadata": {
    "collapsed": false
   }
  },
  {
   "cell_type": "code",
   "execution_count": null,
   "outputs": [],
   "source": [
    "results.problem.ED"
   ],
   "metadata": {
    "collapsed": false
   }
  }
 ],
 "metadata": {
  "kernelspec": {
   "display_name": "Python 3",
   "language": "python",
   "name": "python3"
  },
  "language_info": {
   "codemirror_mode": {
    "name": "ipython",
    "version": 2
   },
   "file_extension": ".py",
   "mimetype": "text/x-python",
   "name": "python",
   "nbconvert_exporter": "python",
   "pygments_lexer": "ipython2",
   "version": "2.7.6"
  }
 },
 "nbformat": 4,
 "nbformat_minor": 0
}
