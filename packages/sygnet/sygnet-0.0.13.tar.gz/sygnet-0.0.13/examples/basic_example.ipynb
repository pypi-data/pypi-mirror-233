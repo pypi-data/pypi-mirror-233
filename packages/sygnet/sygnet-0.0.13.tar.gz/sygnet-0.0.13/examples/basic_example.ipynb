{
 "cells": [
  {
   "cell_type": "markdown",
   "metadata": {
    "collapsed": false
   },
   "source": [
    "# Using SyGNet\n",
    "\n",
    "This notebook demonstrates the basic functionality of the **sygnet** package in Python.\n",
    "\n",
    "To download the package, simply run `pip install sygnet` at the command line.\n",
    "\n",
    "## Prerequisites\n",
    "\n",
    "To start, we load the required packages and define a data generating process (DGP)."
   ]
  },
  {
   "cell_type": "code",
   "execution_count": 2,
   "metadata": {
    "collapsed": false
   },
   "outputs": [],
   "source": [
    "%%capture\n",
    "%cd ..\n",
    "\n",
    "import pandas as pd\n",
    "import numpy as np\n",
    "\n",
    "from numpy.random import default_rng\n",
    "from torch import manual_seed\n",
    "\n",
    "from sygnet import SygnetModel\n"
   ]
  },
  {
   "cell_type": "markdown",
   "metadata": {
    "collapsed": false
   },
   "source": [
    "Next, we will focus on a very simple case of learning a parametric relationship between numeric variables.The DGP comprises two random uniform variables (`x1` and `x2`), which in turn impact the value of two other variables (`x3` and `y`). Once defined, we take 100,000 draws from this DGP to use as our training data:"
   ]
  },
  {
   "cell_type": "code",
   "execution_count": 3,
   "metadata": {
    "collapsed": false
   },
   "outputs": [
    {
     "data": {
      "text/html": [
       "<div>\n",
       "<style scoped>\n",
       "    .dataframe tbody tr th:only-of-type {\n",
       "        vertical-align: middle;\n",
       "    }\n",
       "\n",
       "    .dataframe tbody tr th {\n",
       "        vertical-align: top;\n",
       "    }\n",
       "\n",
       "    .dataframe thead th {\n",
       "        text-align: right;\n",
       "    }\n",
       "</style>\n",
       "<table border=\"1\" class=\"dataframe\">\n",
       "  <thead>\n",
       "    <tr style=\"text-align: right;\">\n",
       "      <th></th>\n",
       "      <th>x1</th>\n",
       "      <th>x2</th>\n",
       "      <th>x3</th>\n",
       "      <th>y</th>\n",
       "    </tr>\n",
       "  </thead>\n",
       "  <tbody>\n",
       "    <tr>\n",
       "      <th>0</th>\n",
       "      <td>0.834982</td>\n",
       "      <td>0.531162</td>\n",
       "      <td>1.494573</td>\n",
       "      <td>3.945647</td>\n",
       "    </tr>\n",
       "    <tr>\n",
       "      <th>1</th>\n",
       "      <td>0.596554</td>\n",
       "      <td>0.292134</td>\n",
       "      <td>0.962634</td>\n",
       "      <td>2.442326</td>\n",
       "    </tr>\n",
       "    <tr>\n",
       "      <th>2</th>\n",
       "      <td>0.288863</td>\n",
       "      <td>0.066026</td>\n",
       "      <td>0.146251</td>\n",
       "      <td>0.943672</td>\n",
       "    </tr>\n",
       "    <tr>\n",
       "      <th>3</th>\n",
       "      <td>0.042952</td>\n",
       "      <td>0.919107</td>\n",
       "      <td>1.011053</td>\n",
       "      <td>3.074215</td>\n",
       "    </tr>\n",
       "    <tr>\n",
       "      <th>4</th>\n",
       "      <td>0.973654</td>\n",
       "      <td>0.510645</td>\n",
       "      <td>1.548556</td>\n",
       "      <td>1.854276</td>\n",
       "    </tr>\n",
       "  </tbody>\n",
       "</table>\n",
       "</div>"
      ],
      "text/plain": [
       "         x1        x2        x3         y\n",
       "0  0.834982  0.531162  1.494573  3.945647\n",
       "1  0.596554  0.292134  0.962634  2.442326\n",
       "2  0.288863  0.066026  0.146251  0.943672\n",
       "3  0.042952  0.919107  1.011053  3.074215\n",
       "4  0.973654  0.510645  1.548556  1.854276"
      ]
     },
     "execution_count": 3,
     "metadata": {},
     "output_type": "execute_result"
    }
   ],
   "source": [
    "rng = default_rng(seed = 100)\n",
    "manual_seed(100)\n",
    "\n",
    "def gen_sim_data(rng, n=100000):\n",
    "    \n",
    "    x1 = rng.uniform(low = 0, high = 1, size = n)\n",
    "    x2 = rng.uniform(low = 0, high = 1, size = n)\n",
    "    x3 = rng.normal(loc = x1 + x2, scale = 0.1)\n",
    "    y = rng.normal(loc=3*x1 + 2*x2 + 1, scale = 1)\n",
    "\n",
    "    sim_data = pd.DataFrame({\n",
    "        'x1' : x1,\n",
    "        'x2' : x2,\n",
    "        'x3' : x3,\n",
    "        'y' : y\n",
    "    })   \n",
    "\n",
    "    return sim_data\n",
    "\n",
    "train_data = gen_sim_data(rng)\n",
    "train_data.head()"
   ]
  },
  {
   "cell_type": "markdown",
   "metadata": {
    "collapsed": false
   },
   "source": [
    "## **sygnet** pipeline\n",
    "\n",
    "We follow a very similar pipeline to **scikit-learn**: \n",
    "\n",
    "1. Instantiate a model:\n",
    "   * Users must specify what type of GAN architecture to use: we recommend \"wgan\" for non-conditional synthetic data, and \"cgan\" when conditional labels will be supplied \n",
    "   * Optional arguments allow the user to customise the hidden layer structure, dropout proportions, layer norming, ReLU leakage, and whether to range match the final output\n",
    "2. Fit the model to the training data\n",
    "   * Users must supply the training data\n",
    "   * Optional arguments allow the user to alter the default hyperparameters (epochs, learning rate, batch size etc.)\n",
    "3. Sample from the trained model\n",
    "   * Users must specify the number of synthetic observations to draw from the model\n",
    "   * Optional arguments allow the user to control the format of the returned results, as well as to save the synthetic data to disk\n",
    "\n"
   ]
  },
  {
   "cell_type": "markdown",
   "metadata": {
    "collapsed": false
   },
   "source": [
    "## Basic example\n",
    "\n",
    "In this first example, we set `mode = \"wgan\"` to use the Wassterstein GAN architecture. We fit the model to our simulated data, for a single epoch (real uses will require more epochs), and then generate 100 synthetic observations:"
   ]
  },
  {
   "cell_type": "code",
   "execution_count": 4,
   "metadata": {
    "collapsed": false
   },
   "outputs": [
    {
     "name": "stderr",
     "output_type": "stream",
     "text": [
      "Epoch: 100%|██████████| 1/1 [00:07<00:00,  7.37s/it, loss=2.42]\n"
     ]
    },
    {
     "data": {
      "text/html": [
       "<div>\n",
       "<style scoped>\n",
       "    .dataframe tbody tr th:only-of-type {\n",
       "        vertical-align: middle;\n",
       "    }\n",
       "\n",
       "    .dataframe tbody tr th {\n",
       "        vertical-align: top;\n",
       "    }\n",
       "\n",
       "    .dataframe thead th {\n",
       "        text-align: right;\n",
       "    }\n",
       "</style>\n",
       "<table border=\"1\" class=\"dataframe\">\n",
       "  <thead>\n",
       "    <tr style=\"text-align: right;\">\n",
       "      <th></th>\n",
       "      <th>x1</th>\n",
       "      <th>x2</th>\n",
       "      <th>x3</th>\n",
       "      <th>y</th>\n",
       "    </tr>\n",
       "  </thead>\n",
       "  <tbody>\n",
       "    <tr>\n",
       "      <th>0</th>\n",
       "      <td>1.987882</td>\n",
       "      <td>1.251058</td>\n",
       "      <td>1.305152</td>\n",
       "      <td>1.415426</td>\n",
       "    </tr>\n",
       "    <tr>\n",
       "      <th>1</th>\n",
       "      <td>1.328185</td>\n",
       "      <td>0.961840</td>\n",
       "      <td>1.358526</td>\n",
       "      <td>0.521271</td>\n",
       "    </tr>\n",
       "    <tr>\n",
       "      <th>2</th>\n",
       "      <td>1.748668</td>\n",
       "      <td>0.997697</td>\n",
       "      <td>1.398263</td>\n",
       "      <td>1.574589</td>\n",
       "    </tr>\n",
       "    <tr>\n",
       "      <th>3</th>\n",
       "      <td>2.192904</td>\n",
       "      <td>1.090270</td>\n",
       "      <td>1.388196</td>\n",
       "      <td>1.089555</td>\n",
       "    </tr>\n",
       "    <tr>\n",
       "      <th>4</th>\n",
       "      <td>1.821552</td>\n",
       "      <td>1.141728</td>\n",
       "      <td>0.738089</td>\n",
       "      <td>1.536895</td>\n",
       "    </tr>\n",
       "  </tbody>\n",
       "</table>\n",
       "</div>"
      ],
      "text/plain": [
       "         x1        x2        x3         y\n",
       "0  1.987882  1.251058  1.305152  1.415426\n",
       "1  1.328185  0.961840  1.358526  0.521271\n",
       "2  1.748668  0.997697  1.398263  1.574589\n",
       "3  2.192904  1.090270  1.388196  1.089555\n",
       "4  1.821552  1.141728  0.738089  1.536895"
      ]
     },
     "execution_count": 4,
     "metadata": {},
     "output_type": "execute_result"
    }
   ],
   "source": [
    "model = SygnetModel(mode = \"wgan\")\n",
    "model.fit(data = train_data, epochs = 1)\n",
    "synth_data1 = model.sample(nobs = 1000)\n",
    "\n",
    "synth_data1.head()"
   ]
  },
  {
   "cell_type": "markdown",
   "metadata": {
    "collapsed": false
   },
   "source": [
    "*Note: In the above example, we \"sample\" observations from the trained model. In keeping with the **scikit-learn** API, users can instead use `.transform()`, which is an alias  of `.sample()`*."
   ]
  },
  {
   "cell_type": "markdown",
   "metadata": {
    "collapsed": false
   },
   "source": [
    "### Saving and loading the model\n",
    "\n",
    "#### Saving\n",
    "\n",
    "Users can **save** the trained the model by setting the `.fit()` parameter `save_model = True`. The file destination is set with `save_loc` (with a default location of the current working directory).\n",
    "\n",
    "The file will be saved as `sygnet_model_DDMMMYY_HHMM` (where the timestamp reflects when training finished). Users can change the \"sygnet_model_\" prefix by setting `save_prefix = \"your_choice\"` in the `.fit()` command.\n",
    "\n",
    "*Note*: When using Windows, it is important that the file location is provided as a raw string. For example: `model.fit(data = train_data, device = 'cuda', save_model = True, save_loc = r'C:\\Folder\\SyGNet\\', epochs = 2)`. "
   ]
  },
  {
   "cell_type": "code",
   "execution_count": 4,
   "metadata": {},
   "outputs": [
    {
     "name": "stderr",
     "output_type": "stream",
     "text": [
      "Epoch: 100%|██████████| 1/1 [00:07<00:00,  7.37s/it, loss=3.3]\n"
     ]
    }
   ],
   "source": [
    "model = SygnetModel(mode = \"wgan\")\n",
    "model.fit(data = train_data, epochs = 1, save_model = True, save_loc = \"data/\")"
   ]
  },
  {
   "cell_type": "markdown",
   "metadata": {},
   "source": [
    "\n",
    "#### Loading\n",
    "\n",
    "To **load** the model, import and then call the `load()` function:\n",
    "\n",
    "```\n",
    "from sygnet import load\n",
    "model = load(r'data/sygnet_model_30Jun22_1058')\n",
    "```\n"
   ]
  },
  {
   "cell_type": "markdown",
   "metadata": {},
   "source": [
    "\n",
    "Loaded models are full `SygnetModel()` objects. You can `.sample()` from the loaded model, or `.fit()` to continue training. \n",
    "\n",
    "*Note*: SyGNet currently only supports using the same training data set as the original model. Other arguments can be adjusted freely to continue training in a different way if needed.\n",
    "\n",
    "What exactly **is being saved**? The file contains a `state_dict` for the model and the optimizer. Those are simply Python dictionary object that maps each layer to the respective tensors of weights and biases. Note that only layers with learnable parameters \\(convolutional layers, linear layers, etc.\\) and registered buffers \\(batchnorm’s running\\_mean\\) have entries in the model’s `state_dict`.\n"
   ]
  },
  {
   "cell_type": "markdown",
   "metadata": {
    "collapsed": false
   },
   "source": [
    "### GPU support\n",
    "\n",
    "**sygnet** allows users to train the model using GPU computation, which should improve training times considerably. To run the synthetic generator on the GPU, we simply fit the model with the parameter `device = 'cuda'`. Using the GPU, we see about an eight-fold reduction in the time it takes to run an epoch:\n",
    "\n"
   ]
  },
  {
   "cell_type": "code",
   "execution_count": 5,
   "metadata": {
    "collapsed": false
   },
   "outputs": [
    {
     "name": "stderr",
     "output_type": "stream",
     "text": [
      "Epoch: 100%|██████████| 3/3 [00:02<00:00,  1.01it/s, loss=1.26]\n"
     ]
    },
    {
     "data": {
      "text/html": [
       "<div>\n",
       "<style scoped>\n",
       "    .dataframe tbody tr th:only-of-type {\n",
       "        vertical-align: middle;\n",
       "    }\n",
       "\n",
       "    .dataframe tbody tr th {\n",
       "        vertical-align: top;\n",
       "    }\n",
       "\n",
       "    .dataframe thead th {\n",
       "        text-align: right;\n",
       "    }\n",
       "</style>\n",
       "<table border=\"1\" class=\"dataframe\">\n",
       "  <thead>\n",
       "    <tr style=\"text-align: right;\">\n",
       "      <th></th>\n",
       "      <th>x1</th>\n",
       "      <th>x2</th>\n",
       "      <th>x3</th>\n",
       "      <th>y</th>\n",
       "    </tr>\n",
       "  </thead>\n",
       "  <tbody>\n",
       "    <tr>\n",
       "      <th>0</th>\n",
       "      <td>0.0</td>\n",
       "      <td>0.349543</td>\n",
       "      <td>0.406956</td>\n",
       "      <td>4.025612</td>\n",
       "    </tr>\n",
       "    <tr>\n",
       "      <th>1</th>\n",
       "      <td>0.0</td>\n",
       "      <td>1.165000</td>\n",
       "      <td>0.444231</td>\n",
       "      <td>4.278828</td>\n",
       "    </tr>\n",
       "    <tr>\n",
       "      <th>2</th>\n",
       "      <td>0.0</td>\n",
       "      <td>0.795632</td>\n",
       "      <td>0.307328</td>\n",
       "      <td>3.525852</td>\n",
       "    </tr>\n",
       "    <tr>\n",
       "      <th>3</th>\n",
       "      <td>0.0</td>\n",
       "      <td>0.854147</td>\n",
       "      <td>0.784692</td>\n",
       "      <td>4.134717</td>\n",
       "    </tr>\n",
       "    <tr>\n",
       "      <th>4</th>\n",
       "      <td>0.0</td>\n",
       "      <td>0.922386</td>\n",
       "      <td>0.868440</td>\n",
       "      <td>4.546636</td>\n",
       "    </tr>\n",
       "  </tbody>\n",
       "</table>\n",
       "</div>"
      ],
      "text/plain": [
       "    x1        x2        x3         y\n",
       "0  0.0  0.349543  0.406956  4.025612\n",
       "1  0.0  1.165000  0.444231  4.278828\n",
       "2  0.0  0.795632  0.307328  3.525852\n",
       "3  0.0  0.854147  0.784692  4.134717\n",
       "4  0.0  0.922386  0.868440  4.546636"
      ]
     },
     "execution_count": 5,
     "metadata": {},
     "output_type": "execute_result"
    }
   ],
   "source": [
    "model_gpu = SygnetModel(mode = \"wgan\")\n",
    "model_gpu.fit(data = train_data, epochs = 3, device='cuda')\n",
    "synth_data2 = model_gpu.sample(nobs = 1000)\n",
    "\n",
    "synth_data2.head()"
   ]
  },
  {
   "cell_type": "markdown",
   "metadata": {
    "collapsed": false
   },
   "source": [
    "## Custom architectures\n",
    "\n",
    "The above models are trained on the default parameters and for a short number of epochs. They are therefore not well-trained (as can be seen in the resulting synthetic data).\n",
    "\n",
    "To improve the quality of our model, we can adjust the hyperparameter settings. In this instance, we reduce the batch size and dropout proportion (relative to the default), increase the learning rate, and train for 50 epochs on the GPU:\n",
    "\n"
   ]
  },
  {
   "cell_type": "code",
   "execution_count": 6,
   "metadata": {
    "collapsed": false
   },
   "outputs": [
    {
     "name": "stderr",
     "output_type": "stream",
     "text": [
      "Not using mixed activation function -- generated data may not conform to real data if it contains categorical columns.\n",
      "Epoch: 100%|██████████| 50/50 [02:30<00:00,  3.02s/it, loss=0.0587]\n"
     ]
    },
    {
     "data": {
      "text/html": [
       "<div>\n",
       "<style scoped>\n",
       "    .dataframe tbody tr th:only-of-type {\n",
       "        vertical-align: middle;\n",
       "    }\n",
       "\n",
       "    .dataframe tbody tr th {\n",
       "        vertical-align: top;\n",
       "    }\n",
       "\n",
       "    .dataframe thead th {\n",
       "        text-align: right;\n",
       "    }\n",
       "</style>\n",
       "<table border=\"1\" class=\"dataframe\">\n",
       "  <thead>\n",
       "    <tr style=\"text-align: right;\">\n",
       "      <th></th>\n",
       "      <th>x1</th>\n",
       "      <th>x2</th>\n",
       "      <th>x3</th>\n",
       "      <th>y</th>\n",
       "    </tr>\n",
       "  </thead>\n",
       "  <tbody>\n",
       "    <tr>\n",
       "      <th>0</th>\n",
       "      <td>0.217527</td>\n",
       "      <td>0.718180</td>\n",
       "      <td>1.001947</td>\n",
       "      <td>-0.600885</td>\n",
       "    </tr>\n",
       "    <tr>\n",
       "      <th>1</th>\n",
       "      <td>0.410736</td>\n",
       "      <td>1.004193</td>\n",
       "      <td>1.417894</td>\n",
       "      <td>3.793028</td>\n",
       "    </tr>\n",
       "    <tr>\n",
       "      <th>2</th>\n",
       "      <td>0.274179</td>\n",
       "      <td>0.412281</td>\n",
       "      <td>0.687893</td>\n",
       "      <td>2.317762</td>\n",
       "    </tr>\n",
       "    <tr>\n",
       "      <th>3</th>\n",
       "      <td>0.750253</td>\n",
       "      <td>0.186607</td>\n",
       "      <td>0.933108</td>\n",
       "      <td>4.225198</td>\n",
       "    </tr>\n",
       "    <tr>\n",
       "      <th>4</th>\n",
       "      <td>0.211625</td>\n",
       "      <td>0.682338</td>\n",
       "      <td>0.891227</td>\n",
       "      <td>2.560545</td>\n",
       "    </tr>\n",
       "  </tbody>\n",
       "</table>\n",
       "</div>"
      ],
      "text/plain": [
       "         x1        x2        x3         y\n",
       "0  0.217527  0.718180  1.001947 -0.600885\n",
       "1  0.410736  1.004193  1.417894  3.793028\n",
       "2  0.274179  0.412281  0.687893  2.317762\n",
       "3  0.750253  0.186607  0.933108  4.225198\n",
       "4  0.211625  0.682338  0.891227  2.560545"
      ]
     },
     "execution_count": 6,
     "metadata": {},
     "output_type": "execute_result"
    }
   ],
   "source": [
    "model_custom = SygnetModel(mode = \"wgan\", dropout_p=0.1, mixed_activation=False)\n",
    "\n",
    "model_custom.fit(\n",
    "    train_data, \n",
    "    device = 'cuda', \n",
    "    epochs = 50, \n",
    "    batch_size=512,\n",
    "    learning_rate=0.001\n",
    ")\n",
    "\n",
    "synth_data3 = model_custom.sample(1000)\n",
    "\n",
    "synth_data3.head()"
   ]
  },
  {
   "cell_type": "markdown",
   "metadata": {
    "collapsed": false
   },
   "source": [
    "To assess the quality of our model, we can see how well the synthetic data outcome variable `y` is modelled by the synthetic independent variables. To do so, we can regress `y` on `x1` and `x2`. Recall that in our DGP $$y \\sim \\mathcal{N}(\\mu = 3\\times X_1 + 2 \\times X_2 + 1, \\sigma).$$ Therefore, we should expect the coefficient vector to be close to `[3,2,1]`. "
   ]
  },
  {
   "cell_type": "code",
   "execution_count": 7,
   "metadata": {
    "collapsed": false
   },
   "outputs": [
    {
     "name": "stdout",
     "output_type": "stream",
     "text": [
      "Synthetic coefficients = ['3.12', '1.63', '0.86']\n"
     ]
    }
   ],
   "source": [
    "from sklearn.linear_model import LinearRegression\n",
    "\n",
    "reg = LinearRegression().fit(synth_data3.drop(['y','x3'], axis=1), synth_data3['y'])\n",
    "\n",
    "print(f\"Synthetic coefficients = {['%.2f' % val for val in reg.coef_.tolist() + [reg.intercept_]]}\")\n"
   ]
  },
  {
   "cell_type": "markdown",
   "metadata": {
    "collapsed": false
   },
   "source": [
    "We find that, while the relationship is not perfectly captured, we nevertheless get data that resembles that relationship."
   ]
  }
 ],
 "metadata": {
  "interpreter": {
   "hash": "2ae1b0b5a0606c2753749f3391e09e88dfd388b1a3a29c5d6e8dce6eac02598d"
  },
  "kernelspec": {
   "display_name": "Python 3 (system-wide)",
   "language": "python",
   "metadata": {
    "cocalc": {
     "description": "Python 3 programming language",
     "priority": 100,
     "url": "https://www.python.org/"
    }
   },
   "name": "python3",
   "resource_dir": "/ext/jupyter/kernels/python3"
  },
  "language_info": {
   "codemirror_mode": {
    "name": "ipython",
    "version": 3
   },
   "file_extension": ".py",
   "mimetype": "text/x-python",
   "name": "python",
   "nbconvert_exporter": "python",
   "pygments_lexer": "ipython3",
   "version": "3.9.12"
  },
  "orig_nbformat": 4
 },
 "nbformat": 4,
 "nbformat_minor": 4
}
