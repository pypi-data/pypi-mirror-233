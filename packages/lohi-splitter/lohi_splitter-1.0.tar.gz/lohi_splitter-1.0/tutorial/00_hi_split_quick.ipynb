{
 "cells": [
  {
   "cell_type": "markdown",
   "metadata": {},
   "source": [
    "# Hi Split\n",
    "A five-minute tutorial"
   ]
  },
  {
   "cell_type": "code",
   "execution_count": 1,
   "metadata": {},
   "outputs": [],
   "source": [
    "import pandas as pd\n",
    "import numpy as np\n",
    "import matplotlib.pyplot as plt\n",
    "\n",
    "import lohi_splitter as lohi"
   ]
  },
  {
   "cell_type": "markdown",
   "metadata": {},
   "source": [
    "## Data Loading"
   ]
  },
  {
   "cell_type": "code",
   "execution_count": 2,
   "metadata": {},
   "outputs": [
    {
     "data": {
      "text/html": [
       "<div>\n",
       "<style scoped>\n",
       "    .dataframe tbody tr th:only-of-type {\n",
       "        vertical-align: middle;\n",
       "    }\n",
       "\n",
       "    .dataframe tbody tr th {\n",
       "        vertical-align: top;\n",
       "    }\n",
       "\n",
       "    .dataframe thead th {\n",
       "        text-align: right;\n",
       "    }\n",
       "</style>\n",
       "<table border=\"1\" class=\"dataframe\">\n",
       "  <thead>\n",
       "    <tr style=\"text-align: right;\">\n",
       "      <th></th>\n",
       "      <th>smiles</th>\n",
       "      <th>value</th>\n",
       "    </tr>\n",
       "  </thead>\n",
       "  <tbody>\n",
       "    <tr>\n",
       "      <th>0</th>\n",
       "      <td>Brc1ccc(-[n+]2cc[n+](Cc3ccccc3)cc2)c2cc[nH]c12</td>\n",
       "      <td>True</td>\n",
       "    </tr>\n",
       "    <tr>\n",
       "      <th>1</th>\n",
       "      <td>Brc1ccc(CNCCN2CCN(Cc3cc4ccccc4[nH]3)CC2)cc1</td>\n",
       "      <td>False</td>\n",
       "    </tr>\n",
       "    <tr>\n",
       "      <th>2</th>\n",
       "      <td>Brc1ccc(N2CCN(Cc3ccccc3)CC2)c2cc[nH]c12</td>\n",
       "      <td>True</td>\n",
       "    </tr>\n",
       "    <tr>\n",
       "      <th>3</th>\n",
       "      <td>Brc1ccc(NCCN2CCN(CCc3c[nH]c4ccccc34)CC2)cc1</td>\n",
       "      <td>True</td>\n",
       "    </tr>\n",
       "    <tr>\n",
       "      <th>4</th>\n",
       "      <td>Brc1ccc(NCCN2CCN(Cc3cc4ccccc4[nH]3)CC2)cc1</td>\n",
       "      <td>True</td>\n",
       "    </tr>\n",
       "    <tr>\n",
       "      <th>...</th>\n",
       "      <td>...</td>\n",
       "      <td>...</td>\n",
       "    </tr>\n",
       "    <tr>\n",
       "      <th>6262</th>\n",
       "      <td>c1cnc(N2CCN(CCCOc3ccc(-c4nc5ccccc5o4)cc3)CC2)nc1</td>\n",
       "      <td>True</td>\n",
       "    </tr>\n",
       "    <tr>\n",
       "      <th>6263</th>\n",
       "      <td>c1cnc(N2CCN(CCCSc3nc4ccccc4s3)CC2)nc1</td>\n",
       "      <td>True</td>\n",
       "    </tr>\n",
       "    <tr>\n",
       "      <th>6264</th>\n",
       "      <td>c1cnc(N2CCN(Cc3c[nH]c4ncccc34)CC2)nc1</td>\n",
       "      <td>False</td>\n",
       "    </tr>\n",
       "    <tr>\n",
       "      <th>6265</th>\n",
       "      <td>c1cncc(CN[C@H]2C3C4CC5C6C4CC3C6C52)c1</td>\n",
       "      <td>False</td>\n",
       "    </tr>\n",
       "    <tr>\n",
       "      <th>6266</th>\n",
       "      <td>c1nc2c(s1)CCN(CCCCN1CCc3ncsc3CC1)CC2</td>\n",
       "      <td>False</td>\n",
       "    </tr>\n",
       "  </tbody>\n",
       "</table>\n",
       "<p>6267 rows × 2 columns</p>\n",
       "</div>"
      ],
      "text/plain": [
       "                                                smiles  value\n",
       "0       Brc1ccc(-[n+]2cc[n+](Cc3ccccc3)cc2)c2cc[nH]c12   True\n",
       "1          Brc1ccc(CNCCN2CCN(Cc3cc4ccccc4[nH]3)CC2)cc1  False\n",
       "2              Brc1ccc(N2CCN(Cc3ccccc3)CC2)c2cc[nH]c12   True\n",
       "3          Brc1ccc(NCCN2CCN(CCc3c[nH]c4ccccc34)CC2)cc1   True\n",
       "4           Brc1ccc(NCCN2CCN(Cc3cc4ccccc4[nH]3)CC2)cc1   True\n",
       "...                                                ...    ...\n",
       "6262  c1cnc(N2CCN(CCCOc3ccc(-c4nc5ccccc5o4)cc3)CC2)nc1   True\n",
       "6263             c1cnc(N2CCN(CCCSc3nc4ccccc4s3)CC2)nc1   True\n",
       "6264             c1cnc(N2CCN(Cc3c[nH]c4ncccc34)CC2)nc1  False\n",
       "6265             c1cncc(CN[C@H]2C3C4CC5C6C4CC3C6C52)c1  False\n",
       "6266              c1nc2c(s1)CCN(CCCCN1CCc3ncsc3CC1)CC2  False\n",
       "\n",
       "[6267 rows x 2 columns]"
      ]
     },
     "execution_count": 2,
     "metadata": {},
     "output_type": "execute_result"
    }
   ],
   "source": [
    "drd2_hi = pd.read_csv('data/drd2_hi.csv', index_col=0)\n",
    "drd2_hi"
   ]
  },
  {
   "cell_type": "markdown",
   "metadata": {},
   "source": [
    "We will use a small subset to speed up calculations. If you have a larger dataset, refer to the next tutorial: '01_hi_split_coarsening.ipynb'."
   ]
  },
  {
   "cell_type": "code",
   "execution_count": 3,
   "metadata": {},
   "outputs": [
    {
     "data": {
      "text/html": [
       "<div>\n",
       "<style scoped>\n",
       "    .dataframe tbody tr th:only-of-type {\n",
       "        vertical-align: middle;\n",
       "    }\n",
       "\n",
       "    .dataframe tbody tr th {\n",
       "        vertical-align: top;\n",
       "    }\n",
       "\n",
       "    .dataframe thead th {\n",
       "        text-align: right;\n",
       "    }\n",
       "</style>\n",
       "<table border=\"1\" class=\"dataframe\">\n",
       "  <thead>\n",
       "    <tr style=\"text-align: right;\">\n",
       "      <th></th>\n",
       "      <th>smiles</th>\n",
       "      <th>value</th>\n",
       "    </tr>\n",
       "  </thead>\n",
       "  <tbody>\n",
       "    <tr>\n",
       "      <th>2385</th>\n",
       "      <td>COc1ccc(S(=O)(=O)N[C@H]2CC[C@@H](N3CCC(c4ccc(F...</td>\n",
       "      <td>True</td>\n",
       "    </tr>\n",
       "    <tr>\n",
       "      <th>3743</th>\n",
       "      <td>Clc1ccc(CN2CC=C(c3nc4cc(Cl)ccc4[nH]3)CC2)cc1</td>\n",
       "      <td>True</td>\n",
       "    </tr>\n",
       "    <tr>\n",
       "      <th>6085</th>\n",
       "      <td>Oc1ccc2c(c1)C[C@@H]1[C@@H](CCCN1CCN1CCN(c3cccc...</td>\n",
       "      <td>True</td>\n",
       "    </tr>\n",
       "    <tr>\n",
       "      <th>1228</th>\n",
       "      <td>CCN1CCc2cc(OC)cc3c2[C@H]1Cc1cccc(O)c1-3</td>\n",
       "      <td>True</td>\n",
       "    </tr>\n",
       "    <tr>\n",
       "      <th>1529</th>\n",
       "      <td>CN1C(=O)c2ccccc2[S+]([O-])c2ccc(C(=O)NCCc3cccs...</td>\n",
       "      <td>True</td>\n",
       "    </tr>\n",
       "    <tr>\n",
       "      <th>...</th>\n",
       "      <td>...</td>\n",
       "      <td>...</td>\n",
       "    </tr>\n",
       "    <tr>\n",
       "      <th>3521</th>\n",
       "      <td>Cc1cccc(NC(=O)CN2CCC(c3cccc[n+]3[O-])CC2)c1</td>\n",
       "      <td>False</td>\n",
       "    </tr>\n",
       "    <tr>\n",
       "      <th>1737</th>\n",
       "      <td>CN1CCc2cc(-n3cccc3)c(O)cc2C(c2ccccc2)C1</td>\n",
       "      <td>False</td>\n",
       "    </tr>\n",
       "    <tr>\n",
       "      <th>2076</th>\n",
       "      <td>COc1cc(CN2CCN(c3ccccc3OC)CC2)ccc1OCc1cn(CCOCCO...</td>\n",
       "      <td>True</td>\n",
       "    </tr>\n",
       "    <tr>\n",
       "      <th>5132</th>\n",
       "      <td>O=C1CC(CN2CCC(C(=O)c3ccc(F)cc3)CC2)Cc2cc(-c3cc...</td>\n",
       "      <td>False</td>\n",
       "    </tr>\n",
       "    <tr>\n",
       "      <th>878</th>\n",
       "      <td>CCCN(CCN1CCN(c2ccc(-c3ccccc3)cc2)CC1)C1CCc2ccc...</td>\n",
       "      <td>True</td>\n",
       "    </tr>\n",
       "  </tbody>\n",
       "</table>\n",
       "<p>400 rows × 2 columns</p>\n",
       "</div>"
      ],
      "text/plain": [
       "                                                 smiles  value\n",
       "2385  COc1ccc(S(=O)(=O)N[C@H]2CC[C@@H](N3CCC(c4ccc(F...   True\n",
       "3743       Clc1ccc(CN2CC=C(c3nc4cc(Cl)ccc4[nH]3)CC2)cc1   True\n",
       "6085  Oc1ccc2c(c1)C[C@@H]1[C@@H](CCCN1CCN1CCN(c3cccc...   True\n",
       "1228            CCN1CCc2cc(OC)cc3c2[C@H]1Cc1cccc(O)c1-3   True\n",
       "1529  CN1C(=O)c2ccccc2[S+]([O-])c2ccc(C(=O)NCCc3cccs...   True\n",
       "...                                                 ...    ...\n",
       "3521        Cc1cccc(NC(=O)CN2CCC(c3cccc[n+]3[O-])CC2)c1  False\n",
       "1737            CN1CCc2cc(-n3cccc3)c(O)cc2C(c2ccccc2)C1  False\n",
       "2076  COc1cc(CN2CCN(c3ccccc3OC)CC2)ccc1OCc1cn(CCOCCO...   True\n",
       "5132  O=C1CC(CN2CCC(C(=O)c3ccc(F)cc3)CC2)Cc2cc(-c3cc...  False\n",
       "878   CCCN(CCN1CCN(c2ccc(-c3ccccc3)cc2)CC1)C1CCc2ccc...   True\n",
       "\n",
       "[400 rows x 2 columns]"
      ]
     },
     "execution_count": 3,
     "metadata": {},
     "output_type": "execute_result"
    }
   ],
   "source": [
    "# Select a random subset of 400 molecules\n",
    "idx = np.arange(len(drd2_hi))\n",
    "np.random.shuffle(idx)\n",
    "idx = idx[:400]\n",
    "drd2_hi = drd2_hi.iloc[idx]\n",
    "drd2_hi"
   ]
  },
  {
   "cell_type": "markdown",
   "metadata": {},
   "source": [
    "## Problem Formulation\n",
    "\n",
    "In molecular property prediction, datasets are commonly divided using either a random split or a scaffold split. However, when the objective is to discover novel molecules, these methods might not be the most suitable. Let's explore why."
   ]
  },
  {
   "cell_type": "markdown",
   "metadata": {},
   "source": [
    "### Random Split"
   ]
  },
  {
   "cell_type": "code",
   "execution_count": 4,
   "metadata": {},
   "outputs": [],
   "source": [
    "from sklearn.model_selection import train_test_split\n",
    "\n",
    "smiles = drd2_hi['smiles'].to_list()\n",
    "train_smiles, test_smiles = train_test_split(smiles, train_size=0.8, test_size=0.2)"
   ]
  },
  {
   "cell_type": "markdown",
   "metadata": {},
   "source": [
    "For each molecule in the test set, find its similarity to the most similar molecule in the training set."
   ]
  },
  {
   "cell_type": "code",
   "execution_count": 5,
   "metadata": {},
   "outputs": [
    {
     "data": {
      "text/plain": [
       "Text(0.5, 1.0, 'Maximal similarity to train')"
      ]
     },
     "execution_count": 5,
     "metadata": {},
     "output_type": "execute_result"
    },
    {
     "data": {
      "image/png": "[encoded data removed]",
      "text/plain": [
       "<Figure size 640x480 with 1 Axes>"
      ]
     },
     "metadata": {},
     "output_type": "display_data"
    }
   ],
   "source": [
    "nearest_sim, nearest_idx = lohi.get_similar_mols(test_smiles, train_smiles, return_idx=True)\n",
    "plt.hist(nearest_sim, bins=50)\n",
    "plt.axvline(x=0.4, color = 'r', ls='--')\n",
    "plt.title('Maximal similarity to train')"
   ]
  },
  {
   "cell_type": "markdown",
   "metadata": {},
   "source": [
    "Using a random split will likely favor models that perform best on molecules similar to those in the training set, as most of the test molecules have a similarity score greater than 0.4 with the training set."
   ]
  },
  {
   "cell_type": "markdown",
   "metadata": {},
   "source": [
    "### Scaffold split\n",
    "\n",
    "Some researchers argue that a scaffold split results in better and more meaningful dataset divisions."
   ]
  },
  {
   "cell_type": "code",
   "execution_count": 6,
   "metadata": {},
   "outputs": [
    {
     "name": "stderr",
     "output_type": "stream",
     "text": [
      "Skipped loading some Tensorflow models, missing a dependency. No module named 'tensorflow'\n",
      "Skipped loading some PyTorch models, missing a dependency. No module named 'torch'\n",
      "Skipped loading modules with pytorch-geometric dependency, missing a dependency. No module named 'torch'\n",
      "Skipped loading modules with pytorch-lightning dependency, missing a dependency. No module named 'torch'\n",
      "Skipped loading some Jax models, missing a dependency. No module named 'jax'\n"
     ]
    }
   ],
   "source": [
    "from deepchem.data import NumpyDataset\n",
    "from deepchem.splits import ScaffoldSplitter\n",
    "dataset = NumpyDataset(X=smiles, y=smiles, ids=smiles)\n",
    "scaffold_splitter = ScaffoldSplitter()\n",
    "train, test = scaffold_splitter.train_test_split(dataset)\n",
    "train_smiles = train.ids\n",
    "test_smiles = test.ids"
   ]
  },
  {
   "cell_type": "code",
   "execution_count": 7,
   "metadata": {},
   "outputs": [
    {
     "data": {
      "text/plain": [
       "Text(0.5, 1.0, 'Maximal similarity to train')"
      ]
     },
     "execution_count": 7,
     "metadata": {},
     "output_type": "execute_result"
    },
    {
     "data": {
      "image/png": "[encoded data removed]",
      "text/plain": [
       "<Figure size 640x480 with 1 Axes>"
      ]
     },
     "metadata": {},
     "output_type": "display_data"
    }
   ],
   "source": [
    "nearest_sim, nearest_idx = lohi.get_similar_mols(test_smiles, train_smiles, return_idx=True)\n",
    "plt.hist(nearest_sim, bins=50)\n",
    "plt.axvline(x=0.4, color = 'r', ls='--')\n",
    "plt.title('Maximal similarity to train')"
   ]
  },
  {
   "cell_type": "markdown",
   "metadata": {},
   "source": [
    "The problem is the same. Let's fix that."
   ]
  },
  {
   "cell_type": "markdown",
   "metadata": {},
   "source": [
    "## Hi Split, Train-Test\n",
    "The Hi splitter divides the dataset into training and test sets in such a manner that no molecule in the test set is similar to any molecule in the training set. Occasionally, an exact split might not be feasible, leading to the discarding of some molecules. To minimize the number of discarded molecules, the Hi splitter implements the minimal vertex k-cut method."
   ]
  },
  {
   "cell_type": "code",
   "execution_count": 8,
   "metadata": {},
   "outputs": [
    {
     "name": "stdout",
     "output_type": "stream",
     "text": [
      "Total molecules in the giant component: 236.0\n",
      "Min train size 165\n",
      "Min test size 23\n",
      "Welcome to the CBC MILP Solver \n",
      "Version: Trunk\n",
      "Build Date: Oct 24 2021 \n",
      "\n",
      "Starting solution of the Linear programming relaxation problem using Primal Simplex\n",
      "\n",
      "Coin0506I Presolve 2486 (-472) rows, 472 (0) columns and 5440 (-944) elements\n",
      "Clp1000I sum of infeasibilities 4.44736e-07 - average 1.78896e-10, 0 fixed columns\n",
      "Coin0506I Presolve 2486 (0) rows, 472 (0) columns and 5440 (0) elements\n",
      "Clp0029I End of values pass after 472 iterations\n",
      "Clp0014I Perturbing problem by 0.001% of 1.0631508 - largest nonzero change 2.9979106e-05 ( 0.0014989553%) - largest zero change 0\n",
      "Clp0000I Optimal - objective value 236\n",
      "Clp0000I Optimal - objective value 236\n",
      "Clp0000I Optimal - objective value 236\n",
      "Coin0511I After Postsolve, objective 236, infeasibilities - dual 0 (0), primal 0 (0)\n",
      "Clp0032I Optimal objective 236 - 0 iterations time 0.072, Presolve 0.00, Idiot 0.07\n",
      "\n",
      "Starting MIP optimization\n",
      "Cgl0004I processed model has 2486 rows, 472 columns (472 integer (472 of which binary)) and 5440 elements\n",
      "Coin3009W Conflict graph built in 0.000 seconds, density: 0.663%\n",
      "Cgl0015I Clique Strengthening extended 0 cliques, 0 were dominated\n",
      "Cbc0045I Nauty: 2913 orbits (42 useful covering 102 variables), 57 generators, group size: 6.73143e+20 - sparse size 19630 - took 0.011203 seconds\n",
      "Cbc0038I Initial state - 472 integers unsatisfied sum - 47.2\n",
      "Cbc0038I Pass   1: suminf.   47.20000 (472) obj. -236 iterations 141\n",
      "Cbc0038I Pass   2: suminf.    5.12744 (424) obj. -230.073 iterations 99\n",
      "Cbc0038I Pass   3: suminf.    5.12744 (424) obj. -230.073 iterations 21\n",
      "Cbc0038I Pass   4: suminf.    5.20000 (54) obj. -223 iterations 199\n",
      "Cbc0038I Pass   5: suminf.    5.02667 (58) obj. -223.173 iterations 230\n",
      "Cbc0038I Pass   6: suminf.    0.00000 (0) obj. -213 iterations 334\n",
      "Cbc0038I Solution found of -213\n",
      "Cbc0038I Rounding solution of -220 is better than previous of -213\n",
      "\n",
      "Cbc0038I Before mini branch and bound, 0 integers at bound fixed and 0 continuous\n",
      "Cbc0038I Full problem 2486 rows 472 columns, reduced to 2486 rows 472 columns - 59 fixed gives 204, 140 - ok now\n",
      "Cbc0038I Full problem 2486 rows 472 columns, reduced to 62 rows 45 columns\n",
      "Cbc0038I Mini branch and bound improved solution from -220 to -221 (0.08 seconds)\n",
      "Cbc0038I Round again with cutoff of -223.4\n",
      "Cbc0038I Pass   7: suminf.   47.20000 (472) obj. -236 iterations 0\n",
      "Cbc0038I Pass   8: suminf.    5.12744 (424) obj. -230.073 iterations 224\n",
      "Cbc0038I Pass   9: suminf.    5.12744 (424) obj. -230.073 iterations 23\n",
      "Cbc0038I Pass  10: suminf.    5.20000 (60) obj. -225 iterations 147\n",
      "Cbc0038I Pass  11: suminf.    5.06698 (419) obj. -225.133 iterations 162\n",
      "Cbc0038I Pass  12: suminf.    5.42060 (58) obj. -223.4 iterations 183\n",
      "Cbc0038I Pass  13: suminf.    5.25324 (59) obj. -223.4 iterations 202\n",
      "Cbc0038I Pass  14: suminf.    5.59991 (53) obj. -223.4 iterations 180\n",
      "Cbc0038I Pass  15: suminf.    5.25324 (59) obj. -223.4 iterations 214\n",
      "Cbc0038I Pass  16: suminf.   22.39916 (56) obj. -223.4 iterations 293\n",
      "Cbc0038I Pass  17: suminf.    0.39991 (1) obj. -223.4 iterations 75\n",
      "Cbc0038I Pass  18: suminf.    0.39991 (1) obj. -223.4 iterations 4\n",
      "Cbc0038I Solution found of -224\n",
      "Cbc0038I Before mini branch and bound, 0 integers at bound fixed and 0 continuous\n",
      "Cbc0038I Full problem 2486 rows 472 columns, reduced to 2486 rows 472 columns - 207 fixed gives 15, 12 - ok now\n",
      "Cbc0038I Full problem 2486 rows 472 columns, reduced to 4 rows 4 columns\n",
      "Cbc0038I Mini branch and bound improved solution from -224 to -225 (0.15 seconds)\n",
      "Cbc0038I Round again with cutoff of -228\n",
      "Cbc0038I Pass  19: suminf.   47.20000 (472) obj. -236 iterations 0\n",
      "Cbc0038I Pass  20: suminf.    5.12744 (424) obj. -230.073 iterations 225\n",
      "Cbc0038I Pass  21: suminf.    5.12744 (424) obj. -230.073 iterations 24\n",
      "Cbc0038I Pass  22: suminf.    5.70315 (66) obj. -228 iterations 194\n",
      "Cbc0038I Pass  23: suminf.    5.10326 (422) obj. -228.097 iterations 253\n",
      "Cbc0038I Pass  24: suminf.    4.17023 (363) obj. -228 iterations 187\n",
      "Cbc0038I Pass  25: suminf.    0.00024 (3) obj. -228 iterations 256\n",
      "Cbc0038I Solution found of -228\n",
      "Cbc0038I Before mini branch and bound, 0 integers at bound fixed and 0 continuous\n",
      "Cbc0038I Full problem 2486 rows 472 columns, reduced to 2486 rows 472 columns - 188 fixed gives 564, 77 - ok now\n",
      "Cbc0038I Full problem 2486 rows 472 columns, reduced to 564 rows 77 columns\n",
      "Cbc0038I Mini branch and bound did not improve solution (0.26 seconds)\n",
      "Cbc0038I Round again with cutoff of -231.1\n",
      "Cbc0038I Pass  26: suminf.   47.20000 (472) obj. -236 iterations 0\n",
      "Cbc0038I Pass  27: suminf.   11.36385 (435) obj. -231.1 iterations 236\n",
      "Cbc0038I Pass  28: suminf.   11.36385 (435) obj. -231.1 iterations 38\n",
      "Cbc0038I Pass  29: suminf.    5.47718 (435) obj. -231.1 iterations 31\n",
      "Cbc0038I Pass  30: suminf.    5.47718 (435) obj. -231.1 iterations 16\n",
      "Cbc0038I Pass  31: suminf.   13.07945 (434) obj. -232.121 iterations 75\n",
      "Cbc0038I Pass  32: suminf.   12.96622 (75) obj. -231.1 iterations 154\n",
      "Cbc0038I Pass  33: suminf.   11.09725 (432) obj. -232.103 iterations 154\n",
      "Cbc0038I Pass  34: suminf.    0.29979 (3) obj. -231.1 iterations 247\n",
      "Cbc0038I Pass  35: suminf.    0.29979 (3) obj. -231.1 iterations 4\n",
      "Cbc0038I Solution found of -232\n",
      "Cbc0038I Before mini branch and bound, 0 integers at bound fixed and 0 continuous\n",
      "Cbc0038I Full problem 2486 rows 472 columns, reduced to 2486 rows 472 columns - 171 fixed gives 681, 113 - ok now\n",
      "Cbc0038I Full problem 2486 rows 472 columns, reduced to 681 rows 113 columns\n",
      "Cbc0038I Mini branch and bound did not improve solution (0.33 seconds)\n",
      "Cbc0038I Round again with cutoff of -233.9\n",
      "Cbc0038I Pass  36: suminf.   47.20000 (472) obj. -236 iterations 0\n",
      "Cbc0038I Pass  37: suminf.   31.62058 (472) obj. -233.9 iterations 117\n",
      "Cbc0038I Pass  38: suminf.   31.62058 (472) obj. -233.9 iterations 13\n",
      "Cbc0038I Pass  39: suminf.   31.62058 (472) obj. -233.9 iterations 10\n",
      "Cbc0038I Pass  40: suminf.   30.82982 (472) obj. -233.9 iterations 114\n",
      "Cbc0038I Pass  41: suminf.   30.82982 (472) obj. -233.9 iterations 113\n",
      "Cbc0038I Pass  42: suminf.   30.82982 (472) obj. -233.9 iterations 12\n",
      "Cbc0038I Pass  43: suminf.   30.82982 (472) obj. -233.9 iterations 116\n",
      "Cbc0038I Pass  44: suminf.   30.06280 (472) obj. -233.9 iterations 126\n",
      "Cbc0038I Pass  45: suminf.   30.06280 (472) obj. -233.9 iterations 90\n",
      "Cbc0038I Pass  46: suminf.   30.06280 (472) obj. -233.9 iterations 4\n",
      "Cbc0038I Pass  47: suminf.   30.06280 (472) obj. -233.9 iterations 127\n",
      "Cbc0038I Pass  48: suminf.   28.59993 (472) obj. -233.9 iterations 120\n",
      "Cbc0038I Pass  49: suminf.   28.59993 (472) obj. -233.9 iterations 118\n",
      "Cbc0038I Pass  50: suminf.   28.59993 (472) obj. -233.9 iterations 11\n",
      "Cbc0038I Pass  51: suminf.   16.30007 (414) obj. -233.9 iterations 121\n",
      "Cbc0038I Pass  52: suminf.   15.16545 (439) obj. -235.035 iterations 144\n",
      "Cbc0038I Pass  53: suminf.   16.30007 (439) obj. -233.9 iterations 125\n",
      "Cbc0038I Pass  54: suminf.   16.30007 (439) obj. -233.9 iterations 107\n",
      "Cbc0038I Pass  55: suminf.   16.30007 (439) obj. -233.9 iterations 114\n",
      "Cbc0038I Pass  56: suminf.   18.30007 (441) obj. -233.9 iterations 137\n",
      "Cbc0038I Pass  57: suminf.   17.16109 (441) obj. -235.039 iterations 151\n",
      "Cbc0038I Pass  58: suminf.   16.30007 (62) obj. -233.9 iterations 222\n",
      "Cbc0038I Pass  59: suminf.   16.30007 (75) obj. -233.9 iterations 178\n",
      "Cbc0038I Pass  60: suminf.   16.30007 (70) obj. -233.9 iterations 160\n",
      "Cbc0038I Pass  61: suminf.    3.30007 (426) obj. -233.9 iterations 276\n",
      "Cbc0038I Pass  62: suminf.    3.18505 (426) obj. -234.015 iterations 170\n",
      "Cbc0038I Pass  63: suminf.    1.30007 (399) obj. -233.9 iterations 186\n",
      "Cbc0038I Pass  64: suminf.    1.19437 (424) obj. -234.006 iterations 161\n",
      "Cbc0038I Pass  65: suminf.    1.30007 (424) obj. -233.9 iterations 125\n",
      "Cbc0038I No solution found this major pass\n",
      "Cbc0038I Before mini branch and bound, 0 integers at bound fixed and 0 continuous\n",
      "Cbc0038I Full problem 2486 rows 472 columns, reduced to 2486 rows 472 columns - 171 fixed gives 681, 113 - ok now\n",
      "Cbc0038I Mini branch and bound did not improve solution (0.52 seconds)\n",
      "Cbc0038I After 0.52 seconds - Feasibility pump exiting with objective of -232 - took 0.50 seconds\n",
      "Cbc0012I Integer solution of -232 found by feasibility pump after 0 iterations and 0 nodes (0.52 seconds)\n",
      "Cbc0030I Thread 0 used 0 times,  waiting to start 0.024983406, 0 cpu time, 0 locks, 0 locked, 0 waiting for locks\n",
      "Cbc0030I Thread 1 used 0 times,  waiting to start 0.024384975, 0 cpu time, 0 locks, 0 locked, 0 waiting for locks\n",
      "Cbc0030I Thread 2 used 0 times,  waiting to start 0.02337718, 0 cpu time, 0 locks, 0 locked, 0 waiting for locks\n",
      "Cbc0030I Thread 3 used 0 times,  waiting to start 0.022068739, 0 cpu time, 0 locks, 0 locked, 0 waiting for locks\n",
      "Cbc0030I Thread 4 used 0 times,  waiting to start 0.02063632, 0 cpu time, 0 locks, 0 locked, 0 waiting for locks\n",
      "Cbc0030I Thread 5 used 0 times,  waiting to start 0.019248962, 0 cpu time, 0 locks, 0 locked, 0 waiting for locks\n",
      "Cbc0030I Thread 6 used 0 times,  waiting to start 0.017976522, 0 cpu time, 0 locks, 0 locked, 0 waiting for locks\n",
      "Cbc0030I Thread 7 used 0 times,  waiting to start 0.016773939, 0 cpu time, 0 locks, 0 locked, 0 waiting for locks\n",
      "Cbc0030I Thread 8 used 0 times,  waiting to start 0.015488863, 0 cpu time, 0 locks, 0 locked, 0 waiting for locks\n",
      "Cbc0030I Thread 9 used 0 times,  waiting to start 0.014177561, 0 cpu time, 0 locks, 0 locked, 0 waiting for locks\n",
      "Cbc0030I Thread 10 used 0 times,  waiting to start 0.012915611, 0 cpu time, 0 locks, 0 locked, 0 waiting for locks\n",
      "Cbc0030I Thread 11 used 0 times,  waiting to start 0.011681318, 0 cpu time, 0 locks, 0 locked, 0 waiting for locks\n",
      "Cbc0030I Thread 12 used 0 times,  waiting to start 0.01048255, 0 cpu time, 0 locks, 0 locked, 0 waiting for locks\n",
      "Cbc0030I Thread 13 used 0 times,  waiting to start 0.0092790127, 0 cpu time, 0 locks, 0 locked, 0 waiting for locks\n",
      "Cbc0030I Thread 14 used 0 times,  waiting to start 0.007925272, 0 cpu time, 0 locks, 0 locked, 0 waiting for locks\n",
      "Cbc0030I Thread 15 used 0 times,  waiting to start 0.0066478252, 0 cpu time, 0 locks, 0 locked, 0 waiting for locks\n",
      "Cbc0030I Thread 16 used 0 times,  waiting to start 0.0053939819, 0 cpu time, 0 locks, 0 locked, 0 waiting for locks\n",
      "Cbc0030I Thread 17 used 0 times,  waiting to start 0.0042083263, 0 cpu time, 0 locks, 0 locked, 0 waiting for locks\n",
      "Cbc0030I Thread 18 used 0 times,  waiting to start 0.0030128956, 0 cpu time, 0 locks, 0 locked, 0 waiting for locks\n",
      "Cbc0030I Thread 19 used 0 times,  waiting to start 0.0017633438, 0 cpu time, 0 locks, 0 locked, 0 waiting for locks\n",
      "Cbc0030I Main thread 0 waiting for threads,  1 locks, 1.1920929e-06 locked, 4.7683716e-07 waiting for locks\n",
      "Cbc0011I Exiting as integer gap of 4 less than 1e-10 or 10%\n",
      "Cbc0001I Search completed - best objective -232, took 0 iterations and 0 nodes (0.55 seconds)\n",
      "Cbc0035I Maximum depth 0, 0 variables fixed on reduced cost\n",
      "Total time (CPU seconds):       0.56   (Wallclock seconds):       0.56\n",
      "\n",
      "\n",
      "Total partitions: 2\n",
      "Number of discarded molecules: 4\n",
      "Molecules in partition 0 : 346\n",
      "Molecules in partition 1 : 50\n"
     ]
    }
   ],
   "source": [
    "smiles = drd2_hi['smiles'].to_list()\n",
    "\n",
    "# Define a threshold for similarity. Molecules with a similarity score greater than 0.4 are considered similar.\n",
    "similarity_threshold = 0.4\n",
    "\n",
    "# Set proportions for the train and test sets.\n",
    "train_min_frac = 0.7\n",
    "test_min_frac = 0.1\n",
    "\n",
    "# The combined fraction of train and test sets does not sum up to 1.0. This is because the splitter \n",
    "# might need to discard some molecules to achieve an approximate solution. In some cases, it's \n",
    "# challenging to partition the dataset precisely without excluding certain molecules. As a general \n",
    "# guideline, if the combined fractions are less than 1.0, the splitting process will be quicker, \n",
    "# but there's a possibility that more molecules will be discarded.\n",
    "\n",
    "partition = lohi.hi_train_test_split(smiles, similarity_threshold, \n",
    "                                    train_min_frac, test_min_frac)\n"
   ]
  },
  {
   "cell_type": "code",
   "execution_count": 9,
   "metadata": {},
   "outputs": [],
   "source": [
    "train_idx = partition[0]\n",
    "test_idx = partition[1]\n",
    "\n",
    "train_smiles = drd2_hi.iloc[train_idx]['smiles'].to_list()\n",
    "test_smiles = drd2_hi.iloc[test_idx]['smiles'].to_list()"
   ]
  },
  {
   "cell_type": "code",
   "execution_count": 10,
   "metadata": {},
   "outputs": [
    {
     "data": {
      "text/plain": [
       "Text(0.5, 1.0, 'Maximal similarity to train')"
      ]
     },
     "execution_count": 10,
     "metadata": {},
     "output_type": "execute_result"
    },
    {
     "data": {
      "image/png": "[encoded data removed]",
      "text/plain": [
       "<Figure size 640x480 with 1 Axes>"
      ]
     },
     "metadata": {},
     "output_type": "display_data"
    }
   ],
   "source": [
    "nearest_sim, nearest_idx = lohi.get_similar_mols(test_smiles, train_smiles, return_idx=True)\n",
    "plt.hist(nearest_sim, bins=50)\n",
    "plt.axvline(x=0.4, color = 'r', ls='--')\n",
    "plt.title('Maximal similarity to train')"
   ]
  },
  {
   "cell_type": "markdown",
   "metadata": {},
   "source": [
    "nice."
   ]
  },
  {
   "cell_type": "markdown",
   "metadata": {},
   "source": [
    "# Hi Split: k-fold\n",
    "The Hi splitter can also partition the dataset into k equal parts, which can be useful for conducting k-fold cross-validation, especially with smaller datasets. \n",
    "Let's divide our data into three parts for 3-fold cross-validation."
   ]
  },
  {
   "cell_type": "code",
   "execution_count": 11,
   "metadata": {},
   "outputs": [
    {
     "name": "stdout",
     "output_type": "stream",
     "text": [
      "Total molecules in the giant component: 236.0\n",
      "Min size of a partition: 70\n",
      "Starting solution of the Linear programming relaxation problem using Primal Simplex\n",
      "\n",
      "Coin0506I Presolve 7691 (-708) rows, 708 (0) columns and 16320 (-1416) elements\n",
      "Clp1000I sum of infeasibilities 0 - average 0, 0 fixed columns\n",
      "Coin0506I Presolve 7691 (0) rows, 708 (0) columns and 16320 (0) elements\n",
      "Clp0006I 0  Obj 210.24778 Dual inf 70799.999 (708)\n",
      "Clp0029I End of values pass after 708 iterations\n",
      "Clp0014I Perturbing problem by 0.001% of 1.0246458 - largest nonzero change 2.9997567e-05 ( 0.0014998784%) - largest zero change 2.9520862e-05\n",
      "Clp0000I Optimal - objective value 236\n",
      "Clp0000I Optimal - objective value 236\n",
      "Clp0000I Optimal - objective value 236\n",
      "Coin0511I After Postsolve, objective 236, infeasibilities - dual 0 (0), primal 0 (0)\n",
      "Clp0032I Optimal objective 236 - 0 iterations time 0.322, Presolve 0.00, Idiot 0.31\n",
      "\n",
      "Starting MIP optimization\n",
      "Cgl0003I 0 fixed, 0 tightened bounds, 6872 strengthened rows, 0 substitutions\n",
      "Cgl0003I 0 fixed, 0 tightened bounds, 554 strengthened rows, 0 substitutions\n",
      "Cgl0003I 0 fixed, 0 tightened bounds, 26 strengthened rows, 0 substitutions\n",
      "Cgl0004I processed model has 6707 rows, 708 columns (708 integer (708 of which binary)) and 20820 elements\n",
      "Coin3009W Conflict graph built in 0.001 seconds, density: 0.813%\n",
      "Cgl0015I Clique Strengthening extended 0 cliques, 0 were dominated\n",
      "Cbc0045I Nauty did not find any useful orbits in time 0.019569\n",
      "Cbc0038I Initial state - 708 integers unsatisfied sum - 236\n",
      "Cbc0038I Pass   1: (0.88 seconds) suminf.  117.39906 (344) obj. -210 iterations 2659\n",
      "Cbc0038I Pass   2: (0.96 seconds) suminf.   50.69903 (263) obj. -210.301 iterations 729\n",
      "Cbc0038I Pass   3: (0.96 seconds) suminf.   50.69903 (263) obj. -210.301 iterations 14\n",
      "Cbc0038I Pass   4: (0.99 seconds) suminf.   35.10000 (81) obj. -210 iterations 375\n",
      "Cbc0038I Pass   5: (1.01 seconds) suminf.   25.52381 (64) obj. -210 iterations 285\n",
      "Cbc0038I Pass   6: (1.06 seconds) suminf.   18.57959 (175) obj. -213.42 iterations 697\n",
      "Cbc0038I Pass   7: (1.09 seconds) suminf.   16.00000 (88) obj. -210 iterations 397\n",
      "Cbc0038I Pass   8: (1.13 seconds) suminf.    9.13576 (163) obj. -210.864 iterations 437\n",
      "Cbc0038I Pass   9: (1.13 seconds) suminf.    9.13576 (163) obj. -210.864 iterations 8\n",
      "Cbc0038I Pass  10: (1.16 seconds) suminf.    5.07407 (71) obj. -210 iterations 387\n",
      "Cbc0038I Pass  11: (1.20 seconds) suminf.    2.37037 (15) obj. -210 iterations 449\n",
      "Cbc0038I Pass  12: (1.22 seconds) suminf.    1.75000 (28) obj. -210.25 iterations 386\n",
      "Cbc0038I Pass  13: (1.25 seconds) suminf.    2.00000 (10) obj. -210 iterations 574\n",
      "Cbc0038I Pass  14: (1.30 seconds) suminf.    6.00000 (12) obj. -210 iterations 463\n",
      "Cbc0038I Pass  15: (1.34 seconds) suminf.    4.00000 (8) obj. -210 iterations 396\n",
      "Cbc0038I Pass  16: (1.35 seconds) suminf.    4.00000 (8) obj. -210 iterations 5\n",
      "Cbc0038I Pass  17: (1.35 seconds) suminf.    4.00000 (8) obj. -210 iterations 64\n",
      "Cbc0038I Pass  18: (1.40 seconds) suminf.    2.80000 (12) obj. -210 iterations 599\n",
      "Cbc0038I Pass  19: (1.43 seconds) suminf.    1.50000 (3) obj. -210.5 iterations 517\n",
      "Cbc0038I Pass  20: (1.43 seconds) suminf.    0.00000 (0) obj. -210 iterations 257\n",
      "Cbc0038I Solution found of -210\n",
      "Cbc0038I Rounding solution of -211 is better than previous of -210\n",
      "\n",
      "Cbc0038I Before mini branch and bound, 0 integers at bound fixed and 0 continuous\n",
      "Cbc0038I Full problem 6707 rows 708 columns, reduced to 6707 rows 708 columns - 65 fixed gives 415, 165 - ok now\n",
      "Cbc0038I Mini branch and bound did not improve solution (1.58 seconds)\n",
      "Cbc0038I Round again with cutoff of -214.4\n",
      "Cbc0038I Pass  21: (1.60 seconds) suminf.  140.54813 (351) obj. -214.4 iterations 77\n",
      "Cbc0038I Pass  22: (1.69 seconds) suminf.   59.82609 (172) obj. -215.174 iterations 776\n",
      "Cbc0038I Pass  23: (1.70 seconds) suminf.   59.82609 (172) obj. -215.174 iterations 14\n",
      "Cbc0038I Pass  24: (1.72 seconds) suminf.   39.48404 (109) obj. -214.4 iterations 320\n",
      "Cbc0038I Pass  25: (1.77 seconds) suminf.   33.59355 (138) obj. -214.4 iterations 492\n",
      "Cbc0038I Pass  26: (1.80 seconds) suminf.   20.18024 (219) obj. -214.4 iterations 191\n",
      "Cbc0038I Pass  27: (1.81 seconds) suminf.   20.18024 (219) obj. -214.4 iterations 19\n",
      "Cbc0038I Pass  28: (1.83 seconds) suminf.   19.17575 (194) obj. -214.4 iterations 177\n",
      "Cbc0038I Pass  29: (1.85 seconds) suminf.   15.70868 (216) obj. -214.4 iterations 132\n",
      "Cbc0038I Pass  30: (1.89 seconds) suminf.   14.11254 (216) obj. -214.4 iterations 187\n",
      "Cbc0038I Pass  31: (1.92 seconds) suminf.   13.90298 (218) obj. -214.4 iterations 143\n",
      "Cbc0038I Pass  32: (1.96 seconds) suminf.   14.38533 (188) obj. -214.4 iterations 244\n",
      "Cbc0038I Pass  33: (2.01 seconds) suminf.   20.26826 (189) obj. -214.4 iterations 378\n",
      "Cbc0038I Pass  34: (2.06 seconds) suminf.   13.02994 (135) obj. -214.4 iterations 389\n",
      "Cbc0038I Pass  35: (2.07 seconds) suminf.   13.02994 (135) obj. -214.4 iterations 24\n",
      "Cbc0038I Pass  36: (2.14 seconds) suminf.   15.16541 (211) obj. -214.4 iterations 443\n",
      "Cbc0038I Pass  37: (2.16 seconds) suminf.   15.16541 (211) obj. -214.4 iterations 136\n",
      "Cbc0038I Pass  38: (2.21 seconds) suminf.   24.67797 (216) obj. -218.322 iterations 435\n",
      "Cbc0038I Pass  39: (2.27 seconds) suminf.   24.86431 (131) obj. -214.4 iterations 602\n",
      "Cbc0038I Pass  40: (2.31 seconds) suminf.   22.06165 (198) obj. -214.978 iterations 366\n",
      "Cbc0038I Pass  41: (2.36 seconds) suminf.   18.51671 (110) obj. -214.4 iterations 510\n",
      "Cbc0038I Pass  42: (2.43 seconds) suminf.   17.92300 (197) obj. -214.4 iterations 471\n",
      "Cbc0038I Pass  43: (2.47 seconds) suminf.   18.61550 (159) obj. -214.4 iterations 366\n",
      "Cbc0038I Pass  44: (2.49 seconds) suminf.   18.45568 (187) obj. -214.544 iterations 215\n",
      "Cbc0038I Pass  45: (2.54 seconds) suminf.   21.10690 (116) obj. -214.4 iterations 533\n",
      "Cbc0038I Pass  46: (2.60 seconds) suminf.   18.79305 (202) obj. -216.207 iterations 653\n",
      "Cbc0038I Pass  47: (2.66 seconds) suminf.   16.67313 (112) obj. -214.4 iterations 553\n",
      "Cbc0038I Pass  48: (2.75 seconds) suminf.   13.93614 (109) obj. -214.4 iterations 709\n",
      "Cbc0038I Pass  49: (2.81 seconds) suminf.   12.75434 (201) obj. -214.4 iterations 401\n",
      "Cbc0038I Pass  50: (2.82 seconds) suminf.   12.75130 (201) obj. -214.4 iterations 39\n",
      "Cbc0038I No solution found this major pass\n",
      "Cbc0038I Before mini branch and bound, 0 integers at bound fixed and 0 continuous\n",
      "Cbc0038I Full problem 6707 rows 708 columns, reduced to 6707 rows 708 columns - 61 fixed gives 426, 147 - ok now\n",
      "Cbc0038I Full problem 6707 rows 708 columns, reduced to 426 rows 147 columns\n",
      "Cbc0038I Mini branch and bound improved solution from -210 to -213 (3.04 seconds)\n",
      "Cbc0038I Round again with cutoff of -218.72\n",
      "Cbc0038I Pass  50: (3.07 seconds) suminf.  147.33269 (380) obj. -218.72 iterations 119\n",
      "Cbc0038I Pass  51: (3.19 seconds) suminf.  103.84314 (389) obj. -218.72 iterations 832\n",
      "Cbc0038I Pass  52: (3.21 seconds) suminf.  101.41261 (431) obj. -218.72 iterations 115\n",
      "Cbc0038I Pass  53: (3.27 seconds) suminf.  102.75771 (324) obj. -218.72 iterations 305\n",
      "Cbc0038I Pass  54: (3.33 seconds) suminf.   99.48966 (304) obj. -218.72 iterations 430\n",
      "Cbc0038I Pass  55: (3.37 seconds) suminf.   74.20331 (235) obj. -218.72 iterations 344\n",
      "Cbc0038I Pass  56: (3.47 seconds) suminf.   63.06008 (354) obj. -219.94 iterations 841\n",
      "Cbc0038I Pass  57: (3.48 seconds) suminf.   63.06008 (354) obj. -219.94 iterations 10\n",
      "Cbc0038I Pass  58: (3.57 seconds) suminf.    4.91133 (298) obj. -218.72 iterations 780\n",
      "Cbc0038I Pass  59: (3.60 seconds) suminf.    4.91133 (298) obj. -218.72 iterations 161\n",
      "Cbc0038I Pass  60: (3.66 seconds) suminf.    2.29306 (293) obj. -218.72 iterations 489\n",
      "Cbc0038I Pass  61: (3.67 seconds) suminf.    1.89610 (292) obj. -219.104 iterations 188\n",
      "Cbc0038I Pass  62: (3.68 seconds) suminf.    2.28007 (27) obj. -218.72 iterations 358\n",
      "Cbc0038I Pass  63: (3.83 seconds) suminf.    4.71993 (16) obj. -218.72 iterations 1549\n",
      "Cbc0038I Pass  64: (3.85 seconds) suminf.    4.07959 (14) obj. -218.72 iterations 293\n",
      "Cbc0038I Pass  65: (3.88 seconds) suminf.    3.95960 (17) obj. -218.72 iterations 292\n",
      "Cbc0038I Pass  66: (4.08 seconds) suminf.    4.77833 (176) obj. -218.72 iterations 1655\n",
      "Cbc0038I Pass  67: (4.12 seconds) suminf.    4.76901 (181) obj. -218.72 iterations 249\n",
      "Cbc0038I Pass  68: (4.20 seconds) suminf.    3.27482 (130) obj. -218.72 iterations 889\n",
      "Cbc0038I Solution found of -219\n",
      "Cbc0038I Before mini branch and bound, 0 integers at bound fixed and 0 continuous\n",
      "Cbc0038I Full problem 6707 rows 708 columns, reduced to 6707 rows 708 columns - 121 fixed gives 3527, 292 - still too large\n",
      "Cbc0038I Full problem 6707 rows 708 columns, reduced to 3527 rows 292 columns - too large\n",
      "Cbc0038I Mini branch and bound did not improve solution (4.33 seconds)\n",
      "Cbc0038I Round again with cutoff of -224.8\n",
      "Cbc0038I Pass  69: (4.47 seconds) suminf.  164.33833 (524) obj. -224.8 iterations 667\n",
      "Cbc0038I Pass  70: (4.57 seconds) suminf.   46.12848 (441) obj. -224.8 iterations 644\n",
      "Cbc0038I Pass  71: (4.61 seconds) suminf.   44.53571 (343) obj. -224.8 iterations 215\n",
      "Cbc0038I Pass  72: (4.61 seconds) suminf.   44.24726 (343) obj. -224.8 iterations 31\n",
      "Cbc0038I Pass  73: (4.62 seconds) suminf.   43.96150 (343) obj. -224.8 iterations 36\n",
      "Cbc0038I Pass  74: (4.63 seconds) suminf.   43.96150 (343) obj. -224.8 iterations 40\n",
      "Cbc0038I Pass  75: (4.65 seconds) suminf.   45.27229 (343) obj. -224.8 iterations 75\n",
      "Cbc0038I Pass  76: (4.66 seconds) suminf.   45.27229 (343) obj. -224.8 iterations 63\n",
      "Cbc0038I Pass  77: (4.71 seconds) suminf.   44.35084 (336) obj. -224.8 iterations 246\n",
      "Cbc0038I Pass  78: (4.74 seconds) suminf.   43.64552 (343) obj. -224.8 iterations 172\n",
      "Cbc0038I Pass  79: (4.76 seconds) suminf.   44.82792 (343) obj. -224.8 iterations 103\n",
      "Cbc0038I Pass  80: (4.77 seconds) suminf.   44.82792 (343) obj. -224.8 iterations 67\n",
      "Cbc0038I Pass  81: (4.81 seconds) suminf.   43.67807 (336) obj. -224.8 iterations 214\n",
      "Cbc0038I Pass  82: (4.87 seconds) suminf.   49.04644 (352) obj. -224.8 iterations 381\n",
      "Cbc0038I Pass  83: (4.93 seconds) suminf.   44.27327 (343) obj. -224.8 iterations 408\n",
      "Cbc0038I Pass  84: (4.95 seconds) suminf.   45.56900 (336) obj. -224.8 iterations 112\n",
      "Cbc0038I Pass  85: (4.97 seconds) suminf.   45.54933 (343) obj. -224.8 iterations 129\n",
      "Cbc0038I Pass  86: (5.01 seconds) suminf.   43.93577 (343) obj. -224.8 iterations 209\n",
      "Cbc0038I Pass  87: (5.03 seconds) suminf.   43.91144 (343) obj. -224.8 iterations 84\n",
      "Cbc0038I Pass  88: (5.05 seconds) suminf.   45.10159 (336) obj. -224.8 iterations 134\n",
      "Cbc0038I Pass  89: (5.07 seconds) suminf.   45.07203 (343) obj. -224.8 iterations 71\n",
      "Cbc0038I Pass  90: (5.11 seconds) suminf.   43.93154 (336) obj. -224.8 iterations 179\n",
      "Cbc0038I Pass  91: (5.18 seconds) suminf.   45.24201 (327) obj. -224.8 iterations 515\n",
      "Cbc0038I Pass  92: (5.23 seconds) suminf.   44.22575 (343) obj. -224.8 iterations 392\n",
      "Cbc0038I Pass  93: (5.25 seconds) suminf.   43.95126 (336) obj. -224.8 iterations 120\n",
      "Cbc0038I Pass  94: (5.28 seconds) suminf.   43.91144 (343) obj. -224.8 iterations 129\n",
      "Cbc0038I Pass  95: (5.31 seconds) suminf.   45.10159 (336) obj. -224.8 iterations 174\n",
      "Cbc0038I Pass  96: (5.34 seconds) suminf.   45.07203 (343) obj. -224.8 iterations 130\n",
      "Cbc0038I Pass  97: (5.38 seconds) suminf.   43.95126 (336) obj. -224.8 iterations 233\n",
      "Cbc0038I Pass  98: (5.44 seconds) suminf.   45.72210 (409) obj. -224.8 iterations 362\n",
      "Cbc0038I No solution found this major pass\n",
      "Cbc0038I Before mini branch and bound, 0 integers at bound fixed and 0 continuous\n",
      "Cbc0038I Full problem 6707 rows 708 columns, reduced to 6707 rows 708 columns - 121 fixed gives 3527, 292 - still too large\n",
      "Cbc0038I Full problem 6707 rows 708 columns, reduced to 3527 rows 292 columns - too large\n",
      "Cbc0038I Mini branch and bound did not improve solution (5.57 seconds)\n",
      "Cbc0038I After 5.57 seconds - Feasibility pump exiting with objective of -219 - took 5.05 seconds\n",
      "Cbc0012I Integer solution of -219 found by feasibility pump after 0 iterations and 0 nodes (5.58 seconds)\n",
      "Cbc0030I Thread 0 used 0 times,  waiting to start 0.057009935, 0 cpu time, 0 locks, 0 locked, 0 waiting for locks\n",
      "Cbc0030I Thread 1 used 0 times,  waiting to start 0.05543375, 0 cpu time, 0 locks, 0 locked, 0 waiting for locks\n",
      "Cbc0030I Thread 2 used 0 times,  waiting to start 0.053950071, 0 cpu time, 0 locks, 0 locked, 0 waiting for locks\n",
      "Cbc0030I Thread 3 used 0 times,  waiting to start 0.052116394, 0 cpu time, 0 locks, 0 locked, 0 waiting for locks\n",
      "Cbc0030I Thread 4 used 0 times,  waiting to start 0.049739361, 0 cpu time, 0 locks, 0 locked, 0 waiting for locks\n",
      "Cbc0030I Thread 5 used 0 times,  waiting to start 0.046665907, 0 cpu time, 0 locks, 0 locked, 0 waiting for locks\n",
      "Cbc0030I Thread 6 used 0 times,  waiting to start 0.043514252, 0 cpu time, 0 locks, 0 locked, 0 waiting for locks\n",
      "Cbc0030I Thread 7 used 0 times,  waiting to start 0.040645838, 0 cpu time, 0 locks, 0 locked, 0 waiting for locks\n",
      "Cbc0030I Thread 8 used 0 times,  waiting to start 0.037541389, 0 cpu time, 0 locks, 0 locked, 0 waiting for locks\n",
      "Cbc0030I Thread 9 used 0 times,  waiting to start 0.03455019, 0 cpu time, 0 locks, 0 locked, 0 waiting for locks\n",
      "Cbc0030I Thread 10 used 0 times,  waiting to start 0.03172493, 0 cpu time, 0 locks, 0 locked, 0 waiting for locks\n",
      "Cbc0030I Thread 11 used 0 times,  waiting to start 0.028915644, 0 cpu time, 0 locks, 0 locked, 0 waiting for locks\n",
      "Cbc0030I Thread 12 used 0 times,  waiting to start 0.025971651, 0 cpu time, 0 locks, 0 locked, 0 waiting for locks\n",
      "Cbc0030I Thread 13 used 0 times,  waiting to start 0.022908211, 0 cpu time, 0 locks, 0 locked, 0 waiting for locks\n",
      "Cbc0030I Thread 14 used 0 times,  waiting to start 0.019987106, 0 cpu time, 0 locks, 0 locked, 0 waiting for locks\n",
      "Cbc0030I Thread 15 used 0 times,  waiting to start 0.017040968, 0 cpu time, 0 locks, 0 locked, 0 waiting for locks\n",
      "Cbc0030I Thread 16 used 0 times,  waiting to start 0.014232397, 0 cpu time, 0 locks, 0 locked, 0 waiting for locks\n",
      "Cbc0030I Thread 17 used 0 times,  waiting to start 0.011207581, 0 cpu time, 0 locks, 0 locked, 0 waiting for locks\n",
      "Cbc0030I Thread 18 used 0 times,  waiting to start 0.0084724426, 0 cpu time, 0 locks, 0 locked, 0 waiting for locks\n",
      "Cbc0030I Thread 19 used 0 times,  waiting to start 0.0055322647, 0 cpu time, 0 locks, 0 locked, 0 waiting for locks\n",
      "Cbc0030I Main thread 0 waiting for threads,  1 locks, 1.6689301e-06 locked, 4.7683716e-07 waiting for locks\n",
      "Cbc0011I Exiting as integer gap of 17 less than 1e-10 or 10%\n",
      "Cbc0001I Search completed - best objective -219, took 0 iterations and 0 nodes (5.64 seconds)\n",
      "Cbc0035I Maximum depth 0, 0 variables fixed on reduced cost\n",
      "Total time (CPU seconds):       5.79   (Wallclock seconds):       5.85\n",
      "\n",
      "\n",
      "Total partitions: 3\n",
      "Number of discarded molecules: 17\n",
      "Molecules in partition 0 : 128\n",
      "Molecules in partition 1 : 128\n",
      "Molecules in partition 2 : 127\n"
     ]
    }
   ],
   "source": [
    "smiles = drd2_hi['smiles'].to_list()\n",
    "partition = lohi.hi_k_fold_split(smiles, similarity_threshold=0.4, k=3)"
   ]
  },
  {
   "cell_type": "code",
   "execution_count": 12,
   "metadata": {},
   "outputs": [],
   "source": [
    "first_idx = partition[0]\n",
    "second_idx = partition[1]\n",
    "third_idx = partition[2]\n",
    "\n",
    "first_smiles = drd2_hi.iloc[first_idx]['smiles'].to_list()\n",
    "second_smiles = drd2_hi.iloc[second_idx]['smiles'].to_list()\n",
    "third_smiles = drd2_hi.iloc[third_idx]['smiles'].to_list()"
   ]
  },
  {
   "cell_type": "code",
   "execution_count": 13,
   "metadata": {},
   "outputs": [
    {
     "data": {
      "text/plain": [
       "Text(0.5, 1.0, 'Maximal similarity between first and second')"
      ]
     },
     "execution_count": 13,
     "metadata": {},
     "output_type": "execute_result"
    },
    {
     "data": {
      "image/png": "[encoded data removed]",
      "text/plain": [
       "<Figure size 640x480 with 1 Axes>"
      ]
     },
     "metadata": {},
     "output_type": "display_data"
    }
   ],
   "source": [
    "nearest_sim, nearest_idx = lohi.get_similar_mols(first_smiles, second_smiles, return_idx=True)\n",
    "plt.hist(nearest_sim, bins=50)\n",
    "plt.axvline(x=0.4, color = 'r', ls='--')\n",
    "plt.title('Maximal similarity between first and second')"
   ]
  },
  {
   "cell_type": "code",
   "execution_count": 14,
   "metadata": {},
   "outputs": [
    {
     "data": {
      "text/plain": [
       "Text(0.5, 1.0, 'Maximal similarity between the second and the third')"
      ]
     },
     "execution_count": 14,
     "metadata": {},
     "output_type": "execute_result"
    },
    {
     "data": {
      "image/png": "[encoded data removed]",
      "text/plain": [
       "<Figure size 640x480 with 1 Axes>"
      ]
     },
     "metadata": {},
     "output_type": "display_data"
    }
   ],
   "source": [
    "nearest_sim, nearest_idx = lohi.get_similar_mols(second_smiles, third_smiles, return_idx=True)\n",
    "plt.hist(nearest_sim, bins=50)\n",
    "plt.axvline(x=0.4, color = 'r', ls='--')\n",
    "plt.title('Maximal similarity between the second and the third')"
   ]
  },
  {
   "cell_type": "code",
   "execution_count": 15,
   "metadata": {},
   "outputs": [
    {
     "data": {
      "text/plain": [
       "Text(0.5, 1.0, 'Maximal similarity between the third and the first')"
      ]
     },
     "execution_count": 15,
     "metadata": {},
     "output_type": "execute_result"
    },
    {
     "data": {
      "image/png": "[encoded data removed]",
      "text/plain": [
       "<Figure size 640x480 with 1 Axes>"
      ]
     },
     "metadata": {},
     "output_type": "display_data"
    }
   ],
   "source": [
    "nearest_sim, nearest_idx = lohi.get_similar_mols(third_smiles, first_smiles, return_idx=True)\n",
    "plt.hist(nearest_sim, bins=50)\n",
    "plt.axvline(x=0.4, color = 'r', ls='--')\n",
    "plt.title('Maximal similarity between the third and the first')"
   ]
  },
  {
   "cell_type": "code",
   "execution_count": null,
   "metadata": {},
   "outputs": [],
   "source": []
  }
 ],
 "metadata": {
  "kernelspec": {
   "display_name": "test_lohi_splitter",
   "language": "python",
   "name": "python3"
  },
  "language_info": {
   "codemirror_mode": {
    "name": "ipython",
    "version": 3
   },
   "file_extension": ".py",
   "mimetype": "text/x-python",
   "name": "python",
   "nbconvert_exporter": "python",
   "pygments_lexer": "ipython3",
   "version": "3.7.16"
  },
  "orig_nbformat": 4
 },
 "nbformat": 4,
 "nbformat_minor": 2
}
