{
 "cells": [
  {
   "cell_type": "markdown",
   "id": "61e0babe-849c-4fac-a0ea-2fd82d7db326",
   "metadata": {},
   "source": [
    "# Masking a range\n",
    "\n",
    "In this example, we will use a slider to mask data outside a selected range in a two-dimensional image.\n",
    "The data inside the range will be summed along the vertical dimension,\n",
    "and displayed as a one-dimensional plot below the image."
   ]
  },
  {
   "cell_type": "code",
   "execution_count": null,
   "id": "fe12dbfc-8ca7-4537-b185-3fe57db59d09",
   "metadata": {},
   "outputs": [],
   "source": [
    "%matplotlib widget\n",
    "import plopp as pp\n",
    "import scipp as sc\n",
    "import numpy as np\n",
    "import ipywidgets as ipw"
   ]
  },
  {
   "cell_type": "markdown",
   "id": "f99ea04f-3b3b-49df-b4a2-99aa9bd8090a",
   "metadata": {},
   "source": [
    "We first generate some data that contains three bands of peaks that all have different spreads."
   ]
  },
  {
   "cell_type": "code",
   "execution_count": null,
   "id": "9d367a8e-9587-4b46-bb74-9e4c8eaa60ef",
   "metadata": {},
   "outputs": [],
   "source": [
    "npeaks = 200\n",
    "per_peak = 500\n",
    "spread = 30.0\n",
    "ny = 300\n",
    "nx = 300\n",
    "a = np.ones((ny, nx))\n",
    "\n",
    "xbins = np.arange(nx + 1)\n",
    "ybins = np.arange(ny + 1)\n",
    "for n in range(npeaks):\n",
    "    xc = np.random.random() * nx\n",
    "    yc = np.random.choice([ny / 4, ny / 2, 3 * ny / 4])\n",
    "    xy = np.random.normal(\n",
    "        loc=(xc, yc), scale=spread * np.random.random(), size=[per_peak, 2]\n",
    "    )\n",
    "    h, ye, xe = np.histogram2d(xy[:, 1], xy[:, 0], bins=(ybins, xbins))\n",
    "    a += h\n",
    "\n",
    "da = sc.DataArray(\n",
    "    data=sc.array(dims=['y', 'x'], values=a, unit='counts'),\n",
    "    coords={\n",
    "        'x': sc.array(dims=['x'], values=xbins, unit='cm'),\n",
    "        'y': sc.array(dims=['y'], values=ybins, unit='cm'),\n",
    "    },\n",
    ")"
   ]
  },
  {
   "cell_type": "markdown",
   "id": "0e5010d1-1710-476e-91c0-a01c281bfcf6",
   "metadata": {},
   "source": [
    "We then construct our interface with a slider, a node that adds a mask, and a node that sums the unmasked data along the `y` dimension."
   ]
  },
  {
   "cell_type": "code",
   "execution_count": null,
   "id": "346e8cc8-3874-464e-ad49-dcfb5ad92770",
   "metadata": {},
   "outputs": [],
   "source": [
    "ydim = 'y'\n",
    "\n",
    "\n",
    "@pp.node\n",
    "def add_mask(da, trunc_range):\n",
    "    \"\"\"A function that will add a mask outside of selected range.\"\"\"\n",
    "    min_tr, max_tr = trunc_range\n",
    "    out = da.copy(deep=False)\n",
    "    out.masks[ydim] = sc.zeros(sizes={ydim: da.sizes[ydim]}, dtype=bool)\n",
    "    out.masks[ydim].values[:min_tr] = True\n",
    "    out.masks[ydim].values[max_tr:] = True\n",
    "    return out\n",
    "\n",
    "\n",
    "# Make a range slider\n",
    "slider = ipw.IntRangeSlider(\n",
    "    max=da.sizes[ydim] - 1, description='y indices', layout={'width': '400px'}\n",
    ")\n",
    "slider_node = pp.widget_node(slider)\n",
    "\n",
    "# Add mask\n",
    "mask_node = add_mask(da, trunc_range=slider_node)\n",
    "\n",
    "# Node that sums along the y dimension\n",
    "sum_node = pp.Node(sc.sum, mask_node, dim=ydim)\n",
    "\n",
    "# Make figures\n",
    "fig2d = pp.figure2d(mask_node, norm='log')\n",
    "fig1d = pp.figure1d(sum_node, grid=True, ls='solid', marker='')\n",
    "ipw.VBox([slider, fig2d, fig1d])"
   ]
  },
  {
   "cell_type": "code",
   "execution_count": null,
   "id": "7201be42-c726-43cd-b6ad-65cf8f2941b3",
   "metadata": {},
   "outputs": [],
   "source": [
    "pp.show_graph(fig1d)"
   ]
  },
  {
   "cell_type": "code",
   "execution_count": null,
   "id": "37373128-b948-4100-a761-87229730c62a",
   "metadata": {
    "nbsphinx": "hidden"
   },
   "outputs": [],
   "source": [
    "# This cell is used to generate the thumbnail for the docs gallery.\n",
    "# It is hidden from the online documentation.\n",
    "fig2d.save('../_static/gallery/masking-a-range-thumbnail.png')"
   ]
  }
 ],
 "metadata": {
  "kernelspec": {
   "display_name": "Python 3 (ipykernel)",
   "language": "python",
   "name": "python3"
  },
  "language_info": {
   "codemirror_mode": {
    "name": "ipython",
    "version": 3
   },
   "file_extension": ".py",
   "mimetype": "text/x-python",
   "name": "python",
   "nbconvert_exporter": "python",
   "pygments_lexer": "ipython3"
  }
 },
 "nbformat": 4,
 "nbformat_minor": 5
}
