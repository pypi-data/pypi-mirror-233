{
 "cells": [
  {
   "cell_type": "markdown",
   "id": "df27cff1",
   "metadata": {
    "tags": []
   },
   "source": [
    "## Projection and adjoint\n",
    "\n",
    "This is a brief tutorial that explains how to perform the two fundamental operations of tomography, the projection and adjoint. It uses the `SAXSProjectorBilinear` class, which is a relatively simple projector that uses only CPU resources.\n",
    "The simulated data used in the rendered version of this tutorial can be obtained using, e.g., ``wget`` with\n",
    "```shell\n",
    "wget https://zenodo.org/record/7326784/files/saxstt_dataset_M.h5\n",
    "```\n",
    "It's recommended that you read the section *Reconstruct and Visualize* first, which goes over basics of data loading and reconstruction, whereas this tutorial goes into the details of the projection operations that make up the reconstruction.\n",
    "\n",
    "The notes on step sizes and sampling kernels in this tutorial are also applicable to reconstructions, as the reconstruction done by the `Optimizer` class uses the same projection and adjoint functions."
   ]
  },
  {
   "cell_type": "code",
   "execution_count": 1,
   "id": "65049fd7",
   "metadata": {},
   "outputs": [
    {
     "name": "stdout",
     "output_type": "stream",
     "text": [
      "INFO:Setting the number of threads to 8\n",
      "INFO:Setting numba log level to WARNING.\n"
     ]
    }
   ],
   "source": [
    "import logging\n",
    "import h5py\n",
    "import numpy as np\n",
    "import colorcet\n",
    "from matplotlib import pyplot as plt\n",
    "from matplotlib import colormaps as cm\n",
    "from IPython.display import display\n",
    "from mumott.data_handling import DataContainer\n",
    "from mumott.methods.basis_sets import SphericalHarmonics\n",
    "from mumott.methods.projectors import SAXSProjectorBilinear\n",
    "from mumott.methods.residual_calculators import GradientResidualCalculator"
   ]
  },
  {
   "cell_type": "markdown",
   "id": "ccd59e31",
   "metadata": {},
   "source": [
    "### Loading data\n",
    "\n",
    "For details on these steps, see the tutorial \"Reconstruct and visualize\". We will also be using the `data_container` of input data from the `DataContainer` instance."
   ]
  },
  {
   "cell_type": "code",
   "execution_count": 2,
   "id": "430308fd",
   "metadata": {
    "lines_to_next_cell": 2,
    "tags": []
   },
   "outputs": [
    {
     "name": "stdout",
     "output_type": "stream",
     "text": [
      "INFO:Rotation matrix generated from inner and outer angles, along with inner and outer rotation axis vectors. Rotation and tilt angles assumed to be in radians.\n"
     ]
    },
    {
     "name": "stderr",
     "output_type": "stream",
     "text": [
      "mumott/data_handling/data_container.py:227: DeprecationWarning: Entry name rotations is deprecated. Use inner_angle instead.\n",
      "  _deprecated_key_warning('rotations')\n",
      "mumott/data_handling/data_container.py:236: DeprecationWarning: Entry name tilts is deprecated. Use outer_angle instead.\n",
      "  _deprecated_key_warning('tilts')\n",
      "mumott/data_handling/data_container.py:268: DeprecationWarning: Entry name offset_j is deprecated. Use j_offset instead.\n",
      "  _deprecated_key_warning('offset_j')\n",
      "mumott/data_handling/data_container.py:278: DeprecationWarning: Entry name offset_k is deprecated. Use k_offset instead.\n",
      "  _deprecated_key_warning('offset_k')\n"
     ]
    },
    {
     "name": "stdout",
     "output_type": "stream",
     "text": [
      "INFO:No sample geometry information was found. Default mumott geometry assumed.\n",
      "INFO:No detector geometry information was found. Default mumott geometry assumed.\n"
     ]
    }
   ],
   "source": [
    "data_container = DataContainer('saxstt_dataset_M.h5')\n",
    "projections = data_container.projections"
   ]
  },
  {
   "cell_type": "markdown",
   "id": "ec4cc5aa-1f45-4b5e-8381-914eb763e5e7",
   "metadata": {
    "tags": []
   },
   "source": [
    "### Looking at the simulated data\n",
    "\n",
    "We're going to compare projections calculated from a simulated model to simulated projections with noise."
   ]
  },
  {
   "cell_type": "markdown",
   "id": "805f3ba0-7dc2-4fe4-ae67-6f463275e005",
   "metadata": {},
   "source": [
    "We will be using a `SAXSProjectorBilinear` object for our computations. We suppress some of the warnings that it outputs which are not useful to us."
   ]
  },
  {
   "cell_type": "code",
   "execution_count": 3,
   "id": "77adea51-3319-409f-b1d0-4a5e3a23e93b",
   "metadata": {},
   "outputs": [],
   "source": [
    "projector = SAXSProjectorBilinear(data_container.geometry)\n",
    "logger = logging.getLogger('mumott.methods.projectors.saxs_projector_bilinear')\n",
    "logger.setLevel(logging.CRITICAL)"
   ]
  },
  {
   "cell_type": "markdown",
   "id": "8f4a370b-db82-426c-9f2f-f62070edfcb2",
   "metadata": {},
   "source": [
    "The model coefficients need to be loaded directly using `h5py`. The last index runs over the spherical harmonic coefficients."
   ]
  },
  {
   "cell_type": "code",
   "execution_count": 4,
   "id": "dfc08da1",
   "metadata": {},
   "outputs": [
    {
     "name": "stdout",
     "output_type": "stream",
     "text": [
      "(50, 50, 50, 91)\n"
     ]
    }
   ],
   "source": [
    "with h5py.File('saxstt_dataset_M.h5') as file:\n",
    "    model = np.copy(file['model/coefficients'])\n",
    "print(model.shape)"
   ]
  },
  {
   "cell_type": "markdown",
   "id": "cdf69812-3536-4d3f-9100-557b9b6ceef2",
   "metadata": {},
   "source": [
    "We will use the `projection_matrix` to do the necessary mapping into detector segment space. This matrix contains the necessary coefficient to map spherical harmonic coefficients to line integrals on the sphere, which correspond to detector segments. The shape of `sph_matrices` corresponds to (projection number, segment number, coefficient number)."
   ]
  },
  {
   "cell_type": "code",
   "execution_count": 5,
   "id": "30224f57-f201-49e7-9beb-9e40699b3eee",
   "metadata": {},
   "outputs": [
    {
     "data": {
      "text/plain": [
       "(417, 8, 91)"
      ]
     },
     "metadata": {},
     "output_type": "display_data"
    }
   ],
   "source": [
    "basis_set = SphericalHarmonics(ell_max=12)\n",
    "residual_calculator = GradientResidualCalculator(data_container, basis_set, projector)\n",
    "sph_matrices = basis_set.projection_matrix\n",
    "display(sph_matrices.shape)"
   ]
  },
  {
   "cell_type": "markdown",
   "id": "4218ab16-382b-4426-a63d-698cb17c5b91",
   "metadata": {},
   "source": [
    "To calculate the projections, we use the coefficients in `model` as our input. `model` already has the necessary shape and the required `dtype` of `float64`. We select an index somewhat at random. We also set `projector.integration_step_size` to `1.0` to begin with. This is the largest permitted step size.\n",
    "\n",
    "It is generally more efficient to first project the coefficients, and then map to the detector segment space, than to compute a matrix product over the entire volume. This is especially true when projecting in several directions sequentially."
   ]
  },
  {
   "cell_type": "code",
   "execution_count": 6,
   "id": "bb7d82fd-c608-4a6b-a652-767930a0ebe5",
   "metadata": {},
   "outputs": [],
   "source": [
    "index = 56\n",
    "projection = projector.forward(field=model, indices=np.array((index,)))\n",
    "projection = projection @ sph_matrices[index].T"
   ]
  },
  {
   "cell_type": "markdown",
   "id": "48132544-26d9-4a74-a9b5-28df23b154ad",
   "metadata": {},
   "source": [
    "We now plot a segment of the projection we got from the file, the projection we just calculated, and their absolute difference. While the projection from the file has some added noise, we can also see some ''streaks'' in the difference that look a bit worrying."
   ]
  },
  {
   "cell_type": "code",
   "execution_count": 7,
   "id": "b26bdbbd-970b-4bea-b773-a9b5dce23109",
   "metadata": {},
   "outputs": [
    {
     "data": {
      "text/plain": [
       "<matplotlib.colorbar.Colorbar at 0x7fe2997aafa0>"
      ]
     },
     "execution_count": 7,
     "metadata": {},
     "output_type": "execute_result"
    },
    {
     "data": {
      "image/png": "[encoded data removed]",
      "text/plain": [
       "<Figure size 1200x400 with 6 Axes>"
      ]
     },
     "metadata": {},
     "output_type": "display_data"
    }
   ],
   "source": [
    "fig, axes = plt.subplots(ncols=3, figsize=(12, 4))\n",
    "\n",
    "kwargs = dict(origin='lower', cmap='cet_gouldian')\n",
    "\n",
    "d = axes[0].imshow(projections[index].data[..., 0].T, **kwargs)\n",
    "plt.colorbar(d, ax=axes[0], orientation='horizontal')\n",
    "\n",
    "p = axes[1].imshow(projection[..., 0].T, **kwargs)\n",
    "plt.colorbar(p, ax=axes[1], orientation='horizontal')\n",
    "\n",
    "diff = axes[2].imshow(abs(projections[index].data[..., 0].T - projection[0, ..., 0].T), origin='lower', cmap='cet_fire', vmax=2)\n",
    "plt.colorbar(diff, ax=axes[2], orientation='horizontal')"
   ]
  },
  {
   "cell_type": "markdown",
   "id": "0dc49cfd-4be7-4a11-b730-ebb2a0236ea1",
   "metadata": {},
   "source": [
    "### The adjoint\n",
    "\n",
    "The adjoint is essentially the partial derivative of the volume with respect to the projection. It's also called a back-projection, and it is essential to solving for a volume given a set of projections."
   ]
  },
  {
   "cell_type": "code",
   "execution_count": 8,
   "id": "6e43ba39-cc2a-42dc-a7c7-1d4eee8d80a5",
   "metadata": {},
   "outputs": [],
   "source": [
    "adjoint = projector.adjoint(projections=projection, indices=np.array((index,)))"
   ]
  },
  {
   "cell_type": "markdown",
   "id": "baa95691-0077-461a-bad0-615eef0a5fd9",
   "metadata": {},
   "source": [
    "We plot a slice in the middle of the adjoint through the `xy`-plane. As can be seen, the step size and kernel makes an enormous difference in the quality of the adjoint calculation! Generally, the step size is more important than the kernel, but both have an impact. Generally, `1.0` is too large of a step, and `0.1` can cause too much of a slowdown; `(3, 3)` is typically a good choice for the kernel size if used."
   ]
  },
  {
   "cell_type": "code",
   "execution_count": 9,
   "id": "0256b6aa-3dc6-4c1d-a451-5d5da9b0cee8",
   "metadata": {},
   "outputs": [
    {
     "data": {
      "text/plain": [
       "<matplotlib.colorbar.Colorbar at 0x7fe29d493a00>"
      ]
     },
     "execution_count": 9,
     "metadata": {},
     "output_type": "execute_result"
    },
    {
     "data": {
      "image/png": "[encoded data removed]",
      "text/plain": [
       "<Figure size 800x800 with 1 Axes>"
      ]
     },
     "metadata": {},
     "output_type": "display_data"
    }
   ],
   "source": [
    "f, ax = plt.subplots(1, figsize=(8,8))\n",
    "\n",
    "a0 = ax.imshow(adjoint[:, :, 25, 0].T, origin='lower', cmap='cet_gouldian', vmax=40)\n",
    "ax.set_title('Adjoint')\n",
    "plt.colorbar(a0, ax=axes)\n"
   ]
  },
  {
   "cell_type": "markdown",
   "id": "a9ff953b-ea0f-4e77-942d-f942ee16dce0",
   "metadata": {},
   "source": [
    "This concludes the tutorial."
   ]
  },
  {
   "cell_type": "code",
   "execution_count": null,
   "id": "0eead45d-2583-45d5-a238-1b0c81aeb542",
   "metadata": {},
   "outputs": [],
   "source": []
  }
 ],
 "metadata": {
  "kernelspec": {
   "display_name": "Python 3 (ipykernel)",
   "language": "python",
   "name": "python3"
  },
  "language_info": {
   "codemirror_mode": {
    "name": "ipython",
    "version": 3
   },
   "file_extension": ".py",
   "mimetype": "text/x-python",
   "name": "python",
   "nbconvert_exporter": "python",
   "pygments_lexer": "ipython3",
   "version": "3.9.17"
  },
  "widgets": {
   "application/vnd.jupyter.widget-state+json": {
    "state": {},
    "version_major": 2,
    "version_minor": 0
   }
  }
 },
 "nbformat": 4,
 "nbformat_minor": 5
}
