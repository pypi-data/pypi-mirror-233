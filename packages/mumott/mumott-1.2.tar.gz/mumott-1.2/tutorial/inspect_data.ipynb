{
 "cells": [
  {
   "cell_type": "markdown",
   "id": "e981afad-81f0-4298-97ee-fd0c482dd8df",
   "metadata": {},
   "source": [
    "# Loading and inspecting data\n",
    "\n",
    "The first step in the reconstruction stage is to load the aligned data from file.\n",
    "For this purpose `mumott` provides the `DataContainer` class.\n",
    "Objects of this class are initialized by reading data from a file, and then hold all relevant data in one place.\n",
    "This tutorial illustrates this functionality and demonstrates how the data can be queried and transformed after loading.\n",
    "\n",
    "The simulated data used in this tutorial can be obtained using, e.g., ``wget`` with\n",
    "```shell\n",
    "wget https://zenodo.org/record/7326784/files/saxstt_dataset_M.h5\n",
    "```"
   ]
  },
  {
   "cell_type": "markdown",
   "id": "ffe3f900-6b74-454b-bd26-139ad5ad2b01",
   "metadata": {},
   "source": [
    "We start by loading the data into a `DataContainer` object."
   ]
  },
  {
   "cell_type": "code",
   "execution_count": 1,
   "id": "0fcd29f2-5216-460c-96ca-d77d746cf0bd",
   "metadata": {},
   "outputs": [
    {
     "name": "stdout",
     "output_type": "stream",
     "text": [
      "INFO:Setting the number of threads to 8\n",
      "INFO:Setting numba log level to WARNING.\n"
     ]
    }
   ],
   "source": [
    "from mumott.data_handling import DataContainer\n",
    "from mumott import Geometry"
   ]
  },
  {
   "cell_type": "markdown",
   "id": "9bbc758e-3703-4c29-a208-e68ee467d50c",
   "metadata": {},
   "source": [
    "## The `DataContainer` object"
   ]
  },
  {
   "cell_type": "markdown",
   "id": "72a6ad44-02f5-4f74-ad9d-edef1b8a9241",
   "metadata": {},
   "source": [
    "We can load the data file into a data container as follows."
   ]
  },
  {
   "cell_type": "code",
   "execution_count": 2,
   "id": "c829a205-bc3e-4ada-86e0-c56f041d71b8",
   "metadata": {},
   "outputs": [
    {
     "name": "stdout",
     "output_type": "stream",
     "text": [
      "INFO:Rotation matrix generated from inner and outer angles, along with inner and outer rotation axis vectors. Rotation and tilt angles assumed to be in radians.\n"
     ]
    },
    {
     "name": "stderr",
     "output_type": "stream",
     "text": [
      "mumott/data_handling/data_container.py:227: DeprecationWarning: Entry name rotations is deprecated. Use inner_angle instead.\n",
      "  _deprecated_key_warning('rotations')\n",
      "mumott/data_handling/data_container.py:236: DeprecationWarning: Entry name tilts is deprecated. Use outer_angle instead.\n",
      "  _deprecated_key_warning('tilts')\n",
      "mumott/data_handling/data_container.py:268: DeprecationWarning: Entry name offset_j is deprecated. Use j_offset instead.\n",
      "  _deprecated_key_warning('offset_j')\n",
      "mumott/data_handling/data_container.py:278: DeprecationWarning: Entry name offset_k is deprecated. Use k_offset instead.\n",
      "  _deprecated_key_warning('offset_k')\n"
     ]
    },
    {
     "name": "stdout",
     "output_type": "stream",
     "text": [
      "INFO:No sample geometry information was found. Default mumott geometry assumed.\n",
      "INFO:No detector geometry information was found. Default mumott geometry assumed.\n"
     ]
    }
   ],
   "source": [
    "dc = DataContainer('saxstt_dataset_M.h5')"
   ]
  },
  {
   "cell_type": "markdown",
   "id": "0085f55f-98d1-4d20-98af-fe42e1b6f8ce",
   "metadata": {},
   "source": [
    "There are now various options to query the data in the container.\n",
    "We can for example print the data container, which produces a string representation. The only data shown here is whether a transmission correction has been applied or not. In many cases, the transmission correction has already been performed at an earlier stage and is therefore not necessary here."
   ]
  },
  {
   "cell_type": "code",
   "execution_count": 3,
   "id": "f6b31e2b-7659-47c0-bae9-d6ff153e0c1e",
   "metadata": {},
   "outputs": [
    {
     "name": "stdout",
     "output_type": "stream",
     "text": [
      "==========================================================================\n",
      "                              DataContainer                               \n",
      "--------------------------------------------------------------------------\n",
      "Corrected for transmission : False\n",
      "==========================================================================\n"
     ]
    }
   ],
   "source": [
    "print(dc)"
   ]
  },
  {
   "cell_type": "markdown",
   "id": "0070cc04-ac6e-4812-8815-0c9feb6e09a1",
   "metadata": {},
   "source": [
    "In a jupyter hub environment one can also generate a more nicely formatted version using the display command.\n",
    "If one \"calls\" an object."
   ]
  },
  {
   "cell_type": "markdown",
   "id": "73782fcf-d566-4988-9e2e-8fdef241c7a5",
   "metadata": {},
   "source": [
    "<div class=\"alert alert-block alert-info\">\n",
    "<b>Tip:</b> If an object is \"invoked\" directly and on the last line of a cell, the <code>display</code> command is implied, i.e., <code>display(obj)</code> and <code>obj</code> lead to the same output.\n",
    "Below we use this short cut to display objects.\n",
    "</div>"
   ]
  },
  {
   "cell_type": "markdown",
   "id": "213d5207-0d6f-4f97-b96e-dc0338ed6a76",
   "metadata": {},
   "source": [
    "In this example, the data container contains 417 projections.\n",
    "At this point, the data has not been corrected for transmission, which should be done at some point for experimental data. In this example, however, we use simulated data and therefore the correction is not required.\n",
    "\n",
    "We can get a more detailed view of the data by inspecting the `projections` property."
   ]
  },
  {
   "cell_type": "code",
   "execution_count": 4,
   "id": "7ce76229-365a-412d-9c3b-4bf7887e44b1",
   "metadata": {},
   "outputs": [
    {
     "data": {
      "text/html": [
       "<h3>ProjectionStack</h3>\n",
       "<table border=\"1\" class=\"dataframe\">\n",
       "<thead><tr><th style=\"text-align: left;\">Field</th><th>Size</th><th>Data</th></tr></thead>\n",
       "<tbody>\n",
       "<tr><td style=\"text-align: left;\">data</td>\n",
       "<td>(417, 50, 50, 8)</td><td>4385fb (hash)</td></tr>\n",
       "<tr><td style=\"text-align: left;\">diode</td>\n",
       "<td>(417, 50, 50)</td><td>430284 (hash)</td></tr>\n",
       "<tr><td style=\"text-align: left;\">weights</td>\n",
       "<td>(417, 50, 50, 8)</td><td>0e62ec (hash)</td></tr>\n",
       "<tr><td style=\"text-align: left;\">Number of pixels j</td>\n",
       "<td>1</td>\n",
       "<td>50</td></tr>\n",
       "<tr><td style=\"text-align: left;\">Number of pixels k</td>\n",
       "<td>1</td>\n",
       "<td>50</td></tr>\n",
       "</tbody>\n",
       "</table>"
      ],
      "text/plain": [
       "<mumott.core.projection_stack.ProjectionStack at 0x7f16a8574cd0>"
      ]
     },
     "execution_count": 4,
     "metadata": {},
     "output_type": "execute_result"
    }
   ],
   "source": [
    "dc.projections"
   ]
  },
  {
   "cell_type": "markdown",
   "id": "246201c9-5306-420a-bc44-c121391f2574",
   "metadata": {},
   "source": [
    "For each projection there are 8 different detector angles, such that each projections comprises $50\\times50\\times8=20,000$ data points.\n",
    "In the present example, each projection consists of $50\\times50$ pixels."
   ]
  },
  {
   "cell_type": "markdown",
   "id": "abaa6fbb-2d90-4702-97c8-2197abe4a9ac",
   "metadata": {},
   "source": [
    "## Inspecting individual projections"
   ]
  },
  {
   "cell_type": "markdown",
   "id": "b015ce2c-a79c-49ba-a242-1f4780d3e942",
   "metadata": {},
   "source": [
    "The `projections` member provides a list-like view of the data that allows us to inspect individual projections (i.e., projections) directly.\n",
    "We can, e.g., check the tenth projection."
   ]
  },
  {
   "cell_type": "code",
   "execution_count": 5,
   "id": "afcbe6e4-df65-4fea-a82b-783d1dcff2ab",
   "metadata": {},
   "outputs": [
    {
     "data": {
      "text/html": [
       "<h3>Projection</h3>\n",
       "<table border=\"1\" class=\"dataframe\">\n",
       "<thead><tr><th style=\"text-align: left;\">Field</th><th>Size</th><th>Data</th></tr></thead>\n",
       "<tbody>\n",
       "<tr><td style=\"text-align: left;\">data</td>\n",
       "<td>(50, 50, 8)</td><td>315ec3 (hash)</td></tr>\n",
       "<tr><td style=\"text-align: left;\">diode</td><td>(50, 50)</td>\n",
       "<td>67a88d (hash)</td></tr>\n",
       "<tr><td style=\"text-align: left;\">weights</td><td>(50, 50, 8)</td>\n",
       "<td>68e177 (hash)</td></tr>\n",
       "<tr><td style=\"text-align: left;\">rotation</td><td>(3, 3)</td>\n",
       "<td>[[ 0.54064  0.84125  0.     ]\n",
       " [-0.84125  0.54064  0.     ]\n",
       " [ 0.       0.       1.     ]]</td></tr>\n",
       "<tr><td style=\"text-align: left;\">j_offset</td><td>1</td>\n",
       "<td>0.00</td></tr>\n",
       "<tr><td style=\"text-align: left;\">k_offset</td><td>1</td>\n",
       "<td>0.00</td></tr>\n",
       "<tr><td style=\"text-align: left;\">inner_angle</td><td>1</td>\n",
       "<td>1.00</td>\n",
       "<tr><td style=\"text-align: left;\">outer_angle</td><td>1</td>\n",
       "<td>0.00</td>\n",
       "<tr><td style=\"text-align: left;\">inner_axis</td><td>(3,)</td>\n",
       "<td>[ 0.  0. -1.]</td></tr>\n",
       "<tr><td style=\"text-align: left;\">outer_axis</td><td>(3,)</td>\n",
       "<td>[1. 0. 0.]</td></tr>\n",
       "</tbody>\n",
       "</table>"
      ],
      "text/plain": [
       "<mumott.core.projection_stack.Projection at 0x7f169816be20>"
      ]
     },
     "execution_count": 5,
     "metadata": {},
     "output_type": "execute_result"
    }
   ],
   "source": [
    "projections = dc.projections\n",
    "projections[10]"
   ]
  },
  {
   "cell_type": "markdown",
   "id": "5eaab83b-0a94-4040-b56a-55d5c7ad5364",
   "metadata": {},
   "source": [
    "Here, we can see the rotation matrix of the tenth cell, and we can tell that it does not have any `j_offset` or `k_offset`, since simulated data is already aligned."
   ]
  },
  {
   "cell_type": "markdown",
   "id": "5949820b-d434-494a-bb78-9c7c3029249e",
   "metadata": {},
   "source": [
    "Projections attributes can be modified directly."
   ]
  },
  {
   "cell_type": "code",
   "execution_count": 6,
   "id": "ae16e400-1df8-4da4-9929-5afe83a0ded4",
   "metadata": {},
   "outputs": [
    {
     "data": {
      "text/html": [
       "<h3>Projection</h3>\n",
       "<table border=\"1\" class=\"dataframe\">\n",
       "<thead><tr><th style=\"text-align: left;\">Field</th><th>Size</th><th>Data</th></tr></thead>\n",
       "<tbody>\n",
       "<tr><td style=\"text-align: left;\">data</td>\n",
       "<td>(50, 50, 8)</td><td>315ec3 (hash)</td></tr>\n",
       "<tr><td style=\"text-align: left;\">diode</td><td>(50, 50)</td>\n",
       "<td>67a88d (hash)</td></tr>\n",
       "<tr><td style=\"text-align: left;\">weights</td><td>(50, 50, 8)</td>\n",
       "<td>68e177 (hash)</td></tr>\n",
       "<tr><td style=\"text-align: left;\">rotation</td><td>(3, 3)</td>\n",
       "<td>[[ 0.54064  0.84125  0.     ]\n",
       " [-0.84125  0.54064  0.     ]\n",
       " [ 0.       0.       1.     ]]</td></tr>\n",
       "<tr><td style=\"text-align: left;\">j_offset</td><td>1</td>\n",
       "<td>1.00</td></tr>\n",
       "<tr><td style=\"text-align: left;\">k_offset</td><td>1</td>\n",
       "<td>0.00</td></tr>\n",
       "<tr><td style=\"text-align: left;\">inner_angle</td><td>1</td>\n",
       "<td>1.00</td>\n",
       "<tr><td style=\"text-align: left;\">outer_angle</td><td>1</td>\n",
       "<td>0.00</td>\n",
       "<tr><td style=\"text-align: left;\">inner_axis</td><td>(3,)</td>\n",
       "<td>[ 0.  0. -1.]</td></tr>\n",
       "<tr><td style=\"text-align: left;\">outer_axis</td><td>(3,)</td>\n",
       "<td>[1. 0. 0.]</td></tr>\n",
       "</tbody>\n",
       "</table>"
      ],
      "text/plain": [
       "<mumott.core.projection_stack.Projection at 0x7f169816be20>"
      ]
     },
     "metadata": {},
     "output_type": "display_data"
    }
   ],
   "source": [
    "projections[10].j_offset = 1.0\n",
    "display(projections[10])"
   ]
  },
  {
   "cell_type": "markdown",
   "id": "4a916245-4a0a-4afd-a757-82ace2f9f0b4",
   "metadata": {},
   "source": [
    "If we want, we can remove this particular projection from the `projections` using the `del` command.\n",
    "It is possible to keep a reference to the original `projection` object as shown by the following cell."
   ]
  },
  {
   "cell_type": "code",
   "execution_count": 7,
   "id": "1263b01c-6efd-4da3-923e-cc20b12ce0a4",
   "metadata": {},
   "outputs": [
    {
     "data": {
      "text/html": [
       "<h3>Projection</h3>\n",
       "<table border=\"1\" class=\"dataframe\">\n",
       "<thead><tr><th style=\"text-align: left;\">Field</th><th>Size</th><th>Data</th></tr></thead>\n",
       "<tbody>\n",
       "<tr><td style=\"text-align: left;\">data</td>\n",
       "<td>(50, 50, 8)</td><td>315ec3 (hash)</td></tr>\n",
       "<tr><td style=\"text-align: left;\">diode</td><td>(50, 50)</td>\n",
       "<td>67a88d (hash)</td></tr>\n",
       "<tr><td style=\"text-align: left;\">weights</td><td>(50, 50, 8)</td>\n",
       "<td>68e177 (hash)</td></tr>\n",
       "<tr><td style=\"text-align: left;\">rotation</td><td>(3, 3)</td>\n",
       "<td>[[ 0.54064  0.84125  0.     ]\n",
       " [-0.84125  0.54064  0.     ]\n",
       " [ 0.       0.       1.     ]]</td></tr>\n",
       "<tr><td style=\"text-align: left;\">j_offset</td><td>1</td>\n",
       "<td>1.00</td></tr>\n",
       "<tr><td style=\"text-align: left;\">k_offset</td><td>1</td>\n",
       "<td>0.00</td></tr>\n",
       "<tr><td style=\"text-align: left;\">inner_angle</td><td>1</td>\n",
       "<td>1.00</td>\n",
       "<tr><td style=\"text-align: left;\">outer_angle</td><td>1</td>\n",
       "<td>0.00</td>\n",
       "<tr><td style=\"text-align: left;\">inner_axis</td><td>(3,)</td>\n",
       "<td>[ 0.  0. -1.]</td></tr>\n",
       "<tr><td style=\"text-align: left;\">outer_axis</td><td>(3,)</td>\n",
       "<td>[1. 0. 0.]</td></tr>\n",
       "</tbody>\n",
       "</table>"
      ],
      "text/plain": [
       "<mumott.core.projection_stack.Projection at 0x7f169816be20>"
      ]
     },
     "metadata": {},
     "output_type": "display_data"
    }
   ],
   "source": [
    "f = projections[10]\n",
    "del projections[10]\n",
    "display(f)"
   ]
  },
  {
   "cell_type": "markdown",
   "id": "5b0b4045-3311-4e16-afea-c898bfe9c756",
   "metadata": {},
   "source": [
    "We can tell from the hashes of the data and the rotation matrices that we now have a different projection. We kept a reference from the projection, and we are able to display it again for comparison. The diode and weights have the same hashes, because these arrays only contain the value `1.` and therefore generate the same hash.\n",
    "\n",
    "The `projections` behaves like a list in general, with methods like `append()` and `insert()`."
   ]
  },
  {
   "cell_type": "markdown",
   "id": "68d1fa4f-c729-4e4a-8b25-91aa8160581f",
   "metadata": {},
   "source": [
    "## Geometry"
   ]
  },
  {
   "cell_type": "markdown",
   "id": "061e83db-676d-4a61-b417-af3a78c9fe66",
   "metadata": {},
   "source": [
    "`DataContainer` has a `geometry` property, which is attached to the `projections`. It contains information about the geometry of each projection of the projections as well as overall experimental geometry, and removal of a projection automatically removes the corresponding offsets and rotations. Thus, this geometry, from our `new_projections`, will contain information related to our new projections."
   ]
  },
  {
   "cell_type": "code",
   "execution_count": 8,
   "id": "1f792cc6-e1f8-4f35-b1be-94852c24062a",
   "metadata": {},
   "outputs": [
    {
     "name": "stdout",
     "output_type": "stream",
     "text": [
      "--------------------------------------------------------------------------\n",
      "                                 Geometry                                 \n",
      "--------------------------------------------------------------------------\n",
      "hash_rotations     : c89ad7\n",
      "hash_j_offsets     : e60e9b\n",
      "hash_k_offsets     : e60e9b\n",
      "p_direction_0      : [0. 1. 0.]\n",
      "j_direction_0      : [1. 0. 0.]\n",
      "k_direction_0      : [0. 0. 1.]\n",
      "inner_axis         : [ 0.  0. -1.]\n",
      "outer_axis         : [1. 0. 0.]\n",
      "hash_inner_angles  : 82fbc3\n",
      "hash_outer_angles  : 86aa3c\n",
      "hash_inner_axes    : 46623b\n",
      "hash_outer_axes    : 66971c\n",
      "detector_direction_origin : [1. 0. 0.]\n",
      "detector_direction_positive_90 : [0. 0. 1.]\n",
      "two_theta          : 0.00°\n",
      "projection_shape   : [50 50]\n",
      "volume_shape       : [50 50 50]\n",
      "detector_angles    : [0.    ... 2.749]\n",
      "--------------------------------------------------------------------------\n"
     ]
    },
    {
     "data": {
      "text/html": [
       "<h3>Geometry</h3>\n",
       "<table border=\"1\" class=\"dataframe\">\n",
       "<thead><tr><th style=\"text-align: left;\">Field</th><th>Size</th><th>Data</th></tr></thead>\n",
       "<tbody>\n",
       "<tr><td style=\"text-align: left;\">rotations</td>\n",
       "<td>416</td><td>c89ad7 (hash)</td></tr>\n",
       "<tr><td style=\"text-align: left;\">j_offsets</td>\n",
       "<td>416</td><td>e60e9b (hash)</td></tr>\n",
       "<tr><td style=\"text-align: left;\">k_offsets</td>\n",
       "<td>416</td><td>e60e9b (hash)</td></tr>\n",
       "<tr><td style=\"text-align: left;\">p_direction_0</td>\n",
       "<td>3</td><td>[0. 1. 0.]</td></tr>\n",
       "<tr><td style=\"text-align: left;\">j_direction_0</td>\n",
       "<td>3</td><td>[1. 0. 0.]</td></tr>\n",
       "<tr><td style=\"text-align: left;\">k_direction_0</td>\n",
       "<td>3</td><td>[0. 0. 1.]</td></tr>\n",
       "<tr><td style=\"text-align: left;\">inner_axis</td>\n",
       "<td>3</td><td>[ 0.  0. -1.]</td></tr>\n",
       "<tr><td style=\"text-align: left;\">outer_axis</td>\n",
       "<td>3</td><td>[1. 0. 0.]</td></tr>\n",
       "<tr><td style=\"text-align: left;\">inner_angles</td>\n",
       "<td>416</td><td>82fbc3 (hash)</td></tr>\n",
       "<tr><td style=\"text-align: left;\">outer_angles</td>\n",
       "<td>416</td><td>86aa3c (hash)</td></tr>\n",
       "<tr><td style=\"text-align: left;\">inner_axes</td>\n",
       "<td>416</td><td>46623b (hash)</td></tr>\n",
       "<tr><td style=\"text-align: left;\">outer_axes</td>\n",
       "<td>416</td><td>66971c (hash)</td></tr>\n",
       "<tr><td style=\"text-align: left;\">detector_direction_origin</td>\n",
       "<td>3</td><td>[1. 0. 0.]</td></tr>\n",
       "<tr><td style=\"text-align: left;\">detector_direction_positive_90</td>\n",
       "<td>3</td><td>[0. 0. 1.]</td></tr>\n",
       "<tr><td style=\"text-align: left;\">two_theta</td>\n",
       "<td>1</td><td>$0.0^{\\circ}$</td>\n",
       "<tr><td style=\"text-align: left;\">projection_shape</td>\n",
       "<td>2</td><td>[50 50]</td></tr>\n",
       "<tr><td style=\"text-align: left;\">volume_shape</td>\n",
       "<td>3</td><td>[50 50 50]</td></tr>\n",
       "<tr><td style=\"text-align: left;\">detector_angles</td>\n",
       "<td>8</td><td>[0.   ... 2.75]</td></tr>\n",
       "</tbody>\n",
       "</table>"
      ],
      "text/plain": [
       "<mumott.core.geometry.Geometry at 0x7f16a8574ca0>"
      ]
     },
     "metadata": {},
     "output_type": "display_data"
    }
   ],
   "source": [
    "geo = dc.geometry\n",
    "print(geo)\n",
    "display(geo)"
   ]
  },
  {
   "cell_type": "markdown",
   "id": "60e3b452-519c-42cb-9800-256113177f97",
   "metadata": {},
   "source": [
    "There are two equivalent ways to access `rotations`, `j_offsets` and `k_offsets` per projection in a `geometry` object."
   ]
  },
  {
   "cell_type": "code",
   "execution_count": 9,
   "id": "afa10ce3-261c-499a-8d40-fa12397537a2",
   "metadata": {},
   "outputs": [
    {
     "name": "stdout",
     "output_type": "stream",
     "text": [
      "[[ 0.45822652  0.88883545  0.        ]\n",
      " [-0.88883545  0.45822652  0.        ]\n",
      " [ 0.          0.          1.        ]]\n",
      "[[ 0.45822652  0.88883545  0.        ]\n",
      " [-0.88883545  0.45822652  0.        ]\n",
      " [ 0.          0.          1.        ]]\n"
     ]
    }
   ],
   "source": [
    "print(geo.rotations[10])\n",
    "print(geo[10].rotation)"
   ]
  },
  {
   "cell_type": "markdown",
   "id": "c56b3738-24de-4203-b89b-fb743479aab1",
   "metadata": {},
   "source": [
    "The `Geometry` object also has `read` and `write` methods, which allow for the complete recreation of a `geometry` object. We can verify this by comparing their `hash` values, which derive only from their member data. Equivalently to `read`, one can simply pass the path to the file when instantiating a `Geometry` object."
   ]
  },
  {
   "cell_type": "code",
   "execution_count": 10,
   "id": "b3838d84-28c9-4080-9860-4cd228b7e1fc",
   "metadata": {},
   "outputs": [
    {
     "name": "stdout",
     "output_type": "stream",
     "text": [
      "d28ef4 d28ef4\n",
      "d28ef4 d28ef4\n"
     ]
    }
   ],
   "source": [
    "geo.write('test.geo')\n",
    "new_geo = Geometry()\n",
    "new_geo.read('test.geo')\n",
    "print(hex(hash(geo))[2:8], hex(hash(new_geo))[2:8])\n",
    "new_geo = Geometry('test.geo')\n",
    "print(hex(hash(geo))[2:8], hex(hash(new_geo))[2:8])"
   ]
  },
  {
   "cell_type": "markdown",
   "id": "e29f0138-1f12-43f2-8f21-30af5a47f7e7",
   "metadata": {},
   "source": [
    "## Skipping data"
   ]
  },
  {
   "cell_type": "markdown",
   "id": "b7de1209-28b3-437e-9d91-1f59f5e9d776",
   "metadata": {},
   "source": [
    "It is possible to skip data when loading data files. This will create a projections without data, but a full `Geometry` object."
   ]
  },
  {
   "cell_type": "code",
   "execution_count": 11,
   "id": "306b23f6-3f24-45c9-8cb3-38270c7e95ad",
   "metadata": {},
   "outputs": [
    {
     "name": "stdout",
     "output_type": "stream",
     "text": [
      "INFO:Rotation matrix generated from inner and outer angles, along with inner and outer rotation axis vectors. Rotation and tilt angles assumed to be in radians.\n",
      "INFO:No sample geometry information was found. Default mumott geometry assumed.\n",
      "INFO:No detector geometry information was found. Default mumott geometry assumed.\n"
     ]
    },
    {
     "data": {
      "text/html": [
       "<h3>DataContainer</h3>\n",
       "<table border=\"1\" class=\"dataframe\">\n",
       "<thead><tr><th style=\"text-align: left;\">Field</th><th>Size</th></tr></thead>\n",
       "<tbody>\n",
       "<tr><td style=\"text-align: left;\">Number of projections</td>\n",
       "<td>417</td></tr>\n",
       "<tr><td style=\"text-align: left;\">Corrected for transmission</td>\n",
       "<td>False</td></tr>\n",
       "</tbody>\n",
       "</table>"
      ],
      "text/plain": [
       "<mumott.data_handling.data_container.DataContainer at 0x7f1623e25f40>"
      ]
     },
     "metadata": {},
     "output_type": "display_data"
    }
   ],
   "source": [
    "dc = DataContainer(data_path='saxstt_dataset_M.h5', skip_data=True)\n",
    "display(dc)"
   ]
  },
  {
   "cell_type": "code",
   "execution_count": null,
   "id": "6fee6046-94fa-4c32-ae20-665bcaf8798e",
   "metadata": {},
   "outputs": [],
   "source": []
  }
 ],
 "metadata": {
  "kernelspec": {
   "display_name": "Python 3 (ipykernel)",
   "language": "python",
   "name": "python3"
  },
  "language_info": {
   "codemirror_mode": {
    "name": "ipython",
    "version": 3
   },
   "file_extension": ".py",
   "mimetype": "text/x-python",
   "name": "python",
   "nbconvert_exporter": "python",
   "pygments_lexer": "ipython3",
   "version": "3.9.17"
  }
 },
 "nbformat": 4,
 "nbformat_minor": 5
}
