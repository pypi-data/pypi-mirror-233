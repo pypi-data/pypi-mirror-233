{
 "cells": [
  {
   "cell_type": "code",
   "execution_count": 1,
   "metadata": {},
   "outputs": [],
   "source": [
    "from shapely.geometry import Point, GeometryCollection\n",
    "from hexcover.util import hexagon_coverage"
   ]
  },
  {
   "cell_type": "code",
   "execution_count": 2,
   "metadata": {},
   "outputs": [],
   "source": [
    "# central polygon\n",
    "c = Point(0.0, 0.0)\n",
    "# this is a namedtuple which will always contain 7 entries, the first one is the central polygon\n",
    "coverage = hexagon_coverage(c, 10)"
   ]
  },
  {
   "cell_type": "code",
   "execution_count": 3,
   "metadata": {},
   "outputs": [
    {
     "data": {
      "image/svg+xml": [
       "<svg xmlns=\"http://www.w3.org/2000/svg\" xmlns:xlink=\"http://www.w3.org/1999/xlink\" width=\"100.0\" height=\"100.0\" viewBox=\"-27.078460969082652 -28.05922308261581 54.156921938165304 56.11844616523162\" preserveAspectRatio=\"xMinYMin meet\"><g transform=\"matrix(1,0,0,-1,0,3.552713678800501e-15)\"><g><path fill-rule=\"evenodd\" fill=\"#66cc99\" stroke=\"#555555\" stroke-width=\"1.1223689233046323\" opacity=\"0.6\" d=\"M 10.0,0.0 L 5.000000000000001,8.660254037844386 L -4.999999999999998,8.660254037844389 L -10.0,1.2246467991473533e-15 L -5.000000000000004,-8.660254037844384 L 5.0,-8.660254037844386 L 10.0,0.0 z\" /><path fill-rule=\"evenodd\" fill=\"#66cc99\" stroke=\"#555555\" stroke-width=\"1.1223689233046323\" opacity=\"0.6\" d=\"M 10.0,17.32050807568877 L 5.000000000000001,25.980762113533157 L -4.999999999999998,25.98076211353316 L -10.0,17.32050807568877 L -5.000000000000004,8.660254037844387 L 5.0,8.660254037844386 L 10.0,17.32050807568877 z\" /><path fill-rule=\"evenodd\" fill=\"#66cc99\" stroke=\"#555555\" stroke-width=\"1.1223689233046323\" opacity=\"0.6\" d=\"M 25.0,8.660254037844386 L 20.0,17.32050807568877 L 10.000000000000002,17.320508075688775 L 5.0,8.660254037844387 L 9.999999999999996,1.7763568394002505e-15 L 20.0,0.0 L 25.0,8.660254037844386 z\" /><path fill-rule=\"evenodd\" fill=\"#66cc99\" stroke=\"#555555\" stroke-width=\"1.1223689233046323\" opacity=\"0.6\" d=\"M 25.0,-8.660254037844386 L 20.0,0.0 L 10.000000000000002,3.552713678800501e-15 L 5.0,-8.660254037844384 L 9.999999999999996,-17.32050807568877 L 20.0,-17.32050807568877 L 25.0,-8.660254037844386 z\" /><path fill-rule=\"evenodd\" fill=\"#66cc99\" stroke=\"#555555\" stroke-width=\"1.1223689233046323\" opacity=\"0.6\" d=\"M 10.0,-17.32050807568877 L 5.000000000000001,-8.660254037844386 L -4.999999999999998,-8.660254037844382 L -10.0,-17.32050807568877 L -5.000000000000004,-25.980762113533153 L 5.0,-25.980762113533157 L 10.0,-17.32050807568877 z\" /><path fill-rule=\"evenodd\" fill=\"#66cc99\" stroke=\"#555555\" stroke-width=\"1.1223689233046323\" opacity=\"0.6\" d=\"M -5.0,8.660254037844386 L -10.0,17.32050807568877 L -20.0,17.320508075688775 L -25.0,8.660254037844387 L -20.000000000000004,1.7763568394002505e-15 L -10.0,0.0 L -5.0,8.660254037844386 z\" /><path fill-rule=\"evenodd\" fill=\"#66cc99\" stroke=\"#555555\" stroke-width=\"1.1223689233046323\" opacity=\"0.6\" d=\"M -5.0,-8.660254037844386 L -10.0,0.0 L -20.0,3.552713678800501e-15 L -25.0,-8.660254037844384 L -20.000000000000004,-17.32050807568877 L -10.0,-17.32050807568877 L -5.0,-8.660254037844386 z\" /></g></g></svg>"
      ],
      "text/plain": [
       "<shapely.geometry.collection.GeometryCollection at 0x1095412b0>"
      ]
     },
     "execution_count": 3,
     "metadata": {},
     "output_type": "execute_result"
    }
   ],
   "source": [
    "GeometryCollection(coverage)"
   ]
  },
  {
   "cell_type": "markdown",
   "metadata": {},
   "source": [
    "We can refer to the entries by name:"
   ]
  },
  {
   "cell_type": "code",
   "execution_count": 4,
   "metadata": {},
   "outputs": [
    {
     "data": {
      "text/plain": [
       "(array('d', [-5.10510982814718e-16]), array('d', [1.021021965629436e-15]))"
      ]
     },
     "execution_count": 4,
     "metadata": {},
     "output_type": "execute_result"
    }
   ],
   "source": [
    "coverage.centre.centroid.xy"
   ]
  },
  {
   "cell_type": "markdown",
   "metadata": {},
   "source": [
    "…or by index:"
   ]
  },
  {
   "cell_type": "code",
   "execution_count": 5,
   "metadata": {},
   "outputs": [
    {
     "data": {
      "text/plain": [
       "(array('d', [-2.917205616084103e-16]), array('d', [-17.32050807568877]))"
      ]
     },
     "execution_count": 5,
     "metadata": {},
     "output_type": "execute_result"
    }
   ],
   "source": [
    "coverage[4].centroid.xy"
   ]
  },
  {
   "cell_type": "markdown",
   "metadata": {},
   "source": [
    "The docstring shows all available fields:"
   ]
  },
  {
   "cell_type": "code",
   "execution_count": 6,
   "metadata": {},
   "outputs": [
    {
     "data": {
      "text/plain": [
       "\u001b[0;31mType:\u001b[0m        Hexagons\n",
       "\u001b[0;31mString form:\u001b[0m Hexagons(centre=<shapely.geometry.polygon.Polygon object at 0x1067da320>, top=<shapely.geometry.p <...> Polygon object at 0x109541978>, topleft=<shapely.geometry.polygon.Polygon object at 0x1095419b0>)\n",
       "\u001b[0;31mLength:\u001b[0m      7\n",
       "\u001b[0;31mFile:\u001b[0m        ~/dev/hexcover/hexcover/util.py\n",
       "\u001b[0;31mDocstring:\u001b[0m   Hexagons(centre, top, topright, bottomright, bottom, bottomleft, topleft)\n"
      ]
     },
     "metadata": {},
     "output_type": "display_data"
    }
   ],
   "source": [
    "coverage?"
   ]
  },
  {
   "cell_type": "markdown",
   "metadata": {},
   "source": [
    "# GeoPandas example, real-world data"
   ]
  },
  {
   "cell_type": "code",
   "execution_count": 7,
   "metadata": {},
   "outputs": [],
   "source": [
    "import geopandas as gp"
   ]
  },
  {
   "cell_type": "markdown",
   "metadata": {},
   "source": [
    "This is the approximate location of the Crystal Palace Transmitting Station, in [BNG](https://epsg.io/27700) coordinates"
   ]
  },
  {
   "cell_type": "markdown",
   "metadata": {},
   "source": [
    "We're using Ordnance Survey National Grid coordinates as it's the projection in common use in Britain, and we need to work with projected data since this work involves the calculation of distances."
   ]
  },
  {
   "cell_type": "code",
   "execution_count": 8,
   "metadata": {},
   "outputs": [],
   "source": [
    "cpts = Point(533936.11, 171219.47)"
   ]
  },
  {
   "cell_type": "markdown",
   "metadata": {},
   "source": [
    "Calculate the hexagons, and create a `GeoSeries`"
   ]
  },
  {
   "cell_type": "markdown",
   "metadata": {},
   "source": [
    "The `GeoSeries` needs its coordinate reference system (CRS) to be set so we can convert back to WGS84, as [required by the GeoJSON spec](https://tools.ietf.org/html/rfc7946#section-4)"
   ]
  },
  {
   "cell_type": "code",
   "execution_count": 9,
   "metadata": {},
   "outputs": [],
   "source": [
    "# namedtuples are iterable, so we can use them in GeoSeries and GeoDataFrame constructors\n",
    "gs = gp.GeoSeries(hexagon_coverage(cpts, 100), crs={\"init\": \"epsg:27700\"})"
   ]
  },
  {
   "cell_type": "markdown",
   "metadata": {},
   "source": [
    "Temporarily set the CRS to WGS84 (EPSG 4326), and write out to GeoJSON"
   ]
  },
  {
   "cell_type": "code",
   "execution_count": 10,
   "metadata": {},
   "outputs": [],
   "source": [
    "gs.to_crs({\"init\": \"epsg:4326\"}).to_file(\"coverage.geojson\", driver=\"GeoJSON\")"
   ]
  },
  {
   "cell_type": "code",
   "execution_count": null,
   "metadata": {},
   "outputs": [],
   "source": []
  }
 ],
 "metadata": {
  "kernelspec": {
   "display_name": "Python 3",
   "language": "python",
   "name": "python3"
  },
  "language_info": {
   "codemirror_mode": {
    "name": "ipython",
    "version": 3
   },
   "file_extension": ".py",
   "mimetype": "text/x-python",
   "name": "python",
   "nbconvert_exporter": "python",
   "pygments_lexer": "ipython3",
   "version": "3.6.6"
  }
 },
 "nbformat": 4,
 "nbformat_minor": 4
}
