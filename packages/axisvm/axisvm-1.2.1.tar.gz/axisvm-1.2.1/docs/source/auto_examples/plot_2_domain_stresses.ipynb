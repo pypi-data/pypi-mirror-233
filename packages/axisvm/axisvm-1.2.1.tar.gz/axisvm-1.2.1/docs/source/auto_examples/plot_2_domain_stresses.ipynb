{
  "cells": [
    {
      "cell_type": "code",
      "execution_count": null,
      "metadata": {
        "collapsed": false
      },
      "outputs": [],
      "source": [
        "%matplotlib inline"
      ]
    },
    {
      "cell_type": "markdown",
      "metadata": {},
      "source": [
        "\n# Plot Domain Stresses with `Matplotlib`\n\nMake a 2d contour plot about the results of a domain. This example requires \nmatplotlib to be installed. The structure is a simply supported plate.\n"
      ]
    },
    {
      "cell_type": "code",
      "execution_count": null,
      "metadata": {
        "collapsed": false
      },
      "outputs": [],
      "source": [
        "from axisvm.com.client import start_AxisVM\nfrom axisvm import examples\nimport matplotlib.pyplot as plt\n\naxvm = start_AxisVM(visible=False, daemon=True)\naxvm.model = examples.download_plate_ss()\n\naxm = axvm.model\naxm.Calculation.LinearAnalysis()\n\nfig, ax = plt.subplots(figsize=(20, 4))\n\nmpl_kw = dict(cmap='rainbow', axis='on', offset=0., cbpad=0.5,\n              cbsize=0.3, cbpos='right', fig=fig, ax=ax)\n\naxm.Domains[1].plot_stresses(component='svm', mpl_kw=mpl_kw, case=1, z='t')"
      ]
    },
    {
      "cell_type": "code",
      "execution_count": null,
      "metadata": {
        "collapsed": false
      },
      "outputs": [],
      "source": [
        "axvm.Quit()"
      ]
    }
  ],
  "metadata": {
    "kernelspec": {
      "display_name": "Python 3",
      "language": "python",
      "name": "python3"
    },
    "language_info": {
      "codemirror_mode": {
        "name": "ipython",
        "version": 3
      },
      "file_extension": ".py",
      "mimetype": "text/x-python",
      "name": "python",
      "nbconvert_exporter": "python",
      "pygments_lexer": "ipython3",
      "version": "3.8.10"
    }
  },
  "nbformat": 4,
  "nbformat_minor": 0
}