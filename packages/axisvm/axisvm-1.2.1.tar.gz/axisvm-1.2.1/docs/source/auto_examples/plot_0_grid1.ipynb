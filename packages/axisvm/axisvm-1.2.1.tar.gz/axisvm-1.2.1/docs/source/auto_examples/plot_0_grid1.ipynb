{
  "cells": [
    {
      "cell_type": "code",
      "execution_count": null,
      "metadata": {
        "collapsed": false
      },
      "outputs": [],
      "source": [
        "%matplotlib inline"
      ]
    },
    {
      "cell_type": "markdown",
      "metadata": {},
      "source": [
        "\n# Screenshot\n\nMake and show a screenshot about AxisVM!\n"
      ]
    },
    {
      "cell_type": "code",
      "execution_count": null,
      "metadata": {
        "collapsed": false
      },
      "outputs": [],
      "source": [
        "from axisvm.com.client import start_AxisVM\nimport axisvm.com.tlb as axtlb\nfrom axisvm import examples\nimport matplotlib.pyplot as plt\n\naxvm = start_AxisVM(visible=True, daemon=True)\naxvm.model = examples.download_bernoulli_grid()\n\naxm = axvm.model\naxm.Calculation.LinearAnalysis()\n\n# turn off the grid\nGridOptions = axtlb.RGridOptions(DisplayGrid=False)\naxm.Settings.SetGridOptions(GridOptions)\n\naxvm.BringToFront()\naxm.View = axtlb.vFront\naxvm.MainFormTab = axtlb.mftGeometry\naxm.FitInView()\nplt.imshow(axm.Windows[1].screenshot())"
      ]
    },
    {
      "cell_type": "code",
      "execution_count": null,
      "metadata": {
        "collapsed": false
      },
      "outputs": [],
      "source": [
        "axvm.Quit()"
      ]
    }
  ],
  "metadata": {
    "kernelspec": {
      "display_name": "Python 3",
      "language": "python",
      "name": "python3"
    },
    "language_info": {
      "codemirror_mode": {
        "name": "ipython",
        "version": 3
      },
      "file_extension": ".py",
      "mimetype": "text/x-python",
      "name": "python",
      "nbconvert_exporter": "python",
      "pygments_lexer": "ipython3",
      "version": "3.8.10"
    }
  },
  "nbformat": 4,
  "nbformat_minor": 0
}