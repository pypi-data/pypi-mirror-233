{
 "cells": [
  {
   "cell_type": "markdown",
   "id": "a8602dd6-12b9-4ebf-a217-4cddca954cea",
   "metadata": {},
   "source": [
    "# Test on Independent High-dimensional Data\n",
    "\n"
   ]
  },
  {
   "cell_type": "code",
   "execution_count": 15,
   "id": "ad09a023-04db-4748-bfe8-1ec34bc83061",
   "metadata": {},
   "outputs": [],
   "source": [
    "from collections import defaultdict\n",
    "\n",
    "import matplotlib.pyplot as plt\n",
    "import numpy as np\n",
    "import pandas as pd\n",
    "import seaborn as sns\n",
    "from scipy.special import expit\n",
    "\n",
    "from sktree import RandomForestClassifier, RandomForestRegressor\n",
    "from sktree.stats import (\n",
    "    FeatureImportanceForestClassifier,\n",
    "    FeatureImportanceForestRegressor,\n",
    "    PermutationForestRegressor,\n",
    ")\n",
    "\n",
    "seed = 12345"
   ]
  },
  {
   "cell_type": "code",
   "execution_count": 16,
   "id": "91b2f4e9-b4df-4ff0-9e99-dc9a68ebc62c",
   "metadata": {},
   "outputs": [
    {
     "name": "stdout",
     "output_type": "stream",
     "text": [
      "The autoreload extension is already loaded. To reload it, use:\n",
      "  %reload_ext autoreload\n"
     ]
    }
   ],
   "source": [
    "%load_ext autoreload\n",
    "%autoreload 2"
   ]
  },
  {
   "cell_type": "code",
   "execution_count": 31,
   "id": "72786cc7-68dd-49ca-be3d-b380eabc551e",
   "metadata": {},
   "outputs": [],
   "source": [
    "rng = np.random.default_rng(seed)"
   ]
  },
  {
   "cell_type": "code",
   "execution_count": 32,
   "id": "fa105af9-f0b6-4fbe-9d91-8b2a5493593a",
   "metadata": {},
   "outputs": [],
   "source": [
    "n_samples = 600\n",
    "n_features = 500\n",
    "\n",
    "n_estimators = 125\n",
    "n_jobs = -1\n",
    "max_features = \"sqrt\"\n",
    "test_size = 1.0 / 6\n",
    "metric = \"mse\"\n",
    "n_repeats = 500\n",
    "permute_per_tree = False\n",
    "sample_dataset_per_tree = False"
   ]
  },
  {
   "cell_type": "markdown",
   "id": "be324da0-524f-4eaa-9fa1-dbad27058dbc",
   "metadata": {},
   "source": [
    "# Run Pvalue Computation Over Many Instances"
   ]
  },
  {
   "cell_type": "code",
   "execution_count": 35,
   "id": "560b27ff-26a1-45af-98d8-f2b4ac3c0c70",
   "metadata": {},
   "outputs": [],
   "source": [
    "permute_per_tree = True\n",
    "sample_dataset_per_tree = True\n",
    "\n",
    "\n",
    "# initialize hypothesis tester\n",
    "est = FeatureImportanceForestClassifier(\n",
    "    RandomForestClassifier(\n",
    "        max_features=1.0,\n",
    "        # random_state=seed,\n",
    "        n_estimators=n_estimators,\n",
    "        n_jobs=-1,\n",
    "    ),\n",
    "    test_size=test_size,\n",
    "    permute_per_tree=permute_per_tree,\n",
    "    sample_dataset_per_tree=sample_dataset_per_tree,\n",
    ")"
   ]
  },
  {
   "cell_type": "code",
   "execution_count": null,
   "id": "3b53a9ec-befb-471a-9a44-681bbd86b31b",
   "metadata": {},
   "outputs": [],
   "source": [
    "stats = []\n",
    "pvalues = []\n",
    "\n",
    "for idx in range(500):\n",
    "    X = rng.standard_normal(size=(n_samples, n_features))\n",
    "    y = rng.binomial(1, 0.5, size=n_samples)  # .reshape(-1, 1)\n",
    "    stat, pvalue = est.test(X, y, covariate_index=[0], metric=\"mi\")\n",
    "    est.reset()\n",
    "\n",
    "    stats.append(stat)\n",
    "    pvalues.append(pvalue)"
   ]
  },
  {
   "cell_type": "code",
   "execution_count": null,
   "id": "ff616595-bad5-4845-94b9-713c11dc5745",
   "metadata": {},
   "outputs": [],
   "source": [
    "plt.plot(pvalues)"
   ]
  },
  {
   "cell_type": "code",
   "execution_count": null,
   "id": "cdf6ee7b-8ab5-4abd-af46-63e5889a7baf",
   "metadata": {},
   "outputs": [],
   "source": [
    "permute_per_tree = False\n",
    "sample_dataset_per_tree = False\n",
    "\n",
    "# initialize hypothesis tester\n",
    "est = FeatureImportanceForestClassifier(\n",
    "    RandomForestClassifier(\n",
    "        max_features=1.0,\n",
    "        n_estimators=n_estimators,\n",
    "        n_jobs=-1,\n",
    "    ),\n",
    "    test_size=test_size,\n",
    "    permute_per_tree=permute_per_tree,\n",
    "    sample_dataset_per_tree=sample_dataset_per_tree,\n",
    ")"
   ]
  },
  {
   "cell_type": "code",
   "execution_count": null,
   "id": "c4569a24-4b12-4266-8d6c-7e740737c59f",
   "metadata": {},
   "outputs": [],
   "source": [
    "stats = []\n",
    "pvalues = []\n",
    "\n",
    "for idx in range(500):\n",
    "    X = rng.standard_normal(size=(n_samples, n_features))\n",
    "    y = rng.binomial(1, 0.5, size=n_samples)  # .reshape(-1, 1)\n",
    "    stat, pvalue = est.test(X, y, covariate_index=[0], metric=\"mi\")\n",
    "    est.reset()\n",
    "\n",
    "    stats.append(stat)\n",
    "    pvalues.append(pvalue)"
   ]
  },
  {
   "cell_type": "code",
   "execution_count": null,
   "id": "2da6a320-605a-40d6-9f8f-1aa1ff03110e",
   "metadata": {},
   "outputs": [],
   "source": [
    "plt.plot(pvalues, \"x\")"
   ]
  },
  {
   "cell_type": "code",
   "execution_count": null,
   "id": "42ecee87-31b9-4c52-b867-348569050142",
   "metadata": {},
   "outputs": [],
   "source": [
    "permute_per_tree = True\n",
    "sample_dataset_per_tree = False\n",
    "\n",
    "rng = np.random.default_rng(seed)\n",
    "\n",
    "# initialize hypothesis tester\n",
    "est = FeatureImportanceForestClassifier(\n",
    "    RandomForestClassifier(\n",
    "        max_features=1.0,\n",
    "        # random_state=seed,\n",
    "        n_estimators=n_estimators,\n",
    "        n_jobs=-1,\n",
    "    ),\n",
    "    # random_state=seed,\n",
    "    test_size=test_size,\n",
    "    permute_per_tree=permute_per_tree,\n",
    "    sample_dataset_per_tree=sample_dataset_per_tree,\n",
    ")"
   ]
  },
  {
   "cell_type": "code",
   "execution_count": null,
   "id": "d2193297-b494-4cc4-8cf9-ea2f209e907b",
   "metadata": {},
   "outputs": [],
   "source": [
    "stats = []\n",
    "pvalues = []\n",
    "\n",
    "for idx in range(500):\n",
    "    X = rng.standard_normal(size=(n_samples, n_features))\n",
    "    y = rng.binomial(1, 0.5, size=n_samples)  # .reshape(-1, 1)\n",
    "    stat, pvalue = est.test(X, y, covariate_index=[0], metric=\"mi\")\n",
    "    est.reset()\n",
    "\n",
    "    stats.append(stat)\n",
    "    pvalues.append(pvalue)"
   ]
  },
  {
   "cell_type": "code",
   "execution_count": null,
   "id": "65cfa941-9009-430f-a709-02a781db18f0",
   "metadata": {},
   "outputs": [],
   "source": [
    "plt.plot(pvalues, \"x\")"
   ]
  },
  {
   "cell_type": "code",
   "execution_count": null,
   "id": "2c4c4933-9735-4660-917f-641be99bf48a",
   "metadata": {},
   "outputs": [],
   "source": [
    "permute_per_tree = False\n",
    "sample_dataset_per_tree = True\n",
    "\n",
    "rng = np.random.default_rng(seed)\n",
    "\n",
    "# initialize hypothesis tester\n",
    "est = FeatureImportanceForestClassifier(\n",
    "    RandomForestClassifier(\n",
    "        max_features=1.0,\n",
    "        # random_state=seed,\n",
    "        n_estimators=n_estimators,\n",
    "        n_jobs=-1,\n",
    "    ),\n",
    "    # random_state=seed,\n",
    "    test_size=test_size,\n",
    "    permute_per_tree=permute_per_tree,\n",
    "    sample_dataset_per_tree=sample_dataset_per_tree,\n",
    ")"
   ]
  },
  {
   "cell_type": "code",
   "execution_count": null,
   "id": "2beb63bf-77e3-43bc-8259-f6e8a149825d",
   "metadata": {},
   "outputs": [],
   "source": [
    "stats = []\n",
    "pvalues = []\n",
    "\n",
    "for idx in range(500):\n",
    "    X = rng.standard_normal(size=(n_samples, n_features))\n",
    "    y = rng.binomial(1, 0.5, size=n_samples)  # .reshape(-1, 1)\n",
    "    stat, pvalue = est.test(X, y, covariate_index=[0], metric=\"mi\")\n",
    "    est.reset()\n",
    "\n",
    "    stats.append(stat)\n",
    "    pvalues.append(pvalue)"
   ]
  },
  {
   "cell_type": "code",
   "execution_count": null,
   "id": "54654a10-40ff-44b0-9015-c97d34e00dd9",
   "metadata": {},
   "outputs": [],
   "source": [
    "plt.plot(pvalues, \"x\")"
   ]
  },
  {
   "cell_type": "code",
   "execution_count": null,
   "id": "37269289-a50d-4a7d-ae32-cde44e38ae97",
   "metadata": {},
   "outputs": [],
   "source": []
  }
 ],
 "metadata": {
  "kernelspec": {
   "display_name": "sktree",
   "language": "python",
   "name": "sktree"
  },
  "language_info": {
   "codemirror_mode": {
    "name": "ipython",
    "version": 3
   },
   "file_extension": ".py",
   "mimetype": "text/x-python",
   "name": "python",
   "nbconvert_exporter": "python",
   "pygments_lexer": "ipython3",
   "version": "3.9.15"
  }
 },
 "nbformat": 4,
 "nbformat_minor": 5
}
